{
 "cells": [
  {
   "cell_type": "code",
   "execution_count": null,
   "id": "40746804",
   "metadata": {},
   "outputs": [],
   "source": [
    "import pandas as pd\n",
    "import folium\n",
    "from folium.plugins import StripePattern\n",
    "import geopandas as gpd\n",
    "import numpy as np\n",
    "import json"
   ]
  },
  {
   "cell_type": "code",
   "execution_count": null,
   "id": "101fa295",
   "metadata": {},
   "outputs": [],
   "source": [
    "df = pd.read_csv(\"./nota_temp.csv\",dtype={\"State\": str})\n",
    "df.head()"
   ]
  },
  {
   "cell_type": "code",
   "execution_count": null,
   "id": "a29f59c7",
   "metadata": {},
   "outputs": [],
   "source": [
    "with open('./India_States.geojson') as f:\n",
    "    gj = json.load(f)\n",
    "features = gj['features'][0]"
   ]
  },
  {
   "cell_type": "code",
   "execution_count": null,
   "id": "ac169c3e",
   "metadata": {},
   "outputs": [],
   "source": [
    "geo_df=gpd.read_file('./India_States.geojson')\n",
    "geo_df.head(5)"
   ]
  },
  {
   "cell_type": "code",
   "execution_count": null,
   "id": "79caaa66",
   "metadata": {},
   "outputs": [],
   "source": [
    "merged=geo_df.merge(df, on='ST_NM')\n",
    "merged"
   ]
  },
  {
   "cell_type": "code",
   "execution_count": null,
   "id": "e406bbd0",
   "metadata": {},
   "outputs": [],
   "source": [
    "import branca\n",
    "\n",
    "# Create a white image of 4 pixels, and embed it in a url.\n",
    "white_tile = branca.utilities.image_to_url([[1, 1], [1, 1]])\n",
    "\n",
    "m = folium.Map(location=[28.5354, 77.2420], zoom_start=4,tiles=white_tile, attr=\"white tile\")\n",
    "\n",
    "m"
   ]
  },
  {
   "cell_type": "code",
   "execution_count": null,
   "id": "aa688976",
   "metadata": {},
   "outputs": [],
   "source": [
    "c= folium.Choropleth(\n",
    "geo_data=merged,\n",
    "data=merged,\n",
    "columns=['ST_NM',\"Value\"],\n",
    "key_on=\"feature.properties.ST_NM\",\n",
    "fill_color='YlGnBu',\n",
    "fill_opacity=1,\n",
    "line_opacity=0.3,\n",
    "legend_name=\"Value\",\n",
    "smooth_factor=0,\n",
    "Highlight= True,\n",
    "line_color = \"#0000\",\n",
    "name = \"Value\",\n",
    "show=False,\n",
    "overlay=True,\n",
    "nan_fill_color = \"grey\"\n",
    ")\n",
    "\n",
    "for key in c._children:\n",
    "    if key.startswith('color_map'):\n",
    "        del(c._children[key])\n",
    "        \n",
    "c.add_to(m)\n",
    "\n",
    "m"
   ]
  },
  {
   "cell_type": "code",
   "execution_count": null,
   "id": "1e87ae28",
   "metadata": {},
   "outputs": [],
   "source": [
    "import folium \n",
    "import folium.colormap as cm\n",
    "step = cm.StepColormap(['green','yellow','red'], vmin=3., vmax=10., index=[3,4,8,10], caption='step')\n",
    "step"
   ]
  },
  {
   "cell_type": "code",
   "execution_count": null,
   "id": "a1ba75fc",
   "metadata": {},
   "outputs": [],
   "source": [
    "m.save('map.html')"
   ]
  },
  {
   "cell_type": "code",
   "execution_count": null,
   "id": "a14f8c05",
   "metadata": {},
   "outputs": [],
   "source": []
  }
 ],
 "metadata": {
  "kernelspec": {
   "display_name": "Python 3",
   "language": "python",
   "name": "python3"
  },
  "language_info": {
   "codemirror_mode": {
    "name": "ipython",
    "version": 3
   },
   "file_extension": ".py",
   "mimetype": "text/x-python",
   "name": "python",
   "nbconvert_exporter": "python",
   "pygments_lexer": "ipython3",
   "version": "3.8.8"
  }
 },
 "nbformat": 4,
 "nbformat_minor": 5
}
