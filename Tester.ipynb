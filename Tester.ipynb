{
 "cells": [
  {
   "cell_type": "code",
   "execution_count": 1,
   "id": "54e915d1",
   "metadata": {},
   "outputs": [],
   "source": [
    "import pandas as pd\n",
    "import numpy as np\n",
    "import geopandas as gpd\n",
    "import matplotlib.pyplot as plt\n",
    "import pandas as pd\n",
    "import plotly.express as px\n",
    "import plotly.graph_objects as go\n",
    "import json"
   ]
  },
  {
   "cell_type": "code",
   "execution_count": 2,
   "id": "1a2b8c62",
   "metadata": {},
   "outputs": [
    {
     "ename": "DriverError",
     "evalue": "./Admin2.shp: No such file or directory",
     "output_type": "error",
     "traceback": [
      "\u001b[0;31m---------------------------------------------------------------------------\u001b[0m",
      "\u001b[0;31mCPLE_OpenFailedError\u001b[0m                      Traceback (most recent call last)",
      "\u001b[0;32mfiona/_shim.pyx\u001b[0m in \u001b[0;36mfiona._shim.gdal_open_vector\u001b[0;34m()\u001b[0m\n",
      "\u001b[0;32mfiona/_err.pyx\u001b[0m in \u001b[0;36mfiona._err.exc_wrap_pointer\u001b[0;34m()\u001b[0m\n",
      "\u001b[0;31mCPLE_OpenFailedError\u001b[0m: ./Admin2.shp: No such file or directory",
      "\nDuring handling of the above exception, another exception occurred:\n",
      "\u001b[0;31mDriverError\u001b[0m                               Traceback (most recent call last)",
      "\u001b[0;32m<ipython-input-2-609218eecfb1>\u001b[0m in \u001b[0;36m<module>\u001b[0;34m\u001b[0m\n\u001b[1;32m      1\u001b[0m \u001b[0mfp\u001b[0m \u001b[0;34m=\u001b[0m \u001b[0;34m\"./Admin2.shp\"\u001b[0m\u001b[0;34m\u001b[0m\u001b[0;34m\u001b[0m\u001b[0m\n\u001b[0;32m----> 2\u001b[0;31m \u001b[0mmap_df\u001b[0m \u001b[0;34m=\u001b[0m \u001b[0mgpd\u001b[0m\u001b[0;34m.\u001b[0m\u001b[0mread_file\u001b[0m\u001b[0;34m(\u001b[0m\u001b[0mfp\u001b[0m\u001b[0;34m)\u001b[0m\u001b[0;34m\u001b[0m\u001b[0;34m\u001b[0m\u001b[0m\n\u001b[0m\u001b[1;32m      3\u001b[0m \u001b[0;31m# check the GeoDataframe\u001b[0m\u001b[0;34m\u001b[0m\u001b[0;34m\u001b[0m\u001b[0;34m\u001b[0m\u001b[0m\n\u001b[1;32m      4\u001b[0m \u001b[0mmap_df\u001b[0m\u001b[0;34m.\u001b[0m\u001b[0mhead\u001b[0m\u001b[0;34m(\u001b[0m\u001b[0;34m)\u001b[0m\u001b[0;34m\u001b[0m\u001b[0;34m\u001b[0m\u001b[0m\n",
      "\u001b[0;32m~/anaconda3/lib/python3.8/site-packages/geopandas/io/file.py\u001b[0m in \u001b[0;36m_read_file\u001b[0;34m(filename, bbox, mask, rows, **kwargs)\u001b[0m\n\u001b[1;32m    199\u001b[0m \u001b[0;34m\u001b[0m\u001b[0m\n\u001b[1;32m    200\u001b[0m     \u001b[0;32mwith\u001b[0m \u001b[0mfiona_env\u001b[0m\u001b[0;34m(\u001b[0m\u001b[0;34m)\u001b[0m\u001b[0;34m:\u001b[0m\u001b[0;34m\u001b[0m\u001b[0;34m\u001b[0m\u001b[0m\n\u001b[0;32m--> 201\u001b[0;31m         \u001b[0;32mwith\u001b[0m \u001b[0mreader\u001b[0m\u001b[0;34m(\u001b[0m\u001b[0mpath_or_bytes\u001b[0m\u001b[0;34m,\u001b[0m \u001b[0;34m**\u001b[0m\u001b[0mkwargs\u001b[0m\u001b[0;34m)\u001b[0m \u001b[0;32mas\u001b[0m \u001b[0mfeatures\u001b[0m\u001b[0;34m:\u001b[0m\u001b[0;34m\u001b[0m\u001b[0;34m\u001b[0m\u001b[0m\n\u001b[0m\u001b[1;32m    202\u001b[0m \u001b[0;34m\u001b[0m\u001b[0m\n\u001b[1;32m    203\u001b[0m             \u001b[0;31m# In a future Fiona release the crs attribute of features will\u001b[0m\u001b[0;34m\u001b[0m\u001b[0;34m\u001b[0m\u001b[0;34m\u001b[0m\u001b[0m\n",
      "\u001b[0;32m~/anaconda3/lib/python3.8/site-packages/fiona/env.py\u001b[0m in \u001b[0;36mwrapper\u001b[0;34m(*args, **kwargs)\u001b[0m\n\u001b[1;32m    406\u001b[0m     \u001b[0;32mdef\u001b[0m \u001b[0mwrapper\u001b[0m\u001b[0;34m(\u001b[0m\u001b[0;34m*\u001b[0m\u001b[0margs\u001b[0m\u001b[0;34m,\u001b[0m \u001b[0;34m**\u001b[0m\u001b[0mkwargs\u001b[0m\u001b[0;34m)\u001b[0m\u001b[0;34m:\u001b[0m\u001b[0;34m\u001b[0m\u001b[0;34m\u001b[0m\u001b[0m\n\u001b[1;32m    407\u001b[0m         \u001b[0;32mif\u001b[0m \u001b[0mlocal\u001b[0m\u001b[0;34m.\u001b[0m\u001b[0m_env\u001b[0m\u001b[0;34m:\u001b[0m\u001b[0;34m\u001b[0m\u001b[0;34m\u001b[0m\u001b[0m\n\u001b[0;32m--> 408\u001b[0;31m             \u001b[0;32mreturn\u001b[0m \u001b[0mf\u001b[0m\u001b[0;34m(\u001b[0m\u001b[0;34m*\u001b[0m\u001b[0margs\u001b[0m\u001b[0;34m,\u001b[0m \u001b[0;34m**\u001b[0m\u001b[0mkwargs\u001b[0m\u001b[0;34m)\u001b[0m\u001b[0;34m\u001b[0m\u001b[0;34m\u001b[0m\u001b[0m\n\u001b[0m\u001b[1;32m    409\u001b[0m         \u001b[0;32melse\u001b[0m\u001b[0;34m:\u001b[0m\u001b[0;34m\u001b[0m\u001b[0;34m\u001b[0m\u001b[0m\n\u001b[1;32m    410\u001b[0m             \u001b[0;32mif\u001b[0m \u001b[0misinstance\u001b[0m\u001b[0;34m(\u001b[0m\u001b[0margs\u001b[0m\u001b[0;34m[\u001b[0m\u001b[0;36m0\u001b[0m\u001b[0;34m]\u001b[0m\u001b[0;34m,\u001b[0m \u001b[0mstr\u001b[0m\u001b[0;34m)\u001b[0m\u001b[0;34m:\u001b[0m\u001b[0;34m\u001b[0m\u001b[0;34m\u001b[0m\u001b[0m\n",
      "\u001b[0;32m~/anaconda3/lib/python3.8/site-packages/fiona/__init__.py\u001b[0m in \u001b[0;36mopen\u001b[0;34m(fp, mode, driver, schema, crs, encoding, layer, vfs, enabled_drivers, crs_wkt, **kwargs)\u001b[0m\n\u001b[1;32m    262\u001b[0m \u001b[0;34m\u001b[0m\u001b[0m\n\u001b[1;32m    263\u001b[0m         \u001b[0;32mif\u001b[0m \u001b[0mmode\u001b[0m \u001b[0;32min\u001b[0m \u001b[0;34m(\u001b[0m\u001b[0;34m'a'\u001b[0m\u001b[0;34m,\u001b[0m \u001b[0;34m'r'\u001b[0m\u001b[0;34m)\u001b[0m\u001b[0;34m:\u001b[0m\u001b[0;34m\u001b[0m\u001b[0;34m\u001b[0m\u001b[0m\n\u001b[0;32m--> 264\u001b[0;31m             c = Collection(path, mode, driver=driver, encoding=encoding,\n\u001b[0m\u001b[1;32m    265\u001b[0m                            layer=layer, enabled_drivers=enabled_drivers, **kwargs)\n\u001b[1;32m    266\u001b[0m         \u001b[0;32melif\u001b[0m \u001b[0mmode\u001b[0m \u001b[0;34m==\u001b[0m \u001b[0;34m'w'\u001b[0m\u001b[0;34m:\u001b[0m\u001b[0;34m\u001b[0m\u001b[0;34m\u001b[0m\u001b[0m\n",
      "\u001b[0;32m~/anaconda3/lib/python3.8/site-packages/fiona/collection.py\u001b[0m in \u001b[0;36m__init__\u001b[0;34m(self, path, mode, driver, schema, crs, encoding, layer, vsi, archive, enabled_drivers, crs_wkt, ignore_fields, ignore_geometry, **kwargs)\u001b[0m\n\u001b[1;32m    160\u001b[0m             \u001b[0;32mif\u001b[0m \u001b[0mself\u001b[0m\u001b[0;34m.\u001b[0m\u001b[0mmode\u001b[0m \u001b[0;34m==\u001b[0m \u001b[0;34m'r'\u001b[0m\u001b[0;34m:\u001b[0m\u001b[0;34m\u001b[0m\u001b[0;34m\u001b[0m\u001b[0m\n\u001b[1;32m    161\u001b[0m                 \u001b[0mself\u001b[0m\u001b[0;34m.\u001b[0m\u001b[0msession\u001b[0m \u001b[0;34m=\u001b[0m \u001b[0mSession\u001b[0m\u001b[0;34m(\u001b[0m\u001b[0;34m)\u001b[0m\u001b[0;34m\u001b[0m\u001b[0;34m\u001b[0m\u001b[0m\n\u001b[0;32m--> 162\u001b[0;31m                 \u001b[0mself\u001b[0m\u001b[0;34m.\u001b[0m\u001b[0msession\u001b[0m\u001b[0;34m.\u001b[0m\u001b[0mstart\u001b[0m\u001b[0;34m(\u001b[0m\u001b[0mself\u001b[0m\u001b[0;34m,\u001b[0m \u001b[0;34m**\u001b[0m\u001b[0mkwargs\u001b[0m\u001b[0;34m)\u001b[0m\u001b[0;34m\u001b[0m\u001b[0;34m\u001b[0m\u001b[0m\n\u001b[0m\u001b[1;32m    163\u001b[0m             \u001b[0;32melif\u001b[0m \u001b[0mself\u001b[0m\u001b[0;34m.\u001b[0m\u001b[0mmode\u001b[0m \u001b[0;32min\u001b[0m \u001b[0;34m(\u001b[0m\u001b[0;34m'a'\u001b[0m\u001b[0;34m,\u001b[0m \u001b[0;34m'w'\u001b[0m\u001b[0;34m)\u001b[0m\u001b[0;34m:\u001b[0m\u001b[0;34m\u001b[0m\u001b[0;34m\u001b[0m\u001b[0m\n\u001b[1;32m    164\u001b[0m                 \u001b[0mself\u001b[0m\u001b[0;34m.\u001b[0m\u001b[0msession\u001b[0m \u001b[0;34m=\u001b[0m \u001b[0mWritingSession\u001b[0m\u001b[0;34m(\u001b[0m\u001b[0;34m)\u001b[0m\u001b[0;34m\u001b[0m\u001b[0;34m\u001b[0m\u001b[0m\n",
      "\u001b[0;32mfiona/ogrext.pyx\u001b[0m in \u001b[0;36mfiona.ogrext.Session.start\u001b[0;34m()\u001b[0m\n",
      "\u001b[0;32mfiona/_shim.pyx\u001b[0m in \u001b[0;36mfiona._shim.gdal_open_vector\u001b[0;34m()\u001b[0m\n",
      "\u001b[0;31mDriverError\u001b[0m: ./Admin2.shp: No such file or directory"
     ]
    }
   ],
   "source": [
    "fp = \"./Admin2.shp\"\n",
    "map_df = gpd.read_file(fp)\n",
    "# check the GeoDataframe\n",
    "map_df.head()"
   ]
  },
  {
   "cell_type": "code",
   "execution_count": null,
   "id": "6db44c82",
   "metadata": {},
   "outputs": [],
   "source": [
    "map_df = gpd.read_file('./India_States_1.json')\n",
    "map_df=map_df.to_json()\n",
    "map_df"
   ]
  },
  {
   "cell_type": "code",
   "execution_count": null,
   "id": "879239e4",
   "metadata": {},
   "outputs": [],
   "source": [
    "nota= pd.read_csv(\"nota_temp.csv\")"
   ]
  },
  {
   "cell_type": "code",
   "execution_count": null,
   "id": "b86c54d8",
   "metadata": {},
   "outputs": [],
   "source": [
    "merged = map_df.merge(nota, how='left', on=\"ST_NM\")\n",
    "# merged['Value']=merged['Value'].mask(merged['Value'].isnull()==True,-1)\n",
    "merged.head(1)"
   ]
  },
  {
   "cell_type": "code",
   "execution_count": null,
   "id": "8ca61fde",
   "metadata": {},
   "outputs": [],
   "source": [
    "variable = 'Value'\n",
    "vmin, vmax = 0, 100\n",
    "\n",
    "fig, ax = plt.subplots(1, figsize=(30, 10))\n",
    "# remove the axis\n",
    "ax.axis('off')\n",
    "\n",
    "ax.set_title('', fontsize=25, fontweight=3)\n",
    "sm = plt.cm.ScalarMappable(cmap='Blues', norm=plt.Normalize(vmin=vmin, vmax=vmax))\n",
    "sm.set_array([]) \n",
    "fig.colorbar(sm)\n",
    "             \n",
    "merged.plot(column=variable, cmap='Blues', linewidth=0.8, ax=ax, edgecolor='0.8')\n",
    "\n",
    "# Add Labels\n",
    "merged['coords'] = merged['geometry'].apply(lambda x: x.representative_point().coords[:])\n",
    "merged['coords'] = [coords[0] for coords in merged['coords']]\n",
    "\n",
    "states=['Manipur','Punjab','Uttarakhand','Goa','Uttar Pradesh']\n",
    "\n",
    "for idx, row in merged.iterrows():\n",
    "    \n",
    "    if row['ST_NM'] in states:\n",
    "        plt.annotate(s=row['Value'], xy=row['coords'],horizontalalignment='center')"
   ]
  },
  {
   "cell_type": "code",
   "execution_count": null,
   "id": "e5803e60",
   "metadata": {},
   "outputs": [],
   "source": [
    "df1=pd.read_csv('Consolidated_AE_mastersheet.csv')\n",
    "states=['Goa','Manipur','Punjab','Uttar_Pradesh','Uttarakhand']\n",
    "df1=df1[df1['State_Name'].isin(states)]"
   ]
  },
  {
   "cell_type": "code",
   "execution_count": null,
   "id": "ccb2d1c3",
   "metadata": {},
   "outputs": [],
   "source": [
    "df=df1[df1['Party']=='NOTA']\n",
    "df.groupby(['State_Name','Year'])['Assembly_No'].unique()"
   ]
  },
  {
   "cell_type": "code",
   "execution_count": null,
   "id": "1f0b86df",
   "metadata": {},
   "outputs": [],
   "source": [
    "df1.groupby(['State_Name'])['Assembly_No'].max()"
   ]
  },
  {
   "cell_type": "code",
   "execution_count": null,
   "id": "fe8df635",
   "metadata": {},
   "outputs": [],
   "source": [
    "#find the last assembly for every state\n",
    "df.groupby(['State_Name'])['Assembly_No'].unique()"
   ]
  },
  {
   "cell_type": "code",
   "execution_count": null,
   "id": "eb073005",
   "metadata": {},
   "outputs": [],
   "source": [
    "target_assembly=pd.DataFrame({'State_Name':df.groupby(['State_Name'])['Assembly_No'].unique().index,'Assembly_No':df.groupby(['State_Name'])['Assembly_No'].unique().values})"
   ]
  },
  {
   "cell_type": "code",
   "execution_count": null,
   "id": "13ac322f",
   "metadata": {},
   "outputs": [],
   "source": [
    "target_assembly"
   ]
  },
  {
   "cell_type": "code",
   "execution_count": null,
   "id": "a77ebc39",
   "metadata": {},
   "outputs": [],
   "source": [
    "df.groupby(['State_Name','Assembly_No','Year'])['Votes'].sum()"
   ]
  },
  {
   "cell_type": "code",
   "execution_count": null,
   "id": "870770d9",
   "metadata": {},
   "outputs": [],
   "source": [
    "df2=df.groupby(['State_Name','Assembly_No','Year'])['Votes'].sum()"
   ]
  },
  {
   "cell_type": "code",
   "execution_count": null,
   "id": "ea802065",
   "metadata": {},
   "outputs": [],
   "source": [
    "df2= df2.reset_index()\n",
    "df2"
   ]
  },
  {
   "cell_type": "code",
   "execution_count": null,
   "id": "a20a690d",
   "metadata": {},
   "outputs": [],
   "source": [
    "df3=df.groupby(['State_Name','Assembly_No','Year'])['Valid_Votes'].sum()\n",
    "df3= df3.reset_index()\n",
    "df3"
   ]
  },
  {
   "cell_type": "code",
   "execution_count": null,
   "id": "a5f97985",
   "metadata": {},
   "outputs": [],
   "source": [
    "merged_nota=df3.merge(df2,how='left',on=['State_Name','Assembly_No','Year'])"
   ]
  },
  {
   "cell_type": "code",
   "execution_count": null,
   "id": "8c45e801",
   "metadata": {},
   "outputs": [],
   "source": [
    "merged_nota['Percentage']=np.nan\n",
    "merged_nota['Percentage']=merged_nota['Votes']*100/merged_nota['Valid_Votes']"
   ]
  },
  {
   "cell_type": "code",
   "execution_count": null,
   "id": "6292f729",
   "metadata": {},
   "outputs": [],
   "source": [
    "merged_nota"
   ]
  },
  {
   "cell_type": "code",
   "execution_count": null,
   "id": "db5e957e",
   "metadata": {},
   "outputs": [],
   "source": [
    "dp=df1[df1['Party']!='NOTA']\n",
    "len(df1),len(dp)"
   ]
  },
  {
   "cell_type": "code",
   "execution_count": null,
   "id": "aaf1695d",
   "metadata": {},
   "outputs": [],
   "source": [
    "df4=dp.groupby(['State_Name','Assembly_No'])['Party'].unique().str.len()\n",
    "df4=df4.reset_index()"
   ]
  },
  {
   "cell_type": "code",
   "execution_count": null,
   "id": "b3f12852",
   "metadata": {},
   "outputs": [],
   "source": [
    "df5=dp.groupby(['State_Name','Assembly_No'])['Party_ID'].unique().str.len()\n",
    "df5=df5.reset_index()"
   ]
  },
  {
   "cell_type": "code",
   "execution_count": null,
   "id": "75aadd42",
   "metadata": {},
   "outputs": [],
   "source": [
    "merged_party=df4.merge(df5,how='left',on=['State_Name','Assembly_No'])"
   ]
  },
  {
   "cell_type": "code",
   "execution_count": null,
   "id": "11ce6309",
   "metadata": {},
   "outputs": [],
   "source": [
    "merged_party['Diff']=np.nan\n",
    "merged_party['Diff']=merged_party['Party']-merged_party['Party_ID']\n",
    "merged_party[merged_party['Diff']>0]"
   ]
  },
  {
   "cell_type": "code",
   "execution_count": null,
   "id": "02028564",
   "metadata": {},
   "outputs": [],
   "source": [
    "merged_party['Diff'].unique()"
   ]
  },
  {
   "cell_type": "code",
   "execution_count": null,
   "id": "e72ddef7",
   "metadata": {},
   "outputs": [],
   "source": [
    "d_year=df1.groupby(['State_Name','Assembly_No','Poll_No'])['Year'].unique()\n",
    "d_year=d_year.reset_index()\n",
    "len(d_year)"
   ]
  },
  {
   "cell_type": "code",
   "execution_count": null,
   "id": "e7b79a52",
   "metadata": {},
   "outputs": [],
   "source": [
    "d_year['Year_Count']=np.nan\n",
    "d_year['Year_Count']=d_year['Year'].str.len()\n",
    "d_year.explode('Year')"
   ]
  },
  {
   "cell_type": "code",
   "execution_count": null,
   "id": "188cfee9",
   "metadata": {},
   "outputs": [],
   "source": [
    "fig = dict({\n",
    "    \"data\": [{\"type\": \"bar\",\n",
    "              \"x\": [1, 2, 3],\n",
    "              \"y\": [1, 3, 2]}],\n",
    "    \"layout\": {\"title\": {\"text\": \"A Figure Specified By Python Dictionary\"}}\n",
    "})\n",
    "\n",
    "# To display the figure defined by this dict, use the low-level plotly.io.show function\n",
    "import plotly.io as pio\n",
    "\n",
    "pio.show(fig)"
   ]
  },
  {
   "cell_type": "code",
   "execution_count": null,
   "id": "c208f2bf",
   "metadata": {},
   "outputs": [],
   "source": [
    "import plotly.graph_objects as go\n",
    "\n",
    "fig = go.Figure(\n",
    "    data=[go.Bar(x=[1, 2, 3], y=[1, 3, 2])],\n",
    "    layout=go.Layout(\n",
    "        title=go.layout.Title(text=\"A Figure Specified By A Graph Object\")\n",
    "    )\n",
    ")\n",
    "\n",
    "fig.show()"
   ]
  },
  {
   "cell_type": "code",
   "execution_count": null,
   "id": "3fb1861d",
   "metadata": {},
   "outputs": [],
   "source": [
    "fig=go.Figure(dict({\n",
    "    \"data\": [{\"type\": \"bar\",\n",
    "              \"x\": [1, 2, 3],\n",
    "              \"y\": [1, 3, 2]}],\n",
    "    \"layout\": {\"title\": {\"text\": \"A Figure Specified By Python Dictionary\"}}\n",
    "}))\n",
    "\n",
    "fig.show()"
   ]
  },
  {
   "cell_type": "code",
   "execution_count": null,
   "id": "2ca1b291",
   "metadata": {},
   "outputs": [],
   "source": [
    "import plotly.express as px\n",
    "\n",
    "df = px.data.iris()\n",
    "fig = px.scatter(df, x=\"sepal_width\", y=\"sepal_length\", color=\"species\", title=\"A Plotly Express Figure\")\n",
    "fig.show()"
   ]
  },
  {
   "cell_type": "code",
   "execution_count": null,
   "id": "e785e8e2",
   "metadata": {},
   "outputs": [],
   "source": [
    "import numpy as np\n",
    "import plotly.figure_factory as ff\n",
    "\n",
    "x1,y1 = np.meshgrid(np.arange(0, 2, .2), np.arange(0, 2, .2))\n",
    "u1 = np.cos(x1)*y1\n",
    "v1 = np.sin(x1)*y1\n",
    "\n",
    "fig = ff.create_quiver(x1, y1, u1, v1)\n",
    "\n",
    "fig.show()"
   ]
  },
  {
   "cell_type": "code",
   "execution_count": null,
   "id": "1b511b5d",
   "metadata": {},
   "outputs": [],
   "source": [
    "from plotly.subplots import make_subplots\n",
    "\n",
    "fig = make_subplots(rows=1, cols=2)\n",
    "\n",
    "fig.add_trace(go.Scatter(y=[4, 2, 1], mode=\"lines\"), row=1, col=1)\n",
    "fig.add_trace(go.Bar(y=[2, 1, 3]), row=1, col=2)\n",
    "\n",
    "fig.show()"
   ]
  },
  {
   "cell_type": "code",
   "execution_count": null,
   "id": "2ba49217",
   "metadata": {},
   "outputs": [],
   "source": [
    "#Adding traces later \n",
    "\n",
    "import plotly.graph_objects as go\n",
    "\n",
    "fig = go.Figure()\n",
    "\n",
    "fig.add_trace(go.Bar(x=[1, 2, 3], y=[1, 3, 2]))\n",
    "\n",
    "fig.show()"
   ]
  },
  {
   "cell_type": "code",
   "execution_count": null,
   "id": "329b38c8",
   "metadata": {},
   "outputs": [],
   "source": [
    "import plotly.express as px\n",
    "data = dict(\n",
    "    character=[\"Eve\", \"Cain\", \"Seth\", \"Enos\", \"Noam\", \"Abel\", \"Awan\", \"Enoch\", \"Azura\"],\n",
    "    parent=[\"\", \"Eve\", \"Eve\", \"Seth\", \"Seth\", \"Eve\", \"Eve\", \"Awan\", \"Eve\" ],\n",
    "    value=[10, 14, 12, 10, 2, 6, 6, 4, 4])\n",
    "\n",
    "fig = px.sunburst(\n",
    "    data,\n",
    "    names='character',\n",
    "    parents='parent',\n",
    "    values='value',\n",
    ")\n",
    "fig.show()"
   ]
  },
  {
   "cell_type": "code",
   "execution_count": null,
   "id": "628b0c68",
   "metadata": {},
   "outputs": [],
   "source": [
    "d_year1=d_year.explode('Year')\n",
    "d_year1.dropna(subset=['Year'], inplace=True)"
   ]
  },
  {
   "cell_type": "code",
   "execution_count": null,
   "id": "c1547e8a",
   "metadata": {},
   "outputs": [],
   "source": [
    "d_year1['Count']=np.nan\n",
    "d_year1['Count']=1\n",
    "\n",
    "d_year1['Year']=d_year1['Year'].astype(float).astype(int).astype(str)"
   ]
  },
  {
   "cell_type": "code",
   "execution_count": null,
   "id": "7fcf9c39",
   "metadata": {},
   "outputs": [],
   "source": [
    "d_year1=d_year1[d_year1['Poll_No']==0]\n",
    "d_year1.sort_values(by=['Year','Assembly_No','State_Name'], inplace=True)\n",
    "d_year1"
   ]
  },
  {
   "cell_type": "code",
   "execution_count": null,
   "id": "af9b42dd",
   "metadata": {},
   "outputs": [],
   "source": [
    "d_year1.to_csv('Assembly_Chart.csv')"
   ]
  },
  {
   "cell_type": "code",
   "execution_count": null,
   "id": "8512c181",
   "metadata": {},
   "outputs": [],
   "source": [
    "import plotly.express as px\n",
    "fig = px.sunburst(d_year1, path=['State_Name','Assembly_No','Year'], values='Count',width=600, height=600)\n",
    "fig.show()"
   ]
  },
  {
   "cell_type": "code",
   "execution_count": null,
   "id": "f494125f",
   "metadata": {},
   "outputs": [],
   "source": [
    "import plotly.express as px\n",
    "data = pd.DataFrame({'State_Name':[\"State_Name\"],'Assembly_Number':['Assembly Number'],'Year':['General Election Year']})\n",
    "\n",
    "fig = px.sunburst(data, path=['State_Name','Assembly_Number','Year'])\n",
    "fig.show()\n"
   ]
  },
  {
   "cell_type": "code",
   "execution_count": null,
   "id": "f9a4c6ba",
   "metadata": {},
   "outputs": [],
   "source": [
    "display(d_year1.dtypes)"
   ]
  },
  {
   "cell_type": "code",
   "execution_count": null,
   "id": "a28fb8be",
   "metadata": {},
   "outputs": [],
   "source": [
    "d_year[d_year['State_Name']=='Punjab']"
   ]
  },
  {
   "cell_type": "code",
   "execution_count": null,
   "id": "7b88cac6",
   "metadata": {},
   "outputs": [],
   "source": [
    "df1=pd.read_csv('Consolidated_AE_mastersheet.csv')\n",
    "states=['Goa','Manipur','Punjab','Uttar_Pradesh','Uttarakhand']\n",
    "df1=df1[df1['State_Name'].isin(states)]"
   ]
  },
  {
   "cell_type": "code",
   "execution_count": null,
   "id": "5b2942ff",
   "metadata": {},
   "outputs": [],
   "source": [
    "voter=pd.read_csv('voterturnout.csv')"
   ]
  },
  {
   "cell_type": "code",
   "execution_count": null,
   "id": "6ede788c",
   "metadata": {},
   "outputs": [],
   "source": [
    "turnout=voter.groupby(by=['State_Name'])['Assembly_No'].max().reset_index()\n",
    "\n",
    "turnout=turnout.merge(voter[['State_Name','Assembly_No','female','male','total','Year']], how='left', on=['State_Name','Assembly_No'])\n",
    "\n",
    "turnout"
   ]
  },
  {
   "cell_type": "code",
   "execution_count": null,
   "id": "7d1ed669",
   "metadata": {},
   "outputs": [],
   "source": [
    "fig = px.bar(voter, x=\"Year\", y=\"total\", animation_frame=\"State_Name\", animation_group=\"Year\",color=\"State_Name\", hover_name=\"Assembly_No\", range_x=[1960,2020], range_y=[0,100])\n",
    "\n",
    "fig.layout.updatemenus[0].buttons[0].args[1]['frame']['duration'] = 5000\n",
    "fig.layout.updatemenus[0].buttons[0].args[1]['transition']['duration'] = 1500\n",
    "\n",
    "fig.show()"
   ]
  },
  {
   "cell_type": "code",
   "execution_count": null,
   "id": "0a5a8981",
   "metadata": {},
   "outputs": [],
   "source": [
    "import plotly.graph_objects as go\n",
    "\n",
    "fig = go.Figure()\n",
    "fig.add_trace(go.Line(\n",
    "    x=voter[voter['State_Name']=='Goa']['Assembly_No'],\n",
    "    y=voter[voter['State_Name']=='Goa']['total'],\n",
    "    name='Goa',\n",
    "    marker_color='purple'\n",
    "))\n",
    "\n",
    "fig.add_trace(go.Line(\n",
    "    x=voter[voter['State_Name']=='Manipur']['Assembly_No'],\n",
    "    y=voter[voter['State_Name']=='Manipur']['total'],\n",
    "    name='Manipur',\n",
    "    marker_color='green'\n",
    "))\n",
    "\n",
    "fig.add_trace(go.Line(\n",
    "    x=voter[voter['State_Name']=='Punjab']['Assembly_No'],\n",
    "    y=voter[voter['State_Name']=='Punjab']['total'],\n",
    "    name='Punjab',\n",
    "    marker_color='red'\n",
    "))\n",
    "\n",
    "\n",
    "fig.add_trace(go.Line(\n",
    "    x=voter[voter['State_Name']=='Uttarakhand']['Assembly_No'],\n",
    "    y=voter[voter['State_Name']=='Uttarakhand']['total'],\n",
    "    name='Uttarakhand',\n",
    "    marker_color='yellow'\n",
    "))\n",
    "\n",
    "fig.add_trace(go.Line(\n",
    "    x=voter[voter['State_Name']=='Uttar_Pradesh']['Assembly_No'],\n",
    "    y=voter[voter['State_Name']=='Uttar_Pradesh']['total'],\n",
    "    name='Uttar Pradesh',\n",
    "    marker_color='blue'\n",
    "))\n",
    "\n",
    "# Here we modify the tickangle of the xaxis, resulting in rotated labels.\n",
    "fig.update_layout(barmode='group')\n",
    "\n",
    "fig.show()\n"
   ]
  },
  {
   "cell_type": "code",
   "execution_count": null,
   "id": "0748585d",
   "metadata": {},
   "outputs": [],
   "source": [
    "fig = go.Figure()\n",
    "fig.add_trace(go.Line(\n",
    "    x=turnout['State_Name'],\n",
    "    y=turnout['total'],\n",
    "    name='total',\n",
    "    marker_color='purple'\n",
    "))\n",
    "\n",
    "fig.add_trace(go.Line(\n",
    "    x=turnout['State_Name'],\n",
    "    y=turnout['female'],\n",
    "    name='female',\n",
    "    marker_color='yellow'\n",
    "))\n",
    "\n",
    "fig.add_trace(go.Line(\n",
    "    x=turnout['State_Name'],\n",
    "    y=turnout['male'],\n",
    "    name='male',\n",
    "    marker_color='green'\n",
    "))\n",
    "\n",
    "fig.update_layout(barmode='group', template='seaborn')\n",
    "\n",
    "\n",
    "# Here we modify the tickangle of the xaxis, resulting in rotated labels.\n",
    "\n",
    "fig.show()"
   ]
  },
  {
   "cell_type": "code",
   "execution_count": null,
   "id": "c78dd017",
   "metadata": {},
   "outputs": [],
   "source": []
  },
  {
   "cell_type": "code",
   "execution_count": null,
   "id": "ee346a2c",
   "metadata": {},
   "outputs": [],
   "source": [
    "import plotly.graph_objects as go"
   ]
  },
  {
   "cell_type": "code",
   "execution_count": null,
   "id": "e6c46025",
   "metadata": {},
   "outputs": [],
   "source": [
    "df = pd.read_csv(\"./nota.csv\",dtype={\"State\": str})\n",
    "df_1= pd.read_csv(\"./nota_temp_t.csv\",dtype={\"State\": str})\n",
    "\n",
    "df_2= pd.read_csv(\"./nota_temp.csv\",dtype={\"State\": str})"
   ]
  },
  {
   "cell_type": "code",
   "execution_count": null,
   "id": "7b3ecde5",
   "metadata": {},
   "outputs": [],
   "source": []
  },
  {
   "cell_type": "code",
   "execution_count": null,
   "id": "643c1aa0",
   "metadata": {},
   "outputs": [],
   "source": [
    "df = pd.read_csv(\"./data/newcomer.csv\",dtype={\"State_Name\": str})\n",
    "df"
   ]
  },
  {
   "cell_type": "code",
   "execution_count": null,
   "id": "0f391abe",
   "metadata": {},
   "outputs": [],
   "source": [
    "fig_1 = go.Figure()\n",
    "fig_1.add_trace(go.Bar(\n",
    "    x=df[df['Constituency_Type']=='GEN']['State_Name'],\n",
    "    y=df[df['Constituency_Type']=='GEN']['count_i'],\n",
    "    name='GEN',\n",
    "    marker_color='purple'\n",
    "))\n",
    "fig_1.add_trace(go.Bar(\n",
    "    x=df[df['Constituency_Type']=='SC']['State_Name'],\n",
    "    y=df[df['Constituency_Type']=='SC']['count_i'],\n",
    "    name='SC',\n",
    "    marker_color='red'\n",
    "))\n",
    "fig_1.add_trace(go.Bar(\n",
    "    x=df[df['Constituency_Type']=='ST']['State_Name'],\n",
    "    y=df[df['Constituency_Type']=='ST']['count_i'],\n",
    "    name='ST',\n",
    "    marker_color='yellow'\n",
    "))\n",
    "# Here we modify the tickangle of the xaxis, resulting in rotated labels.\n",
    "fig_1.update_layout(barmode='group')\n",
    "\n",
    "fig_1.show()"
   ]
  },
  {
   "cell_type": "code",
   "execution_count": null,
   "id": "64240de0",
   "metadata": {},
   "outputs": [],
   "source": [
    "\n",
    "voter"
   ]
  },
  {
   "cell_type": "code",
   "execution_count": null,
   "id": "502af592",
   "metadata": {},
   "outputs": [],
   "source": [
    "# Dashboard Model\n",
    "\n",
    "def map(df,x,df_1, title_fig=''):\n",
    "    \n",
    "    fig = px.choropleth(df_1, geojson=gj, locations='ST_NM', color='Value',\n",
    "                               featureidkey=\"properties.ST_NM\",\n",
    "                               color_discrete_sequence=[\"rgb(211,211,211)\"],\n",
    "                                                             \n",
    "                              )\n",
    "    fig.add_trace(go.Choropleth(featureidkey='properties.ST_NM',\n",
    "                                  geojson=gj,\n",
    "                                  locations=df['State_Name'],\n",
    "                                  z=df[\"{}\".format(x)],\n",
    "                                  colorscale=[[0, 'rgb(255, 229, 180)'], [1, 'rgb(248, 131, 121)']],\n",
    "                                  #colorscale='viridis',\n",
    "                                  showscale=True                      \n",
    "                                 ))\n",
    "  \n",
    "\n",
    "    fig.update_geos(projection_type=\"van der grinten\", fitbounds=\"locations\", visible=False)\n",
    "    fig.update_layout(autosize=False,title={'text': \"{}\".format(title_fig),\n",
    "        'x':0.465,\n",
    "        'y':0,\n",
    "        'xanchor': 'center',\n",
    "        'yanchor': 'bottom'},\n",
    "         margin=dict(l=0, r=0, t=0, b=0, autoexpand=True),showlegend=False, height=800)\n",
    "    fig.update_xaxes(mirror=True, showline=True)\n",
    "\n",
    "    return(fig)\n",
    "\n",
    "voter=pd.read_csv('./data/voter.csv')\n",
    "map(voter,'Percentage',df_null)"
   ]
  },
  {
   "cell_type": "code",
   "execution_count": 24,
   "id": "0c5c8025",
   "metadata": {},
   "outputs": [],
   "source": [
    "contest=pd.read_csv('./data/contestant.csv')\n",
    "contest['Women Percentage across Contestants']=np.nan\n",
    "contest['Women Percentage across Contestants']=round(contest['Women']*100/contest['Total'],2)\n",
    "contest['Women Percentage across Winner']=np.nan\n",
    "contest['Women Percentage across Winner']=round(contest['Winner']*100/contest['total'],2)\n",
    "contest.rename({'Total':'total_contestant','Women':'women_contestant','Winner':'women_winner','total':'total_winner'}, axis=1, inplace=True)\n",
    "\n",
    "\n",
    "c_1=contest.groupby(['State_Name','Assembly_No','total_contestant','women_contestant'])['Women Percentage across Contestants'].unique().reset_index().explode('Women Percentage across Contestants')\n",
    "c_1['type']='Women Percentage across Contestants'\n",
    "c_1.rename({'Women Percentage across Contestants':'per'}, axis=1, inplace=True)\n",
    "\n",
    "c_2=contest.groupby(['State_Name','Assembly_No','women_winner','total_winner'])['Women Percentage across Winner'].unique().reset_index().explode('Women Percentage across Winner')\n",
    "c_2['type']='Women Percentage across Winner'\n",
    "c_2.rename({'Women Percentage across Winner':'per'}, axis=1, inplace=True)\n",
    "\n",
    "c=c_2.append(c_1)\n",
    "\n",
    "c['winner']=np.nan\n",
    "c['winner']=c['winner'].mask( (c['women_winner'].isna()==True), c['women_contestant'])\n",
    "c['winner']=c['winner'].mask( (c['women_winner'].isna()==False), c['women_winner'])\n",
    "c['contestant']=np.nan\n",
    "c['contestant']=c['contestant'].mask( (c['total_contestant'].isna()==True), c['total_winner'])\n",
    "c['contestant']=c['contestant'].mask( (c['total_contestant'].isna()==False), c['total_contestant'])\n",
    "\n",
    "\n",
    "fig = px.bar(c, x=\"State_Name\", y=\"per\",\n",
    "             color='type', barmode='group',\n",
    "             height=400, hover_name=\"type\", hover_data={\"winner\":True, \"contestant\":True, \"type\":False,\"State_Name\":False}, \n",
    "             labels = {\"winner\":\"Women\",\"contestant\":\"Total\", \"type\":\"\", \"per\":\"Percentage\"}, \n",
    "             color_discrete_map={\n",
    "             'Women Percentage across Winner': 'lightblue',\n",
    "              'Women Percentage across Contestants': 'purple'\n",
    "    })\n",
    "\n",
    "fig.update_layout(hovermode=None, plot_bgcolor=\"White\")\n",
    "fig.update_xaxes(showline=True, linewidth=1, linecolor='grey')\n",
    "fig.update_yaxes(showline=True, linewidth=1, linecolor='grey')"
   ]
  },
  {
   "cell_type": "code",
   "execution_count": 29,
   "id": "30002b44",
   "metadata": {},
   "outputs": [
    {
     "data": {
      "application/vnd.plotly.v1+json": {
       "config": {
        "plotlyServerURL": "https://plot.ly"
       },
       "data": [
        {
         "alignmentgroup": "True",
         "customdata": [
          [
           2,
           40,
           "Women Percentage across Winner"
          ],
          [
           2,
           60,
           "Women Percentage across Winner"
          ],
          [
           6,
           117,
           "Women Percentage across Winner"
          ],
          [
           42,
           403,
           "Women Percentage across Winner"
          ],
          [
           5,
           70,
           "Women Percentage across Winner"
          ]
         ],
         "hovertemplate": "<b>%{hovertext}</b><br><br>Percentage=%{y}<br>Women=%{customdata[0]}<br>Total=%{customdata[1]}<extra></extra>",
         "hovertext": [
          "Women Percentage across Winner",
          "Women Percentage across Winner",
          "Women Percentage across Winner",
          "Women Percentage across Winner",
          "Women Percentage across Winner"
         ],
         "legendgroup": "Women Percentage across Winner",
         "marker": {
          "color": "lightblue",
          "pattern": {
           "shape": ""
          }
         },
         "name": "Women Percentage across Winner",
         "offsetgroup": "Women Percentage across Winner",
         "orientation": "v",
         "showlegend": true,
         "textposition": "auto",
         "type": "bar",
         "x": [
          "Goa",
          "Manipur",
          "Punjab",
          "Uttar Pradesh",
          "Uttarakhand"
         ],
         "xaxis": "x",
         "y": [
          5,
          3.33,
          5.13,
          10.42,
          7.14
         ],
         "yaxis": "y"
        },
        {
         "alignmentgroup": "True",
         "customdata": [
          [
           19,
           251,
           "Women Percentage across Contestants"
          ],
          [
           11,
           266,
           "Women Percentage across Contestants"
          ],
          [
           81,
           1145,
           "Women Percentage across Contestants"
          ],
          [
           482,
           4853,
           "Women Percentage across Contestants"
          ],
          [
           62,
           637,
           "Women Percentage across Contestants"
          ]
         ],
         "hovertemplate": "<b>%{hovertext}</b><br><br>Percentage=%{y}<br>Women=%{customdata[0]}<br>Total=%{customdata[1]}<extra></extra>",
         "hovertext": [
          "Women Percentage across Contestants",
          "Women Percentage across Contestants",
          "Women Percentage across Contestants",
          "Women Percentage across Contestants",
          "Women Percentage across Contestants"
         ],
         "legendgroup": "Women Percentage across Contestants",
         "marker": {
          "color": "purple",
          "pattern": {
           "shape": ""
          }
         },
         "name": "Women Percentage across Contestants",
         "offsetgroup": "Women Percentage across Contestants",
         "orientation": "v",
         "showlegend": true,
         "textposition": "auto",
         "type": "bar",
         "x": [
          "Goa",
          "Manipur",
          "Punjab",
          "Uttar Pradesh",
          "Uttarakhand"
         ],
         "xaxis": "x",
         "y": [
          7.57,
          4.14,
          7.07,
          9.93,
          9.73
         ],
         "yaxis": "y"
        }
       ],
       "layout": {
        "barmode": "group",
        "height": 400,
        "legend": {
         "title": {
          "text": ""
         },
         "tracegroupgap": 0
        },
        "margin": {
         "t": 60
        },
        "plot_bgcolor": "White",
        "template": {
         "data": {
          "bar": [
           {
            "error_x": {
             "color": "#2a3f5f"
            },
            "error_y": {
             "color": "#2a3f5f"
            },
            "marker": {
             "line": {
              "color": "#E5ECF6",
              "width": 0.5
             },
             "pattern": {
              "fillmode": "overlay",
              "size": 10,
              "solidity": 0.2
             }
            },
            "type": "bar"
           }
          ],
          "barpolar": [
           {
            "marker": {
             "line": {
              "color": "#E5ECF6",
              "width": 0.5
             },
             "pattern": {
              "fillmode": "overlay",
              "size": 10,
              "solidity": 0.2
             }
            },
            "type": "barpolar"
           }
          ],
          "carpet": [
           {
            "aaxis": {
             "endlinecolor": "#2a3f5f",
             "gridcolor": "white",
             "linecolor": "white",
             "minorgridcolor": "white",
             "startlinecolor": "#2a3f5f"
            },
            "baxis": {
             "endlinecolor": "#2a3f5f",
             "gridcolor": "white",
             "linecolor": "white",
             "minorgridcolor": "white",
             "startlinecolor": "#2a3f5f"
            },
            "type": "carpet"
           }
          ],
          "choropleth": [
           {
            "colorbar": {
             "outlinewidth": 0,
             "ticks": ""
            },
            "type": "choropleth"
           }
          ],
          "contour": [
           {
            "colorbar": {
             "outlinewidth": 0,
             "ticks": ""
            },
            "colorscale": [
             [
              0,
              "#0d0887"
             ],
             [
              0.1111111111111111,
              "#46039f"
             ],
             [
              0.2222222222222222,
              "#7201a8"
             ],
             [
              0.3333333333333333,
              "#9c179e"
             ],
             [
              0.4444444444444444,
              "#bd3786"
             ],
             [
              0.5555555555555556,
              "#d8576b"
             ],
             [
              0.6666666666666666,
              "#ed7953"
             ],
             [
              0.7777777777777778,
              "#fb9f3a"
             ],
             [
              0.8888888888888888,
              "#fdca26"
             ],
             [
              1,
              "#f0f921"
             ]
            ],
            "type": "contour"
           }
          ],
          "contourcarpet": [
           {
            "colorbar": {
             "outlinewidth": 0,
             "ticks": ""
            },
            "type": "contourcarpet"
           }
          ],
          "heatmap": [
           {
            "colorbar": {
             "outlinewidth": 0,
             "ticks": ""
            },
            "colorscale": [
             [
              0,
              "#0d0887"
             ],
             [
              0.1111111111111111,
              "#46039f"
             ],
             [
              0.2222222222222222,
              "#7201a8"
             ],
             [
              0.3333333333333333,
              "#9c179e"
             ],
             [
              0.4444444444444444,
              "#bd3786"
             ],
             [
              0.5555555555555556,
              "#d8576b"
             ],
             [
              0.6666666666666666,
              "#ed7953"
             ],
             [
              0.7777777777777778,
              "#fb9f3a"
             ],
             [
              0.8888888888888888,
              "#fdca26"
             ],
             [
              1,
              "#f0f921"
             ]
            ],
            "type": "heatmap"
           }
          ],
          "heatmapgl": [
           {
            "colorbar": {
             "outlinewidth": 0,
             "ticks": ""
            },
            "colorscale": [
             [
              0,
              "#0d0887"
             ],
             [
              0.1111111111111111,
              "#46039f"
             ],
             [
              0.2222222222222222,
              "#7201a8"
             ],
             [
              0.3333333333333333,
              "#9c179e"
             ],
             [
              0.4444444444444444,
              "#bd3786"
             ],
             [
              0.5555555555555556,
              "#d8576b"
             ],
             [
              0.6666666666666666,
              "#ed7953"
             ],
             [
              0.7777777777777778,
              "#fb9f3a"
             ],
             [
              0.8888888888888888,
              "#fdca26"
             ],
             [
              1,
              "#f0f921"
             ]
            ],
            "type": "heatmapgl"
           }
          ],
          "histogram": [
           {
            "marker": {
             "pattern": {
              "fillmode": "overlay",
              "size": 10,
              "solidity": 0.2
             }
            },
            "type": "histogram"
           }
          ],
          "histogram2d": [
           {
            "colorbar": {
             "outlinewidth": 0,
             "ticks": ""
            },
            "colorscale": [
             [
              0,
              "#0d0887"
             ],
             [
              0.1111111111111111,
              "#46039f"
             ],
             [
              0.2222222222222222,
              "#7201a8"
             ],
             [
              0.3333333333333333,
              "#9c179e"
             ],
             [
              0.4444444444444444,
              "#bd3786"
             ],
             [
              0.5555555555555556,
              "#d8576b"
             ],
             [
              0.6666666666666666,
              "#ed7953"
             ],
             [
              0.7777777777777778,
              "#fb9f3a"
             ],
             [
              0.8888888888888888,
              "#fdca26"
             ],
             [
              1,
              "#f0f921"
             ]
            ],
            "type": "histogram2d"
           }
          ],
          "histogram2dcontour": [
           {
            "colorbar": {
             "outlinewidth": 0,
             "ticks": ""
            },
            "colorscale": [
             [
              0,
              "#0d0887"
             ],
             [
              0.1111111111111111,
              "#46039f"
             ],
             [
              0.2222222222222222,
              "#7201a8"
             ],
             [
              0.3333333333333333,
              "#9c179e"
             ],
             [
              0.4444444444444444,
              "#bd3786"
             ],
             [
              0.5555555555555556,
              "#d8576b"
             ],
             [
              0.6666666666666666,
              "#ed7953"
             ],
             [
              0.7777777777777778,
              "#fb9f3a"
             ],
             [
              0.8888888888888888,
              "#fdca26"
             ],
             [
              1,
              "#f0f921"
             ]
            ],
            "type": "histogram2dcontour"
           }
          ],
          "mesh3d": [
           {
            "colorbar": {
             "outlinewidth": 0,
             "ticks": ""
            },
            "type": "mesh3d"
           }
          ],
          "parcoords": [
           {
            "line": {
             "colorbar": {
              "outlinewidth": 0,
              "ticks": ""
             }
            },
            "type": "parcoords"
           }
          ],
          "pie": [
           {
            "automargin": true,
            "type": "pie"
           }
          ],
          "scatter": [
           {
            "marker": {
             "colorbar": {
              "outlinewidth": 0,
              "ticks": ""
             }
            },
            "type": "scatter"
           }
          ],
          "scatter3d": [
           {
            "line": {
             "colorbar": {
              "outlinewidth": 0,
              "ticks": ""
             }
            },
            "marker": {
             "colorbar": {
              "outlinewidth": 0,
              "ticks": ""
             }
            },
            "type": "scatter3d"
           }
          ],
          "scattercarpet": [
           {
            "marker": {
             "colorbar": {
              "outlinewidth": 0,
              "ticks": ""
             }
            },
            "type": "scattercarpet"
           }
          ],
          "scattergeo": [
           {
            "marker": {
             "colorbar": {
              "outlinewidth": 0,
              "ticks": ""
             }
            },
            "type": "scattergeo"
           }
          ],
          "scattergl": [
           {
            "marker": {
             "colorbar": {
              "outlinewidth": 0,
              "ticks": ""
             }
            },
            "type": "scattergl"
           }
          ],
          "scattermapbox": [
           {
            "marker": {
             "colorbar": {
              "outlinewidth": 0,
              "ticks": ""
             }
            },
            "type": "scattermapbox"
           }
          ],
          "scatterpolar": [
           {
            "marker": {
             "colorbar": {
              "outlinewidth": 0,
              "ticks": ""
             }
            },
            "type": "scatterpolar"
           }
          ],
          "scatterpolargl": [
           {
            "marker": {
             "colorbar": {
              "outlinewidth": 0,
              "ticks": ""
             }
            },
            "type": "scatterpolargl"
           }
          ],
          "scatterternary": [
           {
            "marker": {
             "colorbar": {
              "outlinewidth": 0,
              "ticks": ""
             }
            },
            "type": "scatterternary"
           }
          ],
          "surface": [
           {
            "colorbar": {
             "outlinewidth": 0,
             "ticks": ""
            },
            "colorscale": [
             [
              0,
              "#0d0887"
             ],
             [
              0.1111111111111111,
              "#46039f"
             ],
             [
              0.2222222222222222,
              "#7201a8"
             ],
             [
              0.3333333333333333,
              "#9c179e"
             ],
             [
              0.4444444444444444,
              "#bd3786"
             ],
             [
              0.5555555555555556,
              "#d8576b"
             ],
             [
              0.6666666666666666,
              "#ed7953"
             ],
             [
              0.7777777777777778,
              "#fb9f3a"
             ],
             [
              0.8888888888888888,
              "#fdca26"
             ],
             [
              1,
              "#f0f921"
             ]
            ],
            "type": "surface"
           }
          ],
          "table": [
           {
            "cells": {
             "fill": {
              "color": "#EBF0F8"
             },
             "line": {
              "color": "white"
             }
            },
            "header": {
             "fill": {
              "color": "#C8D4E3"
             },
             "line": {
              "color": "white"
             }
            },
            "type": "table"
           }
          ]
         },
         "layout": {
          "annotationdefaults": {
           "arrowcolor": "#2a3f5f",
           "arrowhead": 0,
           "arrowwidth": 1
          },
          "autotypenumbers": "strict",
          "coloraxis": {
           "colorbar": {
            "outlinewidth": 0,
            "ticks": ""
           }
          },
          "colorscale": {
           "diverging": [
            [
             0,
             "#8e0152"
            ],
            [
             0.1,
             "#c51b7d"
            ],
            [
             0.2,
             "#de77ae"
            ],
            [
             0.3,
             "#f1b6da"
            ],
            [
             0.4,
             "#fde0ef"
            ],
            [
             0.5,
             "#f7f7f7"
            ],
            [
             0.6,
             "#e6f5d0"
            ],
            [
             0.7,
             "#b8e186"
            ],
            [
             0.8,
             "#7fbc41"
            ],
            [
             0.9,
             "#4d9221"
            ],
            [
             1,
             "#276419"
            ]
           ],
           "sequential": [
            [
             0,
             "#0d0887"
            ],
            [
             0.1111111111111111,
             "#46039f"
            ],
            [
             0.2222222222222222,
             "#7201a8"
            ],
            [
             0.3333333333333333,
             "#9c179e"
            ],
            [
             0.4444444444444444,
             "#bd3786"
            ],
            [
             0.5555555555555556,
             "#d8576b"
            ],
            [
             0.6666666666666666,
             "#ed7953"
            ],
            [
             0.7777777777777778,
             "#fb9f3a"
            ],
            [
             0.8888888888888888,
             "#fdca26"
            ],
            [
             1,
             "#f0f921"
            ]
           ],
           "sequentialminus": [
            [
             0,
             "#0d0887"
            ],
            [
             0.1111111111111111,
             "#46039f"
            ],
            [
             0.2222222222222222,
             "#7201a8"
            ],
            [
             0.3333333333333333,
             "#9c179e"
            ],
            [
             0.4444444444444444,
             "#bd3786"
            ],
            [
             0.5555555555555556,
             "#d8576b"
            ],
            [
             0.6666666666666666,
             "#ed7953"
            ],
            [
             0.7777777777777778,
             "#fb9f3a"
            ],
            [
             0.8888888888888888,
             "#fdca26"
            ],
            [
             1,
             "#f0f921"
            ]
           ]
          },
          "colorway": [
           "#636efa",
           "#EF553B",
           "#00cc96",
           "#ab63fa",
           "#FFA15A",
           "#19d3f3",
           "#FF6692",
           "#B6E880",
           "#FF97FF",
           "#FECB52"
          ],
          "font": {
           "color": "#2a3f5f"
          },
          "geo": {
           "bgcolor": "white",
           "lakecolor": "white",
           "landcolor": "#E5ECF6",
           "showlakes": true,
           "showland": true,
           "subunitcolor": "white"
          },
          "hoverlabel": {
           "align": "left"
          },
          "hovermode": "closest",
          "mapbox": {
           "style": "light"
          },
          "paper_bgcolor": "white",
          "plot_bgcolor": "#E5ECF6",
          "polar": {
           "angularaxis": {
            "gridcolor": "white",
            "linecolor": "white",
            "ticks": ""
           },
           "bgcolor": "#E5ECF6",
           "radialaxis": {
            "gridcolor": "white",
            "linecolor": "white",
            "ticks": ""
           }
          },
          "scene": {
           "xaxis": {
            "backgroundcolor": "#E5ECF6",
            "gridcolor": "white",
            "gridwidth": 2,
            "linecolor": "white",
            "showbackground": true,
            "ticks": "",
            "zerolinecolor": "white"
           },
           "yaxis": {
            "backgroundcolor": "#E5ECF6",
            "gridcolor": "white",
            "gridwidth": 2,
            "linecolor": "white",
            "showbackground": true,
            "ticks": "",
            "zerolinecolor": "white"
           },
           "zaxis": {
            "backgroundcolor": "#E5ECF6",
            "gridcolor": "white",
            "gridwidth": 2,
            "linecolor": "white",
            "showbackground": true,
            "ticks": "",
            "zerolinecolor": "white"
           }
          },
          "shapedefaults": {
           "line": {
            "color": "#2a3f5f"
           }
          },
          "ternary": {
           "aaxis": {
            "gridcolor": "white",
            "linecolor": "white",
            "ticks": ""
           },
           "baxis": {
            "gridcolor": "white",
            "linecolor": "white",
            "ticks": ""
           },
           "bgcolor": "#E5ECF6",
           "caxis": {
            "gridcolor": "white",
            "linecolor": "white",
            "ticks": ""
           }
          },
          "title": {
           "x": 0.05
          },
          "xaxis": {
           "automargin": true,
           "gridcolor": "white",
           "linecolor": "white",
           "ticks": "",
           "title": {
            "standoff": 15
           },
           "zerolinecolor": "white",
           "zerolinewidth": 2
          },
          "yaxis": {
           "automargin": true,
           "gridcolor": "white",
           "linecolor": "white",
           "ticks": "",
           "title": {
            "standoff": 15
           },
           "zerolinecolor": "white",
           "zerolinewidth": 2
          }
         }
        },
        "xaxis": {
         "anchor": "y",
         "domain": [
          0,
          1
         ],
         "linecolor": "grey",
         "linewidth": 1,
         "showline": true,
         "title": {
          "text": "State_Name"
         }
        },
        "yaxis": {
         "anchor": "x",
         "domain": [
          0,
          1
         ],
         "linecolor": "grey",
         "linewidth": 1,
         "showline": true,
         "title": {
          "text": "Percentage"
         }
        }
       }
      },
      "text/html": [
       "<div>                            <div id=\"b4a7de06-d171-407c-97eb-37a79a24cf50\" class=\"plotly-graph-div\" style=\"height:400px; width:100%;\"></div>            <script type=\"text/javascript\">                require([\"plotly\"], function(Plotly) {                    window.PLOTLYENV=window.PLOTLYENV || {};                                    if (document.getElementById(\"b4a7de06-d171-407c-97eb-37a79a24cf50\")) {                    Plotly.newPlot(                        \"b4a7de06-d171-407c-97eb-37a79a24cf50\",                        [{\"alignmentgroup\":\"True\",\"customdata\":[[2.0,40.0,\"Women Percentage across Winner\"],[2.0,60.0,\"Women Percentage across Winner\"],[6.0,117.0,\"Women Percentage across Winner\"],[42.0,403.0,\"Women Percentage across Winner\"],[5.0,70.0,\"Women Percentage across Winner\"]],\"hovertemplate\":\"<b>%{hovertext}</b><br><br>Percentage=%{y}<br>Women=%{customdata[0]}<br>Total=%{customdata[1]}<extra></extra>\",\"hovertext\":[\"Women Percentage across Winner\",\"Women Percentage across Winner\",\"Women Percentage across Winner\",\"Women Percentage across Winner\",\"Women Percentage across Winner\"],\"legendgroup\":\"Women Percentage across Winner\",\"marker\":{\"color\":\"lightblue\",\"pattern\":{\"shape\":\"\"}},\"name\":\"Women Percentage across Winner\",\"offsetgroup\":\"Women Percentage across Winner\",\"orientation\":\"v\",\"showlegend\":true,\"textposition\":\"auto\",\"x\":[\"Goa\",\"Manipur\",\"Punjab\",\"Uttar Pradesh\",\"Uttarakhand\"],\"xaxis\":\"x\",\"y\":[5.0,3.33,5.13,10.42,7.14],\"yaxis\":\"y\",\"type\":\"bar\"},{\"alignmentgroup\":\"True\",\"customdata\":[[19.0,251.0,\"Women Percentage across Contestants\"],[11.0,266.0,\"Women Percentage across Contestants\"],[81.0,1145.0,\"Women Percentage across Contestants\"],[482.0,4853.0,\"Women Percentage across Contestants\"],[62.0,637.0,\"Women Percentage across Contestants\"]],\"hovertemplate\":\"<b>%{hovertext}</b><br><br>Percentage=%{y}<br>Women=%{customdata[0]}<br>Total=%{customdata[1]}<extra></extra>\",\"hovertext\":[\"Women Percentage across Contestants\",\"Women Percentage across Contestants\",\"Women Percentage across Contestants\",\"Women Percentage across Contestants\",\"Women Percentage across Contestants\"],\"legendgroup\":\"Women Percentage across Contestants\",\"marker\":{\"color\":\"purple\",\"pattern\":{\"shape\":\"\"}},\"name\":\"Women Percentage across Contestants\",\"offsetgroup\":\"Women Percentage across Contestants\",\"orientation\":\"v\",\"showlegend\":true,\"textposition\":\"auto\",\"x\":[\"Goa\",\"Manipur\",\"Punjab\",\"Uttar Pradesh\",\"Uttarakhand\"],\"xaxis\":\"x\",\"y\":[7.57,4.14,7.07,9.93,9.73],\"yaxis\":\"y\",\"type\":\"bar\"}],                        {\"template\":{\"data\":{\"bar\":[{\"error_x\":{\"color\":\"#2a3f5f\"},\"error_y\":{\"color\":\"#2a3f5f\"},\"marker\":{\"line\":{\"color\":\"#E5ECF6\",\"width\":0.5},\"pattern\":{\"fillmode\":\"overlay\",\"size\":10,\"solidity\":0.2}},\"type\":\"bar\"}],\"barpolar\":[{\"marker\":{\"line\":{\"color\":\"#E5ECF6\",\"width\":0.5},\"pattern\":{\"fillmode\":\"overlay\",\"size\":10,\"solidity\":0.2}},\"type\":\"barpolar\"}],\"carpet\":[{\"aaxis\":{\"endlinecolor\":\"#2a3f5f\",\"gridcolor\":\"white\",\"linecolor\":\"white\",\"minorgridcolor\":\"white\",\"startlinecolor\":\"#2a3f5f\"},\"baxis\":{\"endlinecolor\":\"#2a3f5f\",\"gridcolor\":\"white\",\"linecolor\":\"white\",\"minorgridcolor\":\"white\",\"startlinecolor\":\"#2a3f5f\"},\"type\":\"carpet\"}],\"choropleth\":[{\"colorbar\":{\"outlinewidth\":0,\"ticks\":\"\"},\"type\":\"choropleth\"}],\"contour\":[{\"colorbar\":{\"outlinewidth\":0,\"ticks\":\"\"},\"colorscale\":[[0.0,\"#0d0887\"],[0.1111111111111111,\"#46039f\"],[0.2222222222222222,\"#7201a8\"],[0.3333333333333333,\"#9c179e\"],[0.4444444444444444,\"#bd3786\"],[0.5555555555555556,\"#d8576b\"],[0.6666666666666666,\"#ed7953\"],[0.7777777777777778,\"#fb9f3a\"],[0.8888888888888888,\"#fdca26\"],[1.0,\"#f0f921\"]],\"type\":\"contour\"}],\"contourcarpet\":[{\"colorbar\":{\"outlinewidth\":0,\"ticks\":\"\"},\"type\":\"contourcarpet\"}],\"heatmap\":[{\"colorbar\":{\"outlinewidth\":0,\"ticks\":\"\"},\"colorscale\":[[0.0,\"#0d0887\"],[0.1111111111111111,\"#46039f\"],[0.2222222222222222,\"#7201a8\"],[0.3333333333333333,\"#9c179e\"],[0.4444444444444444,\"#bd3786\"],[0.5555555555555556,\"#d8576b\"],[0.6666666666666666,\"#ed7953\"],[0.7777777777777778,\"#fb9f3a\"],[0.8888888888888888,\"#fdca26\"],[1.0,\"#f0f921\"]],\"type\":\"heatmap\"}],\"heatmapgl\":[{\"colorbar\":{\"outlinewidth\":0,\"ticks\":\"\"},\"colorscale\":[[0.0,\"#0d0887\"],[0.1111111111111111,\"#46039f\"],[0.2222222222222222,\"#7201a8\"],[0.3333333333333333,\"#9c179e\"],[0.4444444444444444,\"#bd3786\"],[0.5555555555555556,\"#d8576b\"],[0.6666666666666666,\"#ed7953\"],[0.7777777777777778,\"#fb9f3a\"],[0.8888888888888888,\"#fdca26\"],[1.0,\"#f0f921\"]],\"type\":\"heatmapgl\"}],\"histogram\":[{\"marker\":{\"pattern\":{\"fillmode\":\"overlay\",\"size\":10,\"solidity\":0.2}},\"type\":\"histogram\"}],\"histogram2d\":[{\"colorbar\":{\"outlinewidth\":0,\"ticks\":\"\"},\"colorscale\":[[0.0,\"#0d0887\"],[0.1111111111111111,\"#46039f\"],[0.2222222222222222,\"#7201a8\"],[0.3333333333333333,\"#9c179e\"],[0.4444444444444444,\"#bd3786\"],[0.5555555555555556,\"#d8576b\"],[0.6666666666666666,\"#ed7953\"],[0.7777777777777778,\"#fb9f3a\"],[0.8888888888888888,\"#fdca26\"],[1.0,\"#f0f921\"]],\"type\":\"histogram2d\"}],\"histogram2dcontour\":[{\"colorbar\":{\"outlinewidth\":0,\"ticks\":\"\"},\"colorscale\":[[0.0,\"#0d0887\"],[0.1111111111111111,\"#46039f\"],[0.2222222222222222,\"#7201a8\"],[0.3333333333333333,\"#9c179e\"],[0.4444444444444444,\"#bd3786\"],[0.5555555555555556,\"#d8576b\"],[0.6666666666666666,\"#ed7953\"],[0.7777777777777778,\"#fb9f3a\"],[0.8888888888888888,\"#fdca26\"],[1.0,\"#f0f921\"]],\"type\":\"histogram2dcontour\"}],\"mesh3d\":[{\"colorbar\":{\"outlinewidth\":0,\"ticks\":\"\"},\"type\":\"mesh3d\"}],\"parcoords\":[{\"line\":{\"colorbar\":{\"outlinewidth\":0,\"ticks\":\"\"}},\"type\":\"parcoords\"}],\"pie\":[{\"automargin\":true,\"type\":\"pie\"}],\"scatter\":[{\"marker\":{\"colorbar\":{\"outlinewidth\":0,\"ticks\":\"\"}},\"type\":\"scatter\"}],\"scatter3d\":[{\"line\":{\"colorbar\":{\"outlinewidth\":0,\"ticks\":\"\"}},\"marker\":{\"colorbar\":{\"outlinewidth\":0,\"ticks\":\"\"}},\"type\":\"scatter3d\"}],\"scattercarpet\":[{\"marker\":{\"colorbar\":{\"outlinewidth\":0,\"ticks\":\"\"}},\"type\":\"scattercarpet\"}],\"scattergeo\":[{\"marker\":{\"colorbar\":{\"outlinewidth\":0,\"ticks\":\"\"}},\"type\":\"scattergeo\"}],\"scattergl\":[{\"marker\":{\"colorbar\":{\"outlinewidth\":0,\"ticks\":\"\"}},\"type\":\"scattergl\"}],\"scattermapbox\":[{\"marker\":{\"colorbar\":{\"outlinewidth\":0,\"ticks\":\"\"}},\"type\":\"scattermapbox\"}],\"scatterpolar\":[{\"marker\":{\"colorbar\":{\"outlinewidth\":0,\"ticks\":\"\"}},\"type\":\"scatterpolar\"}],\"scatterpolargl\":[{\"marker\":{\"colorbar\":{\"outlinewidth\":0,\"ticks\":\"\"}},\"type\":\"scatterpolargl\"}],\"scatterternary\":[{\"marker\":{\"colorbar\":{\"outlinewidth\":0,\"ticks\":\"\"}},\"type\":\"scatterternary\"}],\"surface\":[{\"colorbar\":{\"outlinewidth\":0,\"ticks\":\"\"},\"colorscale\":[[0.0,\"#0d0887\"],[0.1111111111111111,\"#46039f\"],[0.2222222222222222,\"#7201a8\"],[0.3333333333333333,\"#9c179e\"],[0.4444444444444444,\"#bd3786\"],[0.5555555555555556,\"#d8576b\"],[0.6666666666666666,\"#ed7953\"],[0.7777777777777778,\"#fb9f3a\"],[0.8888888888888888,\"#fdca26\"],[1.0,\"#f0f921\"]],\"type\":\"surface\"}],\"table\":[{\"cells\":{\"fill\":{\"color\":\"#EBF0F8\"},\"line\":{\"color\":\"white\"}},\"header\":{\"fill\":{\"color\":\"#C8D4E3\"},\"line\":{\"color\":\"white\"}},\"type\":\"table\"}]},\"layout\":{\"annotationdefaults\":{\"arrowcolor\":\"#2a3f5f\",\"arrowhead\":0,\"arrowwidth\":1},\"autotypenumbers\":\"strict\",\"coloraxis\":{\"colorbar\":{\"outlinewidth\":0,\"ticks\":\"\"}},\"colorscale\":{\"diverging\":[[0,\"#8e0152\"],[0.1,\"#c51b7d\"],[0.2,\"#de77ae\"],[0.3,\"#f1b6da\"],[0.4,\"#fde0ef\"],[0.5,\"#f7f7f7\"],[0.6,\"#e6f5d0\"],[0.7,\"#b8e186\"],[0.8,\"#7fbc41\"],[0.9,\"#4d9221\"],[1,\"#276419\"]],\"sequential\":[[0.0,\"#0d0887\"],[0.1111111111111111,\"#46039f\"],[0.2222222222222222,\"#7201a8\"],[0.3333333333333333,\"#9c179e\"],[0.4444444444444444,\"#bd3786\"],[0.5555555555555556,\"#d8576b\"],[0.6666666666666666,\"#ed7953\"],[0.7777777777777778,\"#fb9f3a\"],[0.8888888888888888,\"#fdca26\"],[1.0,\"#f0f921\"]],\"sequentialminus\":[[0.0,\"#0d0887\"],[0.1111111111111111,\"#46039f\"],[0.2222222222222222,\"#7201a8\"],[0.3333333333333333,\"#9c179e\"],[0.4444444444444444,\"#bd3786\"],[0.5555555555555556,\"#d8576b\"],[0.6666666666666666,\"#ed7953\"],[0.7777777777777778,\"#fb9f3a\"],[0.8888888888888888,\"#fdca26\"],[1.0,\"#f0f921\"]]},\"colorway\":[\"#636efa\",\"#EF553B\",\"#00cc96\",\"#ab63fa\",\"#FFA15A\",\"#19d3f3\",\"#FF6692\",\"#B6E880\",\"#FF97FF\",\"#FECB52\"],\"font\":{\"color\":\"#2a3f5f\"},\"geo\":{\"bgcolor\":\"white\",\"lakecolor\":\"white\",\"landcolor\":\"#E5ECF6\",\"showlakes\":true,\"showland\":true,\"subunitcolor\":\"white\"},\"hoverlabel\":{\"align\":\"left\"},\"hovermode\":\"closest\",\"mapbox\":{\"style\":\"light\"},\"paper_bgcolor\":\"white\",\"plot_bgcolor\":\"#E5ECF6\",\"polar\":{\"angularaxis\":{\"gridcolor\":\"white\",\"linecolor\":\"white\",\"ticks\":\"\"},\"bgcolor\":\"#E5ECF6\",\"radialaxis\":{\"gridcolor\":\"white\",\"linecolor\":\"white\",\"ticks\":\"\"}},\"scene\":{\"xaxis\":{\"backgroundcolor\":\"#E5ECF6\",\"gridcolor\":\"white\",\"gridwidth\":2,\"linecolor\":\"white\",\"showbackground\":true,\"ticks\":\"\",\"zerolinecolor\":\"white\"},\"yaxis\":{\"backgroundcolor\":\"#E5ECF6\",\"gridcolor\":\"white\",\"gridwidth\":2,\"linecolor\":\"white\",\"showbackground\":true,\"ticks\":\"\",\"zerolinecolor\":\"white\"},\"zaxis\":{\"backgroundcolor\":\"#E5ECF6\",\"gridcolor\":\"white\",\"gridwidth\":2,\"linecolor\":\"white\",\"showbackground\":true,\"ticks\":\"\",\"zerolinecolor\":\"white\"}},\"shapedefaults\":{\"line\":{\"color\":\"#2a3f5f\"}},\"ternary\":{\"aaxis\":{\"gridcolor\":\"white\",\"linecolor\":\"white\",\"ticks\":\"\"},\"baxis\":{\"gridcolor\":\"white\",\"linecolor\":\"white\",\"ticks\":\"\"},\"bgcolor\":\"#E5ECF6\",\"caxis\":{\"gridcolor\":\"white\",\"linecolor\":\"white\",\"ticks\":\"\"}},\"title\":{\"x\":0.05},\"xaxis\":{\"automargin\":true,\"gridcolor\":\"white\",\"linecolor\":\"white\",\"ticks\":\"\",\"title\":{\"standoff\":15},\"zerolinecolor\":\"white\",\"zerolinewidth\":2},\"yaxis\":{\"automargin\":true,\"gridcolor\":\"white\",\"linecolor\":\"white\",\"ticks\":\"\",\"title\":{\"standoff\":15},\"zerolinecolor\":\"white\",\"zerolinewidth\":2}}},\"xaxis\":{\"anchor\":\"y\",\"domain\":[0.0,1.0],\"title\":{\"text\":\"State_Name\"},\"showline\":true,\"linewidth\":1,\"linecolor\":\"grey\"},\"yaxis\":{\"anchor\":\"x\",\"domain\":[0.0,1.0],\"title\":{\"text\":\"Percentage\"},\"showline\":true,\"linewidth\":1,\"linecolor\":\"grey\"},\"legend\":{\"title\":{\"text\":\"\"},\"tracegroupgap\":0},\"margin\":{\"t\":60},\"barmode\":\"group\",\"height\":400,\"plot_bgcolor\":\"White\"},                        {\"responsive\": true}                    ).then(function(){\n",
       "                            \n",
       "var gd = document.getElementById('b4a7de06-d171-407c-97eb-37a79a24cf50');\n",
       "var x = new MutationObserver(function (mutations, observer) {{\n",
       "        var display = window.getComputedStyle(gd).display;\n",
       "        if (!display || display === 'none') {{\n",
       "            console.log([gd, 'removed!']);\n",
       "            Plotly.purge(gd);\n",
       "            observer.disconnect();\n",
       "        }}\n",
       "}});\n",
       "\n",
       "// Listen for the removal of the full notebook cells\n",
       "var notebookContainer = gd.closest('#notebook-container');\n",
       "if (notebookContainer) {{\n",
       "    x.observe(notebookContainer, {childList: true});\n",
       "}}\n",
       "\n",
       "// Listen for the clearing of the current output cell\n",
       "var outputEl = gd.closest('.output');\n",
       "if (outputEl) {{\n",
       "    x.observe(outputEl, {childList: true});\n",
       "}}\n",
       "\n",
       "                        })                };                });            </script>        </div>"
      ]
     },
     "metadata": {},
     "output_type": "display_data"
    }
   ],
   "source": [
    "fig = px.bar(c, x=\"State_Name\", y=\"per\",\n",
    "             color='type', barmode='group',\n",
    "             height=400, hover_name=\"type\", hover_data={\"winner\":True, \"contestant\":True, \"type\":False,\"State_Name\":False}, \n",
    "             labels = {\"winner\":\"Women\",\"contestant\":\"Total\", \"type\":\"\", \"per\":\"Percentage\"}, \n",
    "             color_discrete_map={\n",
    "             'Women Percentage across Winner': 'lightblue',\n",
    "              'Women Percentage across Contestants': 'purple'\n",
    "    })\n",
    "\n",
    "fig.update_layout(hovermode=None, plot_bgcolor=\"White\")\n",
    "fig.update_xaxes(showline=True, linewidth=1, linecolor='grey')\n",
    "fig.update_yaxes(showline=True, linewidth=1, linecolor='grey')\n",
    "\n",
    "fig.show()"
   ]
  },
  {
   "cell_type": "code",
   "execution_count": 13,
   "id": "770cb827",
   "metadata": {},
   "outputs": [
    {
     "data": {
      "application/vnd.plotly.v1+json": {
       "config": {
        "plotlyServerURL": "https://plot.ly"
       },
       "data": [
        {
         "hovertemplate": "Total Contestant: %{y:.2f}<br>Women Contestant:%{text}<extra></extra>",
         "marker": {
          "color": "purple"
         },
         "name": "Women Contestant Percentage",
         "text": [
          "19",
          "11",
          "81",
          "482",
          "62"
         ],
         "type": "bar",
         "x": [
          "Goa",
          "Manipur",
          "Punjab",
          "Uttar Pradesh",
          "Uttarakhand"
         ],
         "y": [
          7.57,
          4.14,
          7.07,
          9.93,
          9.73
         ]
        },
        {
         "marker": {
          "color": "grey"
         },
         "name": "Women Winner Percentage",
         "type": "bar",
         "x": [
          "Goa",
          "Manipur",
          "Punjab",
          "Uttar Pradesh",
          "Uttarakhand"
         ],
         "y": [
          5,
          3.33,
          5.13,
          10.42,
          7.14
         ]
        }
       ],
       "layout": {
        "barmode": "group",
        "template": {
         "data": {
          "bar": [
           {
            "error_x": {
             "color": "#2a3f5f"
            },
            "error_y": {
             "color": "#2a3f5f"
            },
            "marker": {
             "line": {
              "color": "#E5ECF6",
              "width": 0.5
             },
             "pattern": {
              "fillmode": "overlay",
              "size": 10,
              "solidity": 0.2
             }
            },
            "type": "bar"
           }
          ],
          "barpolar": [
           {
            "marker": {
             "line": {
              "color": "#E5ECF6",
              "width": 0.5
             },
             "pattern": {
              "fillmode": "overlay",
              "size": 10,
              "solidity": 0.2
             }
            },
            "type": "barpolar"
           }
          ],
          "carpet": [
           {
            "aaxis": {
             "endlinecolor": "#2a3f5f",
             "gridcolor": "white",
             "linecolor": "white",
             "minorgridcolor": "white",
             "startlinecolor": "#2a3f5f"
            },
            "baxis": {
             "endlinecolor": "#2a3f5f",
             "gridcolor": "white",
             "linecolor": "white",
             "minorgridcolor": "white",
             "startlinecolor": "#2a3f5f"
            },
            "type": "carpet"
           }
          ],
          "choropleth": [
           {
            "colorbar": {
             "outlinewidth": 0,
             "ticks": ""
            },
            "type": "choropleth"
           }
          ],
          "contour": [
           {
            "colorbar": {
             "outlinewidth": 0,
             "ticks": ""
            },
            "colorscale": [
             [
              0,
              "#0d0887"
             ],
             [
              0.1111111111111111,
              "#46039f"
             ],
             [
              0.2222222222222222,
              "#7201a8"
             ],
             [
              0.3333333333333333,
              "#9c179e"
             ],
             [
              0.4444444444444444,
              "#bd3786"
             ],
             [
              0.5555555555555556,
              "#d8576b"
             ],
             [
              0.6666666666666666,
              "#ed7953"
             ],
             [
              0.7777777777777778,
              "#fb9f3a"
             ],
             [
              0.8888888888888888,
              "#fdca26"
             ],
             [
              1,
              "#f0f921"
             ]
            ],
            "type": "contour"
           }
          ],
          "contourcarpet": [
           {
            "colorbar": {
             "outlinewidth": 0,
             "ticks": ""
            },
            "type": "contourcarpet"
           }
          ],
          "heatmap": [
           {
            "colorbar": {
             "outlinewidth": 0,
             "ticks": ""
            },
            "colorscale": [
             [
              0,
              "#0d0887"
             ],
             [
              0.1111111111111111,
              "#46039f"
             ],
             [
              0.2222222222222222,
              "#7201a8"
             ],
             [
              0.3333333333333333,
              "#9c179e"
             ],
             [
              0.4444444444444444,
              "#bd3786"
             ],
             [
              0.5555555555555556,
              "#d8576b"
             ],
             [
              0.6666666666666666,
              "#ed7953"
             ],
             [
              0.7777777777777778,
              "#fb9f3a"
             ],
             [
              0.8888888888888888,
              "#fdca26"
             ],
             [
              1,
              "#f0f921"
             ]
            ],
            "type": "heatmap"
           }
          ],
          "heatmapgl": [
           {
            "colorbar": {
             "outlinewidth": 0,
             "ticks": ""
            },
            "colorscale": [
             [
              0,
              "#0d0887"
             ],
             [
              0.1111111111111111,
              "#46039f"
             ],
             [
              0.2222222222222222,
              "#7201a8"
             ],
             [
              0.3333333333333333,
              "#9c179e"
             ],
             [
              0.4444444444444444,
              "#bd3786"
             ],
             [
              0.5555555555555556,
              "#d8576b"
             ],
             [
              0.6666666666666666,
              "#ed7953"
             ],
             [
              0.7777777777777778,
              "#fb9f3a"
             ],
             [
              0.8888888888888888,
              "#fdca26"
             ],
             [
              1,
              "#f0f921"
             ]
            ],
            "type": "heatmapgl"
           }
          ],
          "histogram": [
           {
            "marker": {
             "pattern": {
              "fillmode": "overlay",
              "size": 10,
              "solidity": 0.2
             }
            },
            "type": "histogram"
           }
          ],
          "histogram2d": [
           {
            "colorbar": {
             "outlinewidth": 0,
             "ticks": ""
            },
            "colorscale": [
             [
              0,
              "#0d0887"
             ],
             [
              0.1111111111111111,
              "#46039f"
             ],
             [
              0.2222222222222222,
              "#7201a8"
             ],
             [
              0.3333333333333333,
              "#9c179e"
             ],
             [
              0.4444444444444444,
              "#bd3786"
             ],
             [
              0.5555555555555556,
              "#d8576b"
             ],
             [
              0.6666666666666666,
              "#ed7953"
             ],
             [
              0.7777777777777778,
              "#fb9f3a"
             ],
             [
              0.8888888888888888,
              "#fdca26"
             ],
             [
              1,
              "#f0f921"
             ]
            ],
            "type": "histogram2d"
           }
          ],
          "histogram2dcontour": [
           {
            "colorbar": {
             "outlinewidth": 0,
             "ticks": ""
            },
            "colorscale": [
             [
              0,
              "#0d0887"
             ],
             [
              0.1111111111111111,
              "#46039f"
             ],
             [
              0.2222222222222222,
              "#7201a8"
             ],
             [
              0.3333333333333333,
              "#9c179e"
             ],
             [
              0.4444444444444444,
              "#bd3786"
             ],
             [
              0.5555555555555556,
              "#d8576b"
             ],
             [
              0.6666666666666666,
              "#ed7953"
             ],
             [
              0.7777777777777778,
              "#fb9f3a"
             ],
             [
              0.8888888888888888,
              "#fdca26"
             ],
             [
              1,
              "#f0f921"
             ]
            ],
            "type": "histogram2dcontour"
           }
          ],
          "mesh3d": [
           {
            "colorbar": {
             "outlinewidth": 0,
             "ticks": ""
            },
            "type": "mesh3d"
           }
          ],
          "parcoords": [
           {
            "line": {
             "colorbar": {
              "outlinewidth": 0,
              "ticks": ""
             }
            },
            "type": "parcoords"
           }
          ],
          "pie": [
           {
            "automargin": true,
            "type": "pie"
           }
          ],
          "scatter": [
           {
            "marker": {
             "colorbar": {
              "outlinewidth": 0,
              "ticks": ""
             }
            },
            "type": "scatter"
           }
          ],
          "scatter3d": [
           {
            "line": {
             "colorbar": {
              "outlinewidth": 0,
              "ticks": ""
             }
            },
            "marker": {
             "colorbar": {
              "outlinewidth": 0,
              "ticks": ""
             }
            },
            "type": "scatter3d"
           }
          ],
          "scattercarpet": [
           {
            "marker": {
             "colorbar": {
              "outlinewidth": 0,
              "ticks": ""
             }
            },
            "type": "scattercarpet"
           }
          ],
          "scattergeo": [
           {
            "marker": {
             "colorbar": {
              "outlinewidth": 0,
              "ticks": ""
             }
            },
            "type": "scattergeo"
           }
          ],
          "scattergl": [
           {
            "marker": {
             "colorbar": {
              "outlinewidth": 0,
              "ticks": ""
             }
            },
            "type": "scattergl"
           }
          ],
          "scattermapbox": [
           {
            "marker": {
             "colorbar": {
              "outlinewidth": 0,
              "ticks": ""
             }
            },
            "type": "scattermapbox"
           }
          ],
          "scatterpolar": [
           {
            "marker": {
             "colorbar": {
              "outlinewidth": 0,
              "ticks": ""
             }
            },
            "type": "scatterpolar"
           }
          ],
          "scatterpolargl": [
           {
            "marker": {
             "colorbar": {
              "outlinewidth": 0,
              "ticks": ""
             }
            },
            "type": "scatterpolargl"
           }
          ],
          "scatterternary": [
           {
            "marker": {
             "colorbar": {
              "outlinewidth": 0,
              "ticks": ""
             }
            },
            "type": "scatterternary"
           }
          ],
          "surface": [
           {
            "colorbar": {
             "outlinewidth": 0,
             "ticks": ""
            },
            "colorscale": [
             [
              0,
              "#0d0887"
             ],
             [
              0.1111111111111111,
              "#46039f"
             ],
             [
              0.2222222222222222,
              "#7201a8"
             ],
             [
              0.3333333333333333,
              "#9c179e"
             ],
             [
              0.4444444444444444,
              "#bd3786"
             ],
             [
              0.5555555555555556,
              "#d8576b"
             ],
             [
              0.6666666666666666,
              "#ed7953"
             ],
             [
              0.7777777777777778,
              "#fb9f3a"
             ],
             [
              0.8888888888888888,
              "#fdca26"
             ],
             [
              1,
              "#f0f921"
             ]
            ],
            "type": "surface"
           }
          ],
          "table": [
           {
            "cells": {
             "fill": {
              "color": "#EBF0F8"
             },
             "line": {
              "color": "white"
             }
            },
            "header": {
             "fill": {
              "color": "#C8D4E3"
             },
             "line": {
              "color": "white"
             }
            },
            "type": "table"
           }
          ]
         },
         "layout": {
          "annotationdefaults": {
           "arrowcolor": "#2a3f5f",
           "arrowhead": 0,
           "arrowwidth": 1
          },
          "autotypenumbers": "strict",
          "coloraxis": {
           "colorbar": {
            "outlinewidth": 0,
            "ticks": ""
           }
          },
          "colorscale": {
           "diverging": [
            [
             0,
             "#8e0152"
            ],
            [
             0.1,
             "#c51b7d"
            ],
            [
             0.2,
             "#de77ae"
            ],
            [
             0.3,
             "#f1b6da"
            ],
            [
             0.4,
             "#fde0ef"
            ],
            [
             0.5,
             "#f7f7f7"
            ],
            [
             0.6,
             "#e6f5d0"
            ],
            [
             0.7,
             "#b8e186"
            ],
            [
             0.8,
             "#7fbc41"
            ],
            [
             0.9,
             "#4d9221"
            ],
            [
             1,
             "#276419"
            ]
           ],
           "sequential": [
            [
             0,
             "#0d0887"
            ],
            [
             0.1111111111111111,
             "#46039f"
            ],
            [
             0.2222222222222222,
             "#7201a8"
            ],
            [
             0.3333333333333333,
             "#9c179e"
            ],
            [
             0.4444444444444444,
             "#bd3786"
            ],
            [
             0.5555555555555556,
             "#d8576b"
            ],
            [
             0.6666666666666666,
             "#ed7953"
            ],
            [
             0.7777777777777778,
             "#fb9f3a"
            ],
            [
             0.8888888888888888,
             "#fdca26"
            ],
            [
             1,
             "#f0f921"
            ]
           ],
           "sequentialminus": [
            [
             0,
             "#0d0887"
            ],
            [
             0.1111111111111111,
             "#46039f"
            ],
            [
             0.2222222222222222,
             "#7201a8"
            ],
            [
             0.3333333333333333,
             "#9c179e"
            ],
            [
             0.4444444444444444,
             "#bd3786"
            ],
            [
             0.5555555555555556,
             "#d8576b"
            ],
            [
             0.6666666666666666,
             "#ed7953"
            ],
            [
             0.7777777777777778,
             "#fb9f3a"
            ],
            [
             0.8888888888888888,
             "#fdca26"
            ],
            [
             1,
             "#f0f921"
            ]
           ]
          },
          "colorway": [
           "#636efa",
           "#EF553B",
           "#00cc96",
           "#ab63fa",
           "#FFA15A",
           "#19d3f3",
           "#FF6692",
           "#B6E880",
           "#FF97FF",
           "#FECB52"
          ],
          "font": {
           "color": "#2a3f5f"
          },
          "geo": {
           "bgcolor": "white",
           "lakecolor": "white",
           "landcolor": "#E5ECF6",
           "showlakes": true,
           "showland": true,
           "subunitcolor": "white"
          },
          "hoverlabel": {
           "align": "left"
          },
          "hovermode": "closest",
          "mapbox": {
           "style": "light"
          },
          "paper_bgcolor": "white",
          "plot_bgcolor": "#E5ECF6",
          "polar": {
           "angularaxis": {
            "gridcolor": "white",
            "linecolor": "white",
            "ticks": ""
           },
           "bgcolor": "#E5ECF6",
           "radialaxis": {
            "gridcolor": "white",
            "linecolor": "white",
            "ticks": ""
           }
          },
          "scene": {
           "xaxis": {
            "backgroundcolor": "#E5ECF6",
            "gridcolor": "white",
            "gridwidth": 2,
            "linecolor": "white",
            "showbackground": true,
            "ticks": "",
            "zerolinecolor": "white"
           },
           "yaxis": {
            "backgroundcolor": "#E5ECF6",
            "gridcolor": "white",
            "gridwidth": 2,
            "linecolor": "white",
            "showbackground": true,
            "ticks": "",
            "zerolinecolor": "white"
           },
           "zaxis": {
            "backgroundcolor": "#E5ECF6",
            "gridcolor": "white",
            "gridwidth": 2,
            "linecolor": "white",
            "showbackground": true,
            "ticks": "",
            "zerolinecolor": "white"
           }
          },
          "shapedefaults": {
           "line": {
            "color": "#2a3f5f"
           }
          },
          "ternary": {
           "aaxis": {
            "gridcolor": "white",
            "linecolor": "white",
            "ticks": ""
           },
           "baxis": {
            "gridcolor": "white",
            "linecolor": "white",
            "ticks": ""
           },
           "bgcolor": "#E5ECF6",
           "caxis": {
            "gridcolor": "white",
            "linecolor": "white",
            "ticks": ""
           }
          },
          "title": {
           "x": 0.05
          },
          "xaxis": {
           "automargin": true,
           "gridcolor": "white",
           "linecolor": "white",
           "ticks": "",
           "title": {
            "standoff": 15
           },
           "zerolinecolor": "white",
           "zerolinewidth": 2
          },
          "yaxis": {
           "automargin": true,
           "gridcolor": "white",
           "linecolor": "white",
           "ticks": "",
           "title": {
            "standoff": 15
           },
           "zerolinecolor": "white",
           "zerolinewidth": 2
          }
         }
        }
       }
      },
      "text/html": [
       "<div>                            <div id=\"3c47f9cd-2858-42a3-9231-0d1a5637caf7\" class=\"plotly-graph-div\" style=\"height:525px; width:100%;\"></div>            <script type=\"text/javascript\">                require([\"plotly\"], function(Plotly) {                    window.PLOTLYENV=window.PLOTLYENV || {};                                    if (document.getElementById(\"3c47f9cd-2858-42a3-9231-0d1a5637caf7\")) {                    Plotly.newPlot(                        \"3c47f9cd-2858-42a3-9231-0d1a5637caf7\",                        [{\"hovertemplate\":\"Total Contestant: %{y:.2f}<br>Women Contestant:%{text}<extra></extra>\",\"marker\":{\"color\":\"purple\"},\"name\":\"Women Contestant Percentage\",\"text\":[\"19\",\"11\",\"81\",\"482\",\"62\"],\"x\":[\"Goa\",\"Manipur\",\"Punjab\",\"Uttar Pradesh\",\"Uttarakhand\"],\"y\":[7.57,4.14,7.07,9.93,9.73],\"type\":\"bar\"},{\"marker\":{\"color\":\"grey\"},\"name\":\"Women Winner Percentage\",\"x\":[\"Goa\",\"Manipur\",\"Punjab\",\"Uttar Pradesh\",\"Uttarakhand\"],\"y\":[5.0,3.33,5.13,10.42,7.14],\"type\":\"bar\"}],                        {\"template\":{\"data\":{\"bar\":[{\"error_x\":{\"color\":\"#2a3f5f\"},\"error_y\":{\"color\":\"#2a3f5f\"},\"marker\":{\"line\":{\"color\":\"#E5ECF6\",\"width\":0.5},\"pattern\":{\"fillmode\":\"overlay\",\"size\":10,\"solidity\":0.2}},\"type\":\"bar\"}],\"barpolar\":[{\"marker\":{\"line\":{\"color\":\"#E5ECF6\",\"width\":0.5},\"pattern\":{\"fillmode\":\"overlay\",\"size\":10,\"solidity\":0.2}},\"type\":\"barpolar\"}],\"carpet\":[{\"aaxis\":{\"endlinecolor\":\"#2a3f5f\",\"gridcolor\":\"white\",\"linecolor\":\"white\",\"minorgridcolor\":\"white\",\"startlinecolor\":\"#2a3f5f\"},\"baxis\":{\"endlinecolor\":\"#2a3f5f\",\"gridcolor\":\"white\",\"linecolor\":\"white\",\"minorgridcolor\":\"white\",\"startlinecolor\":\"#2a3f5f\"},\"type\":\"carpet\"}],\"choropleth\":[{\"colorbar\":{\"outlinewidth\":0,\"ticks\":\"\"},\"type\":\"choropleth\"}],\"contour\":[{\"colorbar\":{\"outlinewidth\":0,\"ticks\":\"\"},\"colorscale\":[[0.0,\"#0d0887\"],[0.1111111111111111,\"#46039f\"],[0.2222222222222222,\"#7201a8\"],[0.3333333333333333,\"#9c179e\"],[0.4444444444444444,\"#bd3786\"],[0.5555555555555556,\"#d8576b\"],[0.6666666666666666,\"#ed7953\"],[0.7777777777777778,\"#fb9f3a\"],[0.8888888888888888,\"#fdca26\"],[1.0,\"#f0f921\"]],\"type\":\"contour\"}],\"contourcarpet\":[{\"colorbar\":{\"outlinewidth\":0,\"ticks\":\"\"},\"type\":\"contourcarpet\"}],\"heatmap\":[{\"colorbar\":{\"outlinewidth\":0,\"ticks\":\"\"},\"colorscale\":[[0.0,\"#0d0887\"],[0.1111111111111111,\"#46039f\"],[0.2222222222222222,\"#7201a8\"],[0.3333333333333333,\"#9c179e\"],[0.4444444444444444,\"#bd3786\"],[0.5555555555555556,\"#d8576b\"],[0.6666666666666666,\"#ed7953\"],[0.7777777777777778,\"#fb9f3a\"],[0.8888888888888888,\"#fdca26\"],[1.0,\"#f0f921\"]],\"type\":\"heatmap\"}],\"heatmapgl\":[{\"colorbar\":{\"outlinewidth\":0,\"ticks\":\"\"},\"colorscale\":[[0.0,\"#0d0887\"],[0.1111111111111111,\"#46039f\"],[0.2222222222222222,\"#7201a8\"],[0.3333333333333333,\"#9c179e\"],[0.4444444444444444,\"#bd3786\"],[0.5555555555555556,\"#d8576b\"],[0.6666666666666666,\"#ed7953\"],[0.7777777777777778,\"#fb9f3a\"],[0.8888888888888888,\"#fdca26\"],[1.0,\"#f0f921\"]],\"type\":\"heatmapgl\"}],\"histogram\":[{\"marker\":{\"pattern\":{\"fillmode\":\"overlay\",\"size\":10,\"solidity\":0.2}},\"type\":\"histogram\"}],\"histogram2d\":[{\"colorbar\":{\"outlinewidth\":0,\"ticks\":\"\"},\"colorscale\":[[0.0,\"#0d0887\"],[0.1111111111111111,\"#46039f\"],[0.2222222222222222,\"#7201a8\"],[0.3333333333333333,\"#9c179e\"],[0.4444444444444444,\"#bd3786\"],[0.5555555555555556,\"#d8576b\"],[0.6666666666666666,\"#ed7953\"],[0.7777777777777778,\"#fb9f3a\"],[0.8888888888888888,\"#fdca26\"],[1.0,\"#f0f921\"]],\"type\":\"histogram2d\"}],\"histogram2dcontour\":[{\"colorbar\":{\"outlinewidth\":0,\"ticks\":\"\"},\"colorscale\":[[0.0,\"#0d0887\"],[0.1111111111111111,\"#46039f\"],[0.2222222222222222,\"#7201a8\"],[0.3333333333333333,\"#9c179e\"],[0.4444444444444444,\"#bd3786\"],[0.5555555555555556,\"#d8576b\"],[0.6666666666666666,\"#ed7953\"],[0.7777777777777778,\"#fb9f3a\"],[0.8888888888888888,\"#fdca26\"],[1.0,\"#f0f921\"]],\"type\":\"histogram2dcontour\"}],\"mesh3d\":[{\"colorbar\":{\"outlinewidth\":0,\"ticks\":\"\"},\"type\":\"mesh3d\"}],\"parcoords\":[{\"line\":{\"colorbar\":{\"outlinewidth\":0,\"ticks\":\"\"}},\"type\":\"parcoords\"}],\"pie\":[{\"automargin\":true,\"type\":\"pie\"}],\"scatter\":[{\"marker\":{\"colorbar\":{\"outlinewidth\":0,\"ticks\":\"\"}},\"type\":\"scatter\"}],\"scatter3d\":[{\"line\":{\"colorbar\":{\"outlinewidth\":0,\"ticks\":\"\"}},\"marker\":{\"colorbar\":{\"outlinewidth\":0,\"ticks\":\"\"}},\"type\":\"scatter3d\"}],\"scattercarpet\":[{\"marker\":{\"colorbar\":{\"outlinewidth\":0,\"ticks\":\"\"}},\"type\":\"scattercarpet\"}],\"scattergeo\":[{\"marker\":{\"colorbar\":{\"outlinewidth\":0,\"ticks\":\"\"}},\"type\":\"scattergeo\"}],\"scattergl\":[{\"marker\":{\"colorbar\":{\"outlinewidth\":0,\"ticks\":\"\"}},\"type\":\"scattergl\"}],\"scattermapbox\":[{\"marker\":{\"colorbar\":{\"outlinewidth\":0,\"ticks\":\"\"}},\"type\":\"scattermapbox\"}],\"scatterpolar\":[{\"marker\":{\"colorbar\":{\"outlinewidth\":0,\"ticks\":\"\"}},\"type\":\"scatterpolar\"}],\"scatterpolargl\":[{\"marker\":{\"colorbar\":{\"outlinewidth\":0,\"ticks\":\"\"}},\"type\":\"scatterpolargl\"}],\"scatterternary\":[{\"marker\":{\"colorbar\":{\"outlinewidth\":0,\"ticks\":\"\"}},\"type\":\"scatterternary\"}],\"surface\":[{\"colorbar\":{\"outlinewidth\":0,\"ticks\":\"\"},\"colorscale\":[[0.0,\"#0d0887\"],[0.1111111111111111,\"#46039f\"],[0.2222222222222222,\"#7201a8\"],[0.3333333333333333,\"#9c179e\"],[0.4444444444444444,\"#bd3786\"],[0.5555555555555556,\"#d8576b\"],[0.6666666666666666,\"#ed7953\"],[0.7777777777777778,\"#fb9f3a\"],[0.8888888888888888,\"#fdca26\"],[1.0,\"#f0f921\"]],\"type\":\"surface\"}],\"table\":[{\"cells\":{\"fill\":{\"color\":\"#EBF0F8\"},\"line\":{\"color\":\"white\"}},\"header\":{\"fill\":{\"color\":\"#C8D4E3\"},\"line\":{\"color\":\"white\"}},\"type\":\"table\"}]},\"layout\":{\"annotationdefaults\":{\"arrowcolor\":\"#2a3f5f\",\"arrowhead\":0,\"arrowwidth\":1},\"autotypenumbers\":\"strict\",\"coloraxis\":{\"colorbar\":{\"outlinewidth\":0,\"ticks\":\"\"}},\"colorscale\":{\"diverging\":[[0,\"#8e0152\"],[0.1,\"#c51b7d\"],[0.2,\"#de77ae\"],[0.3,\"#f1b6da\"],[0.4,\"#fde0ef\"],[0.5,\"#f7f7f7\"],[0.6,\"#e6f5d0\"],[0.7,\"#b8e186\"],[0.8,\"#7fbc41\"],[0.9,\"#4d9221\"],[1,\"#276419\"]],\"sequential\":[[0.0,\"#0d0887\"],[0.1111111111111111,\"#46039f\"],[0.2222222222222222,\"#7201a8\"],[0.3333333333333333,\"#9c179e\"],[0.4444444444444444,\"#bd3786\"],[0.5555555555555556,\"#d8576b\"],[0.6666666666666666,\"#ed7953\"],[0.7777777777777778,\"#fb9f3a\"],[0.8888888888888888,\"#fdca26\"],[1.0,\"#f0f921\"]],\"sequentialminus\":[[0.0,\"#0d0887\"],[0.1111111111111111,\"#46039f\"],[0.2222222222222222,\"#7201a8\"],[0.3333333333333333,\"#9c179e\"],[0.4444444444444444,\"#bd3786\"],[0.5555555555555556,\"#d8576b\"],[0.6666666666666666,\"#ed7953\"],[0.7777777777777778,\"#fb9f3a\"],[0.8888888888888888,\"#fdca26\"],[1.0,\"#f0f921\"]]},\"colorway\":[\"#636efa\",\"#EF553B\",\"#00cc96\",\"#ab63fa\",\"#FFA15A\",\"#19d3f3\",\"#FF6692\",\"#B6E880\",\"#FF97FF\",\"#FECB52\"],\"font\":{\"color\":\"#2a3f5f\"},\"geo\":{\"bgcolor\":\"white\",\"lakecolor\":\"white\",\"landcolor\":\"#E5ECF6\",\"showlakes\":true,\"showland\":true,\"subunitcolor\":\"white\"},\"hoverlabel\":{\"align\":\"left\"},\"hovermode\":\"closest\",\"mapbox\":{\"style\":\"light\"},\"paper_bgcolor\":\"white\",\"plot_bgcolor\":\"#E5ECF6\",\"polar\":{\"angularaxis\":{\"gridcolor\":\"white\",\"linecolor\":\"white\",\"ticks\":\"\"},\"bgcolor\":\"#E5ECF6\",\"radialaxis\":{\"gridcolor\":\"white\",\"linecolor\":\"white\",\"ticks\":\"\"}},\"scene\":{\"xaxis\":{\"backgroundcolor\":\"#E5ECF6\",\"gridcolor\":\"white\",\"gridwidth\":2,\"linecolor\":\"white\",\"showbackground\":true,\"ticks\":\"\",\"zerolinecolor\":\"white\"},\"yaxis\":{\"backgroundcolor\":\"#E5ECF6\",\"gridcolor\":\"white\",\"gridwidth\":2,\"linecolor\":\"white\",\"showbackground\":true,\"ticks\":\"\",\"zerolinecolor\":\"white\"},\"zaxis\":{\"backgroundcolor\":\"#E5ECF6\",\"gridcolor\":\"white\",\"gridwidth\":2,\"linecolor\":\"white\",\"showbackground\":true,\"ticks\":\"\",\"zerolinecolor\":\"white\"}},\"shapedefaults\":{\"line\":{\"color\":\"#2a3f5f\"}},\"ternary\":{\"aaxis\":{\"gridcolor\":\"white\",\"linecolor\":\"white\",\"ticks\":\"\"},\"baxis\":{\"gridcolor\":\"white\",\"linecolor\":\"white\",\"ticks\":\"\"},\"bgcolor\":\"#E5ECF6\",\"caxis\":{\"gridcolor\":\"white\",\"linecolor\":\"white\",\"ticks\":\"\"}},\"title\":{\"x\":0.05},\"xaxis\":{\"automargin\":true,\"gridcolor\":\"white\",\"linecolor\":\"white\",\"ticks\":\"\",\"title\":{\"standoff\":15},\"zerolinecolor\":\"white\",\"zerolinewidth\":2},\"yaxis\":{\"automargin\":true,\"gridcolor\":\"white\",\"linecolor\":\"white\",\"ticks\":\"\",\"title\":{\"standoff\":15},\"zerolinecolor\":\"white\",\"zerolinewidth\":2}}},\"barmode\":\"group\"},                        {\"responsive\": true}                    ).then(function(){\n",
       "                            \n",
       "var gd = document.getElementById('3c47f9cd-2858-42a3-9231-0d1a5637caf7');\n",
       "var x = new MutationObserver(function (mutations, observer) {{\n",
       "        var display = window.getComputedStyle(gd).display;\n",
       "        if (!display || display === 'none') {{\n",
       "            console.log([gd, 'removed!']);\n",
       "            Plotly.purge(gd);\n",
       "            observer.disconnect();\n",
       "        }}\n",
       "}});\n",
       "\n",
       "// Listen for the removal of the full notebook cells\n",
       "var notebookContainer = gd.closest('#notebook-container');\n",
       "if (notebookContainer) {{\n",
       "    x.observe(notebookContainer, {childList: true});\n",
       "}}\n",
       "\n",
       "// Listen for the clearing of the current output cell\n",
       "var outputEl = gd.closest('.output');\n",
       "if (outputEl) {{\n",
       "    x.observe(outputEl, {childList: true});\n",
       "}}\n",
       "\n",
       "                        })                };                });            </script>        </div>"
      ]
     },
     "metadata": {},
     "output_type": "display_data"
    }
   ],
   "source": [
    "fig = go.Figure()\n",
    "fig.add_trace(go.Bar(\n",
    "    x=contest['State_Name'].tolist(),\n",
    "    y=contest['women_contestant_per'].tolist(),\n",
    "    name='Women Contestant Percentage',\n",
    "    marker_color='purple',\n",
    "    \n",
    "    hovertemplate =\n",
    "    'Total Contestant: %{y:.2f}'+\n",
    "    '<br>Women Contestant:%{text}'+\n",
    "    '<extra></extra>',\n",
    "    \n",
    "    text = ['{}'.format(i) for i in contest['women_contestant']]\n",
    "))\n",
    "\n",
    "fig.add_trace(go.Bar(\n",
    "   x=contest['State_Name'],\n",
    "    y=contest['women_winner_per'],\n",
    "    name='Women Winner Percentage',\n",
    "    marker_color='grey'\n",
    "))\n",
    "# Here we modify the tickangle of the xaxis, resulting in rotated labels.\n",
    "fig.update_layout(barmode='group')\n",
    "\n",
    "fig.show()"
   ]
  },
  {
   "cell_type": "code",
   "execution_count": null,
   "id": "247a263a",
   "metadata": {},
   "outputs": [],
   "source": [
    "for i in contest[\"women_contestant\"]:\n",
    "    print(i)"
   ]
  },
  {
   "cell_type": "code",
   "execution_count": null,
   "id": "51ac0b12",
   "metadata": {},
   "outputs": [],
   "source": []
  },
  {
   "cell_type": "code",
   "execution_count": 9,
   "id": "1c72c7ca",
   "metadata": {},
   "outputs": [
    {
     "data": {
      "application/vnd.plotly.v1+json": {
       "config": {
        "plotlyServerURL": "https://plot.ly"
       },
       "data": [
        {
         "alignmentgroup": "True",
         "customdata": [
          [
           39,
           40,
           "General"
          ],
          [
           40,
           60,
           "General"
          ],
          [
           83,
           117,
           "General"
          ],
          [
           318,
           403,
           "General"
          ],
          [
           55,
           70,
           "General"
          ]
         ],
         "hovertemplate": "<b>%{hovertext}</b><br><br>Percentage=%{y}<br>Count=%{customdata[0]}<br>Total=%{customdata[1]}<extra></extra>",
         "hovertext": [
          "General",
          "General",
          "General",
          "General",
          "General"
         ],
         "legendgroup": "General",
         "marker": {
          "color": "lightgreen",
          "pattern": {
           "shape": ""
          }
         },
         "name": "General",
         "offsetgroup": "General",
         "orientation": "v",
         "showlegend": true,
         "textposition": "auto",
         "type": "bar",
         "x": [
          "Goa",
          "Manipur",
          "Punjab",
          "Uttar Pradesh",
          "Uttarakhand"
         ],
         "xaxis": "x",
         "y": [
          97.5,
          66.67,
          70.94,
          78.91,
          78.57
         ],
         "yaxis": "y"
        },
        {
         "alignmentgroup": "True",
         "customdata": [
          [
           1,
           40,
           "Scheduled Caste"
          ],
          [
           1,
           60,
           "Scheduled Caste"
          ],
          [
           34,
           117,
           "Scheduled Caste"
          ],
          [
           85,
           403,
           "Scheduled Caste"
          ],
          [
           13,
           70,
           "Scheduled Caste"
          ]
         ],
         "hovertemplate": "<b>%{hovertext}</b><br><br>Percentage=%{y}<br>Count=%{customdata[0]}<br>Total=%{customdata[1]}<extra></extra>",
         "hovertext": [
          "Scheduled Caste",
          "Scheduled Caste",
          "Scheduled Caste",
          "Scheduled Caste",
          "Scheduled Caste"
         ],
         "legendgroup": "Scheduled Caste",
         "marker": {
          "color": "yellow",
          "pattern": {
           "shape": ""
          }
         },
         "name": "Scheduled Caste",
         "offsetgroup": "Scheduled Caste",
         "orientation": "v",
         "showlegend": true,
         "textposition": "auto",
         "type": "bar",
         "x": [
          "Goa",
          "Manipur",
          "Punjab",
          "Uttar Pradesh",
          "Uttarakhand"
         ],
         "xaxis": "x",
         "y": [
          2.5,
          1.67,
          29.06,
          21.09,
          18.57
         ],
         "yaxis": "y"
        },
        {
         "alignmentgroup": "True",
         "customdata": [
          [
           19,
           60,
           "Scheduled Tribe"
          ],
          [
           2,
           70,
           "Scheduled Tribe"
          ]
         ],
         "hovertemplate": "<b>%{hovertext}</b><br><br>Percentage=%{y}<br>Count=%{customdata[0]}<br>Total=%{customdata[1]}<extra></extra>",
         "hovertext": [
          "Scheduled Tribe",
          "Scheduled Tribe"
         ],
         "legendgroup": "Scheduled Tribe",
         "marker": {
          "color": "green",
          "pattern": {
           "shape": ""
          }
         },
         "name": "Scheduled Tribe",
         "offsetgroup": "Scheduled Tribe",
         "orientation": "v",
         "showlegend": true,
         "textposition": "auto",
         "type": "bar",
         "x": [
          "Manipur",
          "Uttarakhand"
         ],
         "xaxis": "x",
         "y": [
          31.67,
          2.86
         ],
         "yaxis": "y"
        }
       ],
       "layout": {
        "barmode": "group",
        "height": 400,
        "legend": {
         "title": {
          "text": "Constituency_Type"
         },
         "tracegroupgap": 0
        },
        "margin": {
         "t": 60
        },
        "plot_bgcolor": "White",
        "template": {
         "data": {
          "bar": [
           {
            "error_x": {
             "color": "#2a3f5f"
            },
            "error_y": {
             "color": "#2a3f5f"
            },
            "marker": {
             "line": {
              "color": "#E5ECF6",
              "width": 0.5
             },
             "pattern": {
              "fillmode": "overlay",
              "size": 10,
              "solidity": 0.2
             }
            },
            "type": "bar"
           }
          ],
          "barpolar": [
           {
            "marker": {
             "line": {
              "color": "#E5ECF6",
              "width": 0.5
             },
             "pattern": {
              "fillmode": "overlay",
              "size": 10,
              "solidity": 0.2
             }
            },
            "type": "barpolar"
           }
          ],
          "carpet": [
           {
            "aaxis": {
             "endlinecolor": "#2a3f5f",
             "gridcolor": "white",
             "linecolor": "white",
             "minorgridcolor": "white",
             "startlinecolor": "#2a3f5f"
            },
            "baxis": {
             "endlinecolor": "#2a3f5f",
             "gridcolor": "white",
             "linecolor": "white",
             "minorgridcolor": "white",
             "startlinecolor": "#2a3f5f"
            },
            "type": "carpet"
           }
          ],
          "choropleth": [
           {
            "colorbar": {
             "outlinewidth": 0,
             "ticks": ""
            },
            "type": "choropleth"
           }
          ],
          "contour": [
           {
            "colorbar": {
             "outlinewidth": 0,
             "ticks": ""
            },
            "colorscale": [
             [
              0,
              "#0d0887"
             ],
             [
              0.1111111111111111,
              "#46039f"
             ],
             [
              0.2222222222222222,
              "#7201a8"
             ],
             [
              0.3333333333333333,
              "#9c179e"
             ],
             [
              0.4444444444444444,
              "#bd3786"
             ],
             [
              0.5555555555555556,
              "#d8576b"
             ],
             [
              0.6666666666666666,
              "#ed7953"
             ],
             [
              0.7777777777777778,
              "#fb9f3a"
             ],
             [
              0.8888888888888888,
              "#fdca26"
             ],
             [
              1,
              "#f0f921"
             ]
            ],
            "type": "contour"
           }
          ],
          "contourcarpet": [
           {
            "colorbar": {
             "outlinewidth": 0,
             "ticks": ""
            },
            "type": "contourcarpet"
           }
          ],
          "heatmap": [
           {
            "colorbar": {
             "outlinewidth": 0,
             "ticks": ""
            },
            "colorscale": [
             [
              0,
              "#0d0887"
             ],
             [
              0.1111111111111111,
              "#46039f"
             ],
             [
              0.2222222222222222,
              "#7201a8"
             ],
             [
              0.3333333333333333,
              "#9c179e"
             ],
             [
              0.4444444444444444,
              "#bd3786"
             ],
             [
              0.5555555555555556,
              "#d8576b"
             ],
             [
              0.6666666666666666,
              "#ed7953"
             ],
             [
              0.7777777777777778,
              "#fb9f3a"
             ],
             [
              0.8888888888888888,
              "#fdca26"
             ],
             [
              1,
              "#f0f921"
             ]
            ],
            "type": "heatmap"
           }
          ],
          "heatmapgl": [
           {
            "colorbar": {
             "outlinewidth": 0,
             "ticks": ""
            },
            "colorscale": [
             [
              0,
              "#0d0887"
             ],
             [
              0.1111111111111111,
              "#46039f"
             ],
             [
              0.2222222222222222,
              "#7201a8"
             ],
             [
              0.3333333333333333,
              "#9c179e"
             ],
             [
              0.4444444444444444,
              "#bd3786"
             ],
             [
              0.5555555555555556,
              "#d8576b"
             ],
             [
              0.6666666666666666,
              "#ed7953"
             ],
             [
              0.7777777777777778,
              "#fb9f3a"
             ],
             [
              0.8888888888888888,
              "#fdca26"
             ],
             [
              1,
              "#f0f921"
             ]
            ],
            "type": "heatmapgl"
           }
          ],
          "histogram": [
           {
            "marker": {
             "pattern": {
              "fillmode": "overlay",
              "size": 10,
              "solidity": 0.2
             }
            },
            "type": "histogram"
           }
          ],
          "histogram2d": [
           {
            "colorbar": {
             "outlinewidth": 0,
             "ticks": ""
            },
            "colorscale": [
             [
              0,
              "#0d0887"
             ],
             [
              0.1111111111111111,
              "#46039f"
             ],
             [
              0.2222222222222222,
              "#7201a8"
             ],
             [
              0.3333333333333333,
              "#9c179e"
             ],
             [
              0.4444444444444444,
              "#bd3786"
             ],
             [
              0.5555555555555556,
              "#d8576b"
             ],
             [
              0.6666666666666666,
              "#ed7953"
             ],
             [
              0.7777777777777778,
              "#fb9f3a"
             ],
             [
              0.8888888888888888,
              "#fdca26"
             ],
             [
              1,
              "#f0f921"
             ]
            ],
            "type": "histogram2d"
           }
          ],
          "histogram2dcontour": [
           {
            "colorbar": {
             "outlinewidth": 0,
             "ticks": ""
            },
            "colorscale": [
             [
              0,
              "#0d0887"
             ],
             [
              0.1111111111111111,
              "#46039f"
             ],
             [
              0.2222222222222222,
              "#7201a8"
             ],
             [
              0.3333333333333333,
              "#9c179e"
             ],
             [
              0.4444444444444444,
              "#bd3786"
             ],
             [
              0.5555555555555556,
              "#d8576b"
             ],
             [
              0.6666666666666666,
              "#ed7953"
             ],
             [
              0.7777777777777778,
              "#fb9f3a"
             ],
             [
              0.8888888888888888,
              "#fdca26"
             ],
             [
              1,
              "#f0f921"
             ]
            ],
            "type": "histogram2dcontour"
           }
          ],
          "mesh3d": [
           {
            "colorbar": {
             "outlinewidth": 0,
             "ticks": ""
            },
            "type": "mesh3d"
           }
          ],
          "parcoords": [
           {
            "line": {
             "colorbar": {
              "outlinewidth": 0,
              "ticks": ""
             }
            },
            "type": "parcoords"
           }
          ],
          "pie": [
           {
            "automargin": true,
            "type": "pie"
           }
          ],
          "scatter": [
           {
            "marker": {
             "colorbar": {
              "outlinewidth": 0,
              "ticks": ""
             }
            },
            "type": "scatter"
           }
          ],
          "scatter3d": [
           {
            "line": {
             "colorbar": {
              "outlinewidth": 0,
              "ticks": ""
             }
            },
            "marker": {
             "colorbar": {
              "outlinewidth": 0,
              "ticks": ""
             }
            },
            "type": "scatter3d"
           }
          ],
          "scattercarpet": [
           {
            "marker": {
             "colorbar": {
              "outlinewidth": 0,
              "ticks": ""
             }
            },
            "type": "scattercarpet"
           }
          ],
          "scattergeo": [
           {
            "marker": {
             "colorbar": {
              "outlinewidth": 0,
              "ticks": ""
             }
            },
            "type": "scattergeo"
           }
          ],
          "scattergl": [
           {
            "marker": {
             "colorbar": {
              "outlinewidth": 0,
              "ticks": ""
             }
            },
            "type": "scattergl"
           }
          ],
          "scattermapbox": [
           {
            "marker": {
             "colorbar": {
              "outlinewidth": 0,
              "ticks": ""
             }
            },
            "type": "scattermapbox"
           }
          ],
          "scatterpolar": [
           {
            "marker": {
             "colorbar": {
              "outlinewidth": 0,
              "ticks": ""
             }
            },
            "type": "scatterpolar"
           }
          ],
          "scatterpolargl": [
           {
            "marker": {
             "colorbar": {
              "outlinewidth": 0,
              "ticks": ""
             }
            },
            "type": "scatterpolargl"
           }
          ],
          "scatterternary": [
           {
            "marker": {
             "colorbar": {
              "outlinewidth": 0,
              "ticks": ""
             }
            },
            "type": "scatterternary"
           }
          ],
          "surface": [
           {
            "colorbar": {
             "outlinewidth": 0,
             "ticks": ""
            },
            "colorscale": [
             [
              0,
              "#0d0887"
             ],
             [
              0.1111111111111111,
              "#46039f"
             ],
             [
              0.2222222222222222,
              "#7201a8"
             ],
             [
              0.3333333333333333,
              "#9c179e"
             ],
             [
              0.4444444444444444,
              "#bd3786"
             ],
             [
              0.5555555555555556,
              "#d8576b"
             ],
             [
              0.6666666666666666,
              "#ed7953"
             ],
             [
              0.7777777777777778,
              "#fb9f3a"
             ],
             [
              0.8888888888888888,
              "#fdca26"
             ],
             [
              1,
              "#f0f921"
             ]
            ],
            "type": "surface"
           }
          ],
          "table": [
           {
            "cells": {
             "fill": {
              "color": "#EBF0F8"
             },
             "line": {
              "color": "white"
             }
            },
            "header": {
             "fill": {
              "color": "#C8D4E3"
             },
             "line": {
              "color": "white"
             }
            },
            "type": "table"
           }
          ]
         },
         "layout": {
          "annotationdefaults": {
           "arrowcolor": "#2a3f5f",
           "arrowhead": 0,
           "arrowwidth": 1
          },
          "autotypenumbers": "strict",
          "coloraxis": {
           "colorbar": {
            "outlinewidth": 0,
            "ticks": ""
           }
          },
          "colorscale": {
           "diverging": [
            [
             0,
             "#8e0152"
            ],
            [
             0.1,
             "#c51b7d"
            ],
            [
             0.2,
             "#de77ae"
            ],
            [
             0.3,
             "#f1b6da"
            ],
            [
             0.4,
             "#fde0ef"
            ],
            [
             0.5,
             "#f7f7f7"
            ],
            [
             0.6,
             "#e6f5d0"
            ],
            [
             0.7,
             "#b8e186"
            ],
            [
             0.8,
             "#7fbc41"
            ],
            [
             0.9,
             "#4d9221"
            ],
            [
             1,
             "#276419"
            ]
           ],
           "sequential": [
            [
             0,
             "#0d0887"
            ],
            [
             0.1111111111111111,
             "#46039f"
            ],
            [
             0.2222222222222222,
             "#7201a8"
            ],
            [
             0.3333333333333333,
             "#9c179e"
            ],
            [
             0.4444444444444444,
             "#bd3786"
            ],
            [
             0.5555555555555556,
             "#d8576b"
            ],
            [
             0.6666666666666666,
             "#ed7953"
            ],
            [
             0.7777777777777778,
             "#fb9f3a"
            ],
            [
             0.8888888888888888,
             "#fdca26"
            ],
            [
             1,
             "#f0f921"
            ]
           ],
           "sequentialminus": [
            [
             0,
             "#0d0887"
            ],
            [
             0.1111111111111111,
             "#46039f"
            ],
            [
             0.2222222222222222,
             "#7201a8"
            ],
            [
             0.3333333333333333,
             "#9c179e"
            ],
            [
             0.4444444444444444,
             "#bd3786"
            ],
            [
             0.5555555555555556,
             "#d8576b"
            ],
            [
             0.6666666666666666,
             "#ed7953"
            ],
            [
             0.7777777777777778,
             "#fb9f3a"
            ],
            [
             0.8888888888888888,
             "#fdca26"
            ],
            [
             1,
             "#f0f921"
            ]
           ]
          },
          "colorway": [
           "#636efa",
           "#EF553B",
           "#00cc96",
           "#ab63fa",
           "#FFA15A",
           "#19d3f3",
           "#FF6692",
           "#B6E880",
           "#FF97FF",
           "#FECB52"
          ],
          "font": {
           "color": "#2a3f5f"
          },
          "geo": {
           "bgcolor": "white",
           "lakecolor": "white",
           "landcolor": "#E5ECF6",
           "showlakes": true,
           "showland": true,
           "subunitcolor": "white"
          },
          "hoverlabel": {
           "align": "left"
          },
          "hovermode": "closest",
          "mapbox": {
           "style": "light"
          },
          "paper_bgcolor": "white",
          "plot_bgcolor": "#E5ECF6",
          "polar": {
           "angularaxis": {
            "gridcolor": "white",
            "linecolor": "white",
            "ticks": ""
           },
           "bgcolor": "#E5ECF6",
           "radialaxis": {
            "gridcolor": "white",
            "linecolor": "white",
            "ticks": ""
           }
          },
          "scene": {
           "xaxis": {
            "backgroundcolor": "#E5ECF6",
            "gridcolor": "white",
            "gridwidth": 2,
            "linecolor": "white",
            "showbackground": true,
            "ticks": "",
            "zerolinecolor": "white"
           },
           "yaxis": {
            "backgroundcolor": "#E5ECF6",
            "gridcolor": "white",
            "gridwidth": 2,
            "linecolor": "white",
            "showbackground": true,
            "ticks": "",
            "zerolinecolor": "white"
           },
           "zaxis": {
            "backgroundcolor": "#E5ECF6",
            "gridcolor": "white",
            "gridwidth": 2,
            "linecolor": "white",
            "showbackground": true,
            "ticks": "",
            "zerolinecolor": "white"
           }
          },
          "shapedefaults": {
           "line": {
            "color": "#2a3f5f"
           }
          },
          "ternary": {
           "aaxis": {
            "gridcolor": "white",
            "linecolor": "white",
            "ticks": ""
           },
           "baxis": {
            "gridcolor": "white",
            "linecolor": "white",
            "ticks": ""
           },
           "bgcolor": "#E5ECF6",
           "caxis": {
            "gridcolor": "white",
            "linecolor": "white",
            "ticks": ""
           }
          },
          "title": {
           "x": 0.05
          },
          "xaxis": {
           "automargin": true,
           "gridcolor": "white",
           "linecolor": "white",
           "ticks": "",
           "title": {
            "standoff": 15
           },
           "zerolinecolor": "white",
           "zerolinewidth": 2
          },
          "yaxis": {
           "automargin": true,
           "gridcolor": "white",
           "linecolor": "white",
           "ticks": "",
           "title": {
            "standoff": 15
           },
           "zerolinecolor": "white",
           "zerolinewidth": 2
          }
         }
        },
        "xaxis": {
         "anchor": "y",
         "domain": [
          0,
          1
         ],
         "linecolor": "grey",
         "linewidth": 1,
         "showline": true,
         "title": {
          "text": "State_Name"
         }
        },
        "yaxis": {
         "anchor": "x",
         "domain": [
          0,
          1
         ],
         "linecolor": "grey",
         "linewidth": 1,
         "showline": true,
         "title": {
          "text": "Percentage"
         }
        }
       }
      },
      "text/html": [
       "<div>                            <div id=\"70c6df52-f303-4834-8d6b-10804c8e4ccb\" class=\"plotly-graph-div\" style=\"height:400px; width:100%;\"></div>            <script type=\"text/javascript\">                require([\"plotly\"], function(Plotly) {                    window.PLOTLYENV=window.PLOTLYENV || {};                                    if (document.getElementById(\"70c6df52-f303-4834-8d6b-10804c8e4ccb\")) {                    Plotly.newPlot(                        \"70c6df52-f303-4834-8d6b-10804c8e4ccb\",                        [{\"alignmentgroup\":\"True\",\"customdata\":[[39,40,\"General\"],[40,60,\"General\"],[83,117,\"General\"],[318,403,\"General\"],[55,70,\"General\"]],\"hovertemplate\":\"<b>%{hovertext}</b><br><br>Percentage=%{y}<br>Count=%{customdata[0]}<br>Total=%{customdata[1]}<extra></extra>\",\"hovertext\":[\"General\",\"General\",\"General\",\"General\",\"General\"],\"legendgroup\":\"General\",\"marker\":{\"color\":\"lightgreen\",\"pattern\":{\"shape\":\"\"}},\"name\":\"General\",\"offsetgroup\":\"General\",\"orientation\":\"v\",\"showlegend\":true,\"textposition\":\"auto\",\"x\":[\"Goa\",\"Manipur\",\"Punjab\",\"Uttar Pradesh\",\"Uttarakhand\"],\"xaxis\":\"x\",\"y\":[97.5,66.67,70.94,78.91,78.57],\"yaxis\":\"y\",\"type\":\"bar\"},{\"alignmentgroup\":\"True\",\"customdata\":[[1,40,\"Scheduled Caste\"],[1,60,\"Scheduled Caste\"],[34,117,\"Scheduled Caste\"],[85,403,\"Scheduled Caste\"],[13,70,\"Scheduled Caste\"]],\"hovertemplate\":\"<b>%{hovertext}</b><br><br>Percentage=%{y}<br>Count=%{customdata[0]}<br>Total=%{customdata[1]}<extra></extra>\",\"hovertext\":[\"Scheduled Caste\",\"Scheduled Caste\",\"Scheduled Caste\",\"Scheduled Caste\",\"Scheduled Caste\"],\"legendgroup\":\"Scheduled Caste\",\"marker\":{\"color\":\"yellow\",\"pattern\":{\"shape\":\"\"}},\"name\":\"Scheduled Caste\",\"offsetgroup\":\"Scheduled Caste\",\"orientation\":\"v\",\"showlegend\":true,\"textposition\":\"auto\",\"x\":[\"Goa\",\"Manipur\",\"Punjab\",\"Uttar Pradesh\",\"Uttarakhand\"],\"xaxis\":\"x\",\"y\":[2.5,1.67,29.06,21.09,18.57],\"yaxis\":\"y\",\"type\":\"bar\"},{\"alignmentgroup\":\"True\",\"customdata\":[[19,60,\"Scheduled Tribe\"],[2,70,\"Scheduled Tribe\"]],\"hovertemplate\":\"<b>%{hovertext}</b><br><br>Percentage=%{y}<br>Count=%{customdata[0]}<br>Total=%{customdata[1]}<extra></extra>\",\"hovertext\":[\"Scheduled Tribe\",\"Scheduled Tribe\"],\"legendgroup\":\"Scheduled Tribe\",\"marker\":{\"color\":\"green\",\"pattern\":{\"shape\":\"\"}},\"name\":\"Scheduled Tribe\",\"offsetgroup\":\"Scheduled Tribe\",\"orientation\":\"v\",\"showlegend\":true,\"textposition\":\"auto\",\"x\":[\"Manipur\",\"Uttarakhand\"],\"xaxis\":\"x\",\"y\":[31.67,2.86],\"yaxis\":\"y\",\"type\":\"bar\"}],                        {\"template\":{\"data\":{\"bar\":[{\"error_x\":{\"color\":\"#2a3f5f\"},\"error_y\":{\"color\":\"#2a3f5f\"},\"marker\":{\"line\":{\"color\":\"#E5ECF6\",\"width\":0.5},\"pattern\":{\"fillmode\":\"overlay\",\"size\":10,\"solidity\":0.2}},\"type\":\"bar\"}],\"barpolar\":[{\"marker\":{\"line\":{\"color\":\"#E5ECF6\",\"width\":0.5},\"pattern\":{\"fillmode\":\"overlay\",\"size\":10,\"solidity\":0.2}},\"type\":\"barpolar\"}],\"carpet\":[{\"aaxis\":{\"endlinecolor\":\"#2a3f5f\",\"gridcolor\":\"white\",\"linecolor\":\"white\",\"minorgridcolor\":\"white\",\"startlinecolor\":\"#2a3f5f\"},\"baxis\":{\"endlinecolor\":\"#2a3f5f\",\"gridcolor\":\"white\",\"linecolor\":\"white\",\"minorgridcolor\":\"white\",\"startlinecolor\":\"#2a3f5f\"},\"type\":\"carpet\"}],\"choropleth\":[{\"colorbar\":{\"outlinewidth\":0,\"ticks\":\"\"},\"type\":\"choropleth\"}],\"contour\":[{\"colorbar\":{\"outlinewidth\":0,\"ticks\":\"\"},\"colorscale\":[[0.0,\"#0d0887\"],[0.1111111111111111,\"#46039f\"],[0.2222222222222222,\"#7201a8\"],[0.3333333333333333,\"#9c179e\"],[0.4444444444444444,\"#bd3786\"],[0.5555555555555556,\"#d8576b\"],[0.6666666666666666,\"#ed7953\"],[0.7777777777777778,\"#fb9f3a\"],[0.8888888888888888,\"#fdca26\"],[1.0,\"#f0f921\"]],\"type\":\"contour\"}],\"contourcarpet\":[{\"colorbar\":{\"outlinewidth\":0,\"ticks\":\"\"},\"type\":\"contourcarpet\"}],\"heatmap\":[{\"colorbar\":{\"outlinewidth\":0,\"ticks\":\"\"},\"colorscale\":[[0.0,\"#0d0887\"],[0.1111111111111111,\"#46039f\"],[0.2222222222222222,\"#7201a8\"],[0.3333333333333333,\"#9c179e\"],[0.4444444444444444,\"#bd3786\"],[0.5555555555555556,\"#d8576b\"],[0.6666666666666666,\"#ed7953\"],[0.7777777777777778,\"#fb9f3a\"],[0.8888888888888888,\"#fdca26\"],[1.0,\"#f0f921\"]],\"type\":\"heatmap\"}],\"heatmapgl\":[{\"colorbar\":{\"outlinewidth\":0,\"ticks\":\"\"},\"colorscale\":[[0.0,\"#0d0887\"],[0.1111111111111111,\"#46039f\"],[0.2222222222222222,\"#7201a8\"],[0.3333333333333333,\"#9c179e\"],[0.4444444444444444,\"#bd3786\"],[0.5555555555555556,\"#d8576b\"],[0.6666666666666666,\"#ed7953\"],[0.7777777777777778,\"#fb9f3a\"],[0.8888888888888888,\"#fdca26\"],[1.0,\"#f0f921\"]],\"type\":\"heatmapgl\"}],\"histogram\":[{\"marker\":{\"pattern\":{\"fillmode\":\"overlay\",\"size\":10,\"solidity\":0.2}},\"type\":\"histogram\"}],\"histogram2d\":[{\"colorbar\":{\"outlinewidth\":0,\"ticks\":\"\"},\"colorscale\":[[0.0,\"#0d0887\"],[0.1111111111111111,\"#46039f\"],[0.2222222222222222,\"#7201a8\"],[0.3333333333333333,\"#9c179e\"],[0.4444444444444444,\"#bd3786\"],[0.5555555555555556,\"#d8576b\"],[0.6666666666666666,\"#ed7953\"],[0.7777777777777778,\"#fb9f3a\"],[0.8888888888888888,\"#fdca26\"],[1.0,\"#f0f921\"]],\"type\":\"histogram2d\"}],\"histogram2dcontour\":[{\"colorbar\":{\"outlinewidth\":0,\"ticks\":\"\"},\"colorscale\":[[0.0,\"#0d0887\"],[0.1111111111111111,\"#46039f\"],[0.2222222222222222,\"#7201a8\"],[0.3333333333333333,\"#9c179e\"],[0.4444444444444444,\"#bd3786\"],[0.5555555555555556,\"#d8576b\"],[0.6666666666666666,\"#ed7953\"],[0.7777777777777778,\"#fb9f3a\"],[0.8888888888888888,\"#fdca26\"],[1.0,\"#f0f921\"]],\"type\":\"histogram2dcontour\"}],\"mesh3d\":[{\"colorbar\":{\"outlinewidth\":0,\"ticks\":\"\"},\"type\":\"mesh3d\"}],\"parcoords\":[{\"line\":{\"colorbar\":{\"outlinewidth\":0,\"ticks\":\"\"}},\"type\":\"parcoords\"}],\"pie\":[{\"automargin\":true,\"type\":\"pie\"}],\"scatter\":[{\"marker\":{\"colorbar\":{\"outlinewidth\":0,\"ticks\":\"\"}},\"type\":\"scatter\"}],\"scatter3d\":[{\"line\":{\"colorbar\":{\"outlinewidth\":0,\"ticks\":\"\"}},\"marker\":{\"colorbar\":{\"outlinewidth\":0,\"ticks\":\"\"}},\"type\":\"scatter3d\"}],\"scattercarpet\":[{\"marker\":{\"colorbar\":{\"outlinewidth\":0,\"ticks\":\"\"}},\"type\":\"scattercarpet\"}],\"scattergeo\":[{\"marker\":{\"colorbar\":{\"outlinewidth\":0,\"ticks\":\"\"}},\"type\":\"scattergeo\"}],\"scattergl\":[{\"marker\":{\"colorbar\":{\"outlinewidth\":0,\"ticks\":\"\"}},\"type\":\"scattergl\"}],\"scattermapbox\":[{\"marker\":{\"colorbar\":{\"outlinewidth\":0,\"ticks\":\"\"}},\"type\":\"scattermapbox\"}],\"scatterpolar\":[{\"marker\":{\"colorbar\":{\"outlinewidth\":0,\"ticks\":\"\"}},\"type\":\"scatterpolar\"}],\"scatterpolargl\":[{\"marker\":{\"colorbar\":{\"outlinewidth\":0,\"ticks\":\"\"}},\"type\":\"scatterpolargl\"}],\"scatterternary\":[{\"marker\":{\"colorbar\":{\"outlinewidth\":0,\"ticks\":\"\"}},\"type\":\"scatterternary\"}],\"surface\":[{\"colorbar\":{\"outlinewidth\":0,\"ticks\":\"\"},\"colorscale\":[[0.0,\"#0d0887\"],[0.1111111111111111,\"#46039f\"],[0.2222222222222222,\"#7201a8\"],[0.3333333333333333,\"#9c179e\"],[0.4444444444444444,\"#bd3786\"],[0.5555555555555556,\"#d8576b\"],[0.6666666666666666,\"#ed7953\"],[0.7777777777777778,\"#fb9f3a\"],[0.8888888888888888,\"#fdca26\"],[1.0,\"#f0f921\"]],\"type\":\"surface\"}],\"table\":[{\"cells\":{\"fill\":{\"color\":\"#EBF0F8\"},\"line\":{\"color\":\"white\"}},\"header\":{\"fill\":{\"color\":\"#C8D4E3\"},\"line\":{\"color\":\"white\"}},\"type\":\"table\"}]},\"layout\":{\"annotationdefaults\":{\"arrowcolor\":\"#2a3f5f\",\"arrowhead\":0,\"arrowwidth\":1},\"autotypenumbers\":\"strict\",\"coloraxis\":{\"colorbar\":{\"outlinewidth\":0,\"ticks\":\"\"}},\"colorscale\":{\"diverging\":[[0,\"#8e0152\"],[0.1,\"#c51b7d\"],[0.2,\"#de77ae\"],[0.3,\"#f1b6da\"],[0.4,\"#fde0ef\"],[0.5,\"#f7f7f7\"],[0.6,\"#e6f5d0\"],[0.7,\"#b8e186\"],[0.8,\"#7fbc41\"],[0.9,\"#4d9221\"],[1,\"#276419\"]],\"sequential\":[[0.0,\"#0d0887\"],[0.1111111111111111,\"#46039f\"],[0.2222222222222222,\"#7201a8\"],[0.3333333333333333,\"#9c179e\"],[0.4444444444444444,\"#bd3786\"],[0.5555555555555556,\"#d8576b\"],[0.6666666666666666,\"#ed7953\"],[0.7777777777777778,\"#fb9f3a\"],[0.8888888888888888,\"#fdca26\"],[1.0,\"#f0f921\"]],\"sequentialminus\":[[0.0,\"#0d0887\"],[0.1111111111111111,\"#46039f\"],[0.2222222222222222,\"#7201a8\"],[0.3333333333333333,\"#9c179e\"],[0.4444444444444444,\"#bd3786\"],[0.5555555555555556,\"#d8576b\"],[0.6666666666666666,\"#ed7953\"],[0.7777777777777778,\"#fb9f3a\"],[0.8888888888888888,\"#fdca26\"],[1.0,\"#f0f921\"]]},\"colorway\":[\"#636efa\",\"#EF553B\",\"#00cc96\",\"#ab63fa\",\"#FFA15A\",\"#19d3f3\",\"#FF6692\",\"#B6E880\",\"#FF97FF\",\"#FECB52\"],\"font\":{\"color\":\"#2a3f5f\"},\"geo\":{\"bgcolor\":\"white\",\"lakecolor\":\"white\",\"landcolor\":\"#E5ECF6\",\"showlakes\":true,\"showland\":true,\"subunitcolor\":\"white\"},\"hoverlabel\":{\"align\":\"left\"},\"hovermode\":\"closest\",\"mapbox\":{\"style\":\"light\"},\"paper_bgcolor\":\"white\",\"plot_bgcolor\":\"#E5ECF6\",\"polar\":{\"angularaxis\":{\"gridcolor\":\"white\",\"linecolor\":\"white\",\"ticks\":\"\"},\"bgcolor\":\"#E5ECF6\",\"radialaxis\":{\"gridcolor\":\"white\",\"linecolor\":\"white\",\"ticks\":\"\"}},\"scene\":{\"xaxis\":{\"backgroundcolor\":\"#E5ECF6\",\"gridcolor\":\"white\",\"gridwidth\":2,\"linecolor\":\"white\",\"showbackground\":true,\"ticks\":\"\",\"zerolinecolor\":\"white\"},\"yaxis\":{\"backgroundcolor\":\"#E5ECF6\",\"gridcolor\":\"white\",\"gridwidth\":2,\"linecolor\":\"white\",\"showbackground\":true,\"ticks\":\"\",\"zerolinecolor\":\"white\"},\"zaxis\":{\"backgroundcolor\":\"#E5ECF6\",\"gridcolor\":\"white\",\"gridwidth\":2,\"linecolor\":\"white\",\"showbackground\":true,\"ticks\":\"\",\"zerolinecolor\":\"white\"}},\"shapedefaults\":{\"line\":{\"color\":\"#2a3f5f\"}},\"ternary\":{\"aaxis\":{\"gridcolor\":\"white\",\"linecolor\":\"white\",\"ticks\":\"\"},\"baxis\":{\"gridcolor\":\"white\",\"linecolor\":\"white\",\"ticks\":\"\"},\"bgcolor\":\"#E5ECF6\",\"caxis\":{\"gridcolor\":\"white\",\"linecolor\":\"white\",\"ticks\":\"\"}},\"title\":{\"x\":0.05},\"xaxis\":{\"automargin\":true,\"gridcolor\":\"white\",\"linecolor\":\"white\",\"ticks\":\"\",\"title\":{\"standoff\":15},\"zerolinecolor\":\"white\",\"zerolinewidth\":2},\"yaxis\":{\"automargin\":true,\"gridcolor\":\"white\",\"linecolor\":\"white\",\"ticks\":\"\",\"title\":{\"standoff\":15},\"zerolinecolor\":\"white\",\"zerolinewidth\":2}}},\"xaxis\":{\"anchor\":\"y\",\"domain\":[0.0,1.0],\"title\":{\"text\":\"State_Name\"},\"showline\":true,\"linewidth\":1,\"linecolor\":\"grey\"},\"yaxis\":{\"anchor\":\"x\",\"domain\":[0.0,1.0],\"title\":{\"text\":\"Percentage\"},\"showline\":true,\"linewidth\":1,\"linecolor\":\"grey\"},\"legend\":{\"title\":{\"text\":\"Constituency_Type\"},\"tracegroupgap\":0},\"margin\":{\"t\":60},\"barmode\":\"group\",\"height\":400,\"plot_bgcolor\":\"White\"},                        {\"responsive\": true}                    ).then(function(){\n",
       "                            \n",
       "var gd = document.getElementById('70c6df52-f303-4834-8d6b-10804c8e4ccb');\n",
       "var x = new MutationObserver(function (mutations, observer) {{\n",
       "        var display = window.getComputedStyle(gd).display;\n",
       "        if (!display || display === 'none') {{\n",
       "            console.log([gd, 'removed!']);\n",
       "            Plotly.purge(gd);\n",
       "            observer.disconnect();\n",
       "        }}\n",
       "}});\n",
       "\n",
       "// Listen for the removal of the full notebook cells\n",
       "var notebookContainer = gd.closest('#notebook-container');\n",
       "if (notebookContainer) {{\n",
       "    x.observe(notebookContainer, {childList: true});\n",
       "}}\n",
       "\n",
       "// Listen for the clearing of the current output cell\n",
       "var outputEl = gd.closest('.output');\n",
       "if (outputEl) {{\n",
       "    x.observe(outputEl, {childList: true});\n",
       "}}\n",
       "\n",
       "                        })                };                });            </script>        </div>"
      ]
     },
     "metadata": {},
     "output_type": "display_data"
    }
   ],
   "source": [
    "constituencies=pd.read_csv('./data/constituencies.csv')\n",
    "constituencies['Percentage']=np.nan\n",
    "constituencies['Percentage']=round(constituencies['count_i']*100/ constituencies['total'], 2)\n",
    "\n",
    "constituencies['Constituency_Type']=constituencies['Constituency_Type'].mask(constituencies['Constituency_Type']=='GEN','General')\n",
    "constituencies['Constituency_Type']=constituencies['Constituency_Type'].mask(constituencies['Constituency_Type']=='SC','Scheduled Caste')\n",
    "constituencies['Constituency_Type']=constituencies['Constituency_Type'].mask(constituencies['Constituency_Type']=='ST','Scheduled Tribe')\n",
    "\n",
    "fig = px.bar(constituencies, x=\"State_Name\", y=\"Percentage\",\n",
    "             color='Constituency_Type', barmode='group',\n",
    "             height=400, hover_name=\"Constituency_Type\", hover_data={\"count_i\":True, \"total\":True, \"Constituency_Type\":False,\"State_Name\":False}, \n",
    "             labels = {\"count_i\":\"Count\",\"total\":\"Total\", \"type\":\"\", \"per\":\"Percentage\"}, \n",
    "             color_discrete_map={\n",
    "             'General': 'lightgreen',\n",
    "              'Scheduled Caste': 'yellow',\n",
    "                 'Scheduled Tribe':'green'}\n",
    "            )\n",
    "\n",
    "fig.update_layout(hovermode=None, plot_bgcolor=\"White\")\n",
    "fig.update_xaxes(showline=True, linewidth=1, linecolor='grey')\n",
    "fig.update_yaxes(showline=True, linewidth=1, linecolor='grey')\n",
    "\n",
    "fig.show()"
   ]
  },
  {
   "cell_type": "code",
   "execution_count": 7,
   "id": "e2a62d8a",
   "metadata": {},
   "outputs": [
    {
     "data": {
      "text/plain": [
       "array(['General', 'Scheduled Caste', 'Scheduled Tribe'], dtype=object)"
      ]
     },
     "execution_count": 7,
     "metadata": {},
     "output_type": "execute_result"
    }
   ],
   "source": [
    "\n",
    "\n",
    "constituencies['Constituency_Type'].unique()"
   ]
  },
  {
   "cell_type": "code",
   "execution_count": 85,
   "id": "eff9344a",
   "metadata": {},
   "outputs": [
    {
     "data": {
      "application/vnd.plotly.v1+json": {
       "config": {
        "plotlyServerURL": "https://plot.ly"
       },
       "data": [
        {
         "branchvalues": "total",
         "customdata": [
          [
           "Manipur",
           "Other",
           1,
           1.67
          ],
          [
           "Punjab",
           "LIP",
           2,
           1.71
          ],
          [
           "Uttar Pradesh",
           "Other",
           7,
           1.74
          ],
          [
           "Uttar Pradesh",
           "ADAL",
           9,
           2.23
          ],
          [
           "Uttar Pradesh",
           "Other",
           9,
           2.23
          ],
          [
           "Punjab",
           "INC",
           77,
           65.81
          ],
          [
           "Goa",
           "Other",
           1,
           2.5
          ],
          [
           "Punjab",
           "BJP",
           3,
           2.56
          ],
          [
           "Uttarakhand",
           "IND",
           2,
           2.86
          ],
          [
           "Manipur",
           "Other",
           2,
           3.34
          ],
          [
           "Uttar Pradesh",
           "BSP",
           19,
           4.71
          ],
          [
           "Uttar Pradesh",
           "BJP",
           312,
           77.42
          ],
          [
           "Goa",
           "MAG",
           3,
           7.5
          ],
          [
           "Goa",
           "GFP",
           3,
           7.5
          ],
          [
           "Manipur",
           "NPF",
           4,
           6.67
          ],
          [
           "Manipur",
           "NPEP",
           4,
           6.67
          ],
          [
           "Goa",
           "IND",
           3,
           7.5
          ],
          [
           "Uttar Pradesh",
           "SP",
           47,
           11.66
          ],
          [
           "Punjab",
           "SAD",
           15,
           12.82
          ],
          [
           "Uttarakhand",
           "INC",
           11,
           15.71
          ],
          [
           "Punjab",
           "AAAP",
           20,
           17.09
          ],
          [
           "Goa",
           "BJP",
           13,
           32.5
          ],
          [
           "Uttarakhand",
           "BJP",
           57,
           81.43
          ],
          [
           "Manipur",
           "BJP",
           21,
           35
          ],
          [
           "Goa",
           "INC",
           17,
           42.5
          ],
          [
           "Manipur",
           "INC",
           28,
           46.67
          ],
          [
           "Punjab",
           "AAAP",
           20,
           17.09
          ],
          [
           "Uttar Pradesh",
           "ADAL",
           9,
           2.23
          ],
          [
           "Goa",
           "BJP",
           13,
           32.5
          ],
          [
           "Manipur",
           "BJP",
           21,
           35
          ],
          [
           "Punjab",
           "BJP",
           3,
           2.56
          ],
          [
           "Uttar Pradesh",
           "BJP",
           312,
           77.42
          ],
          [
           "Uttarakhand",
           "BJP",
           57,
           81.43
          ],
          [
           "Uttar Pradesh",
           "BSP",
           19,
           4.71
          ],
          [
           "Goa",
           "GFP",
           3,
           7.5
          ],
          [
           "Goa",
           "INC",
           17,
           42.5
          ],
          [
           "Manipur",
           "INC",
           28,
           46.67
          ],
          [
           "Punjab",
           "INC",
           77,
           65.81
          ],
          [
           "Uttarakhand",
           "INC",
           11,
           15.71
          ],
          [
           "Goa",
           "IND",
           3,
           7.5
          ],
          [
           "Uttarakhand",
           "IND",
           2,
           2.86
          ],
          [
           "Punjab",
           "LIP",
           2,
           1.71
          ],
          [
           "Goa",
           "MAG",
           3,
           7.5
          ],
          [
           "Manipur",
           "NPEP",
           4,
           6.67
          ],
          [
           "Manipur",
           "NPF",
           4,
           6.67
          ],
          [
           "Goa",
           "Other",
           1,
           2.5
          ],
          [
           "Manipur",
           "Other",
           3,
           "(?)"
          ],
          [
           "Uttar Pradesh",
           "Other",
           16,
           "(?)"
          ],
          [
           "Punjab",
           "SAD",
           15,
           12.82
          ],
          [
           "Uttar Pradesh",
           "SP",
           47,
           11.66
          ],
          [
           "Goa",
           "(?)",
           40,
           "(?)"
          ],
          [
           "Manipur",
           "(?)",
           60,
           "(?)"
          ],
          [
           "Punjab",
           "(?)",
           117,
           "(?)"
          ],
          [
           "Uttar Pradesh",
           "(?)",
           403,
           "(?)"
          ],
          [
           "Uttarakhand",
           "(?)",
           70,
           "(?)"
          ]
         ],
         "domain": {
          "x": [
           0,
           1
          ],
          "y": [
           0,
           1
          ]
         },
         "hovertemplate": "Seat: %{customdata[2]}",
         "hovertext": [
          "Manipur",
          "Punjab",
          "Uttar Pradesh",
          "Uttar Pradesh",
          "Uttar Pradesh",
          "Punjab",
          "Goa",
          "Punjab",
          "Uttarakhand",
          "Manipur",
          "Uttar Pradesh",
          "Uttar Pradesh",
          "Goa",
          "Goa",
          "Manipur",
          "Manipur",
          "Goa",
          "Uttar Pradesh",
          "Punjab",
          "Uttarakhand",
          "Punjab",
          "Goa",
          "Uttarakhand",
          "Manipur",
          "Goa",
          "Manipur",
          "Punjab",
          "Uttar Pradesh",
          "Goa",
          "Manipur",
          "Punjab",
          "Uttar Pradesh",
          "Uttarakhand",
          "Uttar Pradesh",
          "Goa",
          "Goa",
          "Manipur",
          "Punjab",
          "Uttarakhand",
          "Goa",
          "Uttarakhand",
          "Punjab",
          "Goa",
          "Manipur",
          "Manipur",
          "Goa",
          "Manipur",
          "Uttar Pradesh",
          "Punjab",
          "Uttar Pradesh",
          "Goa",
          "Manipur",
          "Punjab",
          "Uttar Pradesh",
          "Uttarakhand"
         ],
         "ids": [
          "Manipur/Other/1.67",
          "Punjab/LIP/1.71",
          "Uttar Pradesh/Other/1.74",
          "Uttar Pradesh/ADAL/2.23",
          "Uttar Pradesh/Other/2.23",
          "Punjab/INC/65.81",
          "Goa/Other/2.5",
          "Punjab/BJP/2.56",
          "Uttarakhand/IND/2.86",
          "Manipur/Other/3.34",
          "Uttar Pradesh/BSP/4.71",
          "Uttar Pradesh/BJP/77.42",
          "Goa/MAG/7.5",
          "Goa/GFP/7.5",
          "Manipur/NPF/6.67",
          "Manipur/NPEP/6.67",
          "Goa/IND/7.5",
          "Uttar Pradesh/SP/11.66",
          "Punjab/SAD/12.82",
          "Uttarakhand/INC/15.71",
          "Punjab/AAAP/17.09",
          "Goa/BJP/32.5",
          "Uttarakhand/BJP/81.43",
          "Manipur/BJP/35.0",
          "Goa/INC/42.5",
          "Manipur/INC/46.67",
          "Punjab/AAAP",
          "Uttar Pradesh/ADAL",
          "Goa/BJP",
          "Manipur/BJP",
          "Punjab/BJP",
          "Uttar Pradesh/BJP",
          "Uttarakhand/BJP",
          "Uttar Pradesh/BSP",
          "Goa/GFP",
          "Goa/INC",
          "Manipur/INC",
          "Punjab/INC",
          "Uttarakhand/INC",
          "Goa/IND",
          "Uttarakhand/IND",
          "Punjab/LIP",
          "Goa/MAG",
          "Manipur/NPEP",
          "Manipur/NPF",
          "Goa/Other",
          "Manipur/Other",
          "Uttar Pradesh/Other",
          "Punjab/SAD",
          "Uttar Pradesh/SP",
          "Goa",
          "Manipur",
          "Punjab",
          "Uttar Pradesh",
          "Uttarakhand"
         ],
         "insidetextorientation": "radial",
         "labels": [
          "1.67",
          "1.71",
          "1.74",
          "2.23",
          "2.23",
          "65.81",
          "2.5",
          "2.56",
          "2.86",
          "3.34",
          "4.71",
          "77.42",
          "7.5",
          "7.5",
          "6.67",
          "6.67",
          "7.5",
          "11.66",
          "12.82",
          "15.71",
          "17.09",
          "32.5",
          "81.43",
          "35.0",
          "42.5",
          "46.67",
          "AAAP",
          "ADAL",
          "BJP",
          "BJP",
          "BJP",
          "BJP",
          "BJP",
          "BSP",
          "GFP",
          "INC",
          "INC",
          "INC",
          "INC",
          "IND",
          "IND",
          "LIP",
          "MAG",
          "NPEP",
          "NPF",
          "Other",
          "Other",
          "Other",
          "SAD",
          "SP",
          "Goa",
          "Manipur",
          "Punjab",
          "Uttar Pradesh",
          "Uttarakhand"
         ],
         "marker": {
          "colors": [
           "#636efa",
           "#EF553B",
           "#00cc96",
           "#00cc96",
           "#00cc96",
           "#EF553B",
           "#ab63fa",
           "#EF553B",
           "#FFA15A",
           "#636efa",
           "#00cc96",
           "#00cc96",
           "#ab63fa",
           "#ab63fa",
           "#636efa",
           "#636efa",
           "#ab63fa",
           "#00cc96",
           "#EF553B",
           "#FFA15A",
           "#EF553B",
           "#ab63fa",
           "#FFA15A",
           "#636efa",
           "#ab63fa",
           "#636efa",
           "#EF553B",
           "#00cc96",
           "#ab63fa",
           "#636efa",
           "#EF553B",
           "#00cc96",
           "#FFA15A",
           "#00cc96",
           "#ab63fa",
           "#ab63fa",
           "#636efa",
           "#EF553B",
           "#FFA15A",
           "#ab63fa",
           "#FFA15A",
           "#EF553B",
           "#ab63fa",
           "#636efa",
           "#636efa",
           "#ab63fa",
           "#636efa",
           "#00cc96",
           "#EF553B",
           "#00cc96",
           "#ab63fa",
           "#636efa",
           "#EF553B",
           "#00cc96",
           "#FFA15A"
          ]
         },
         "name": "",
         "parents": [
          "Manipur/Other",
          "Punjab/LIP",
          "Uttar Pradesh/Other",
          "Uttar Pradesh/ADAL",
          "Uttar Pradesh/Other",
          "Punjab/INC",
          "Goa/Other",
          "Punjab/BJP",
          "Uttarakhand/IND",
          "Manipur/Other",
          "Uttar Pradesh/BSP",
          "Uttar Pradesh/BJP",
          "Goa/MAG",
          "Goa/GFP",
          "Manipur/NPF",
          "Manipur/NPEP",
          "Goa/IND",
          "Uttar Pradesh/SP",
          "Punjab/SAD",
          "Uttarakhand/INC",
          "Punjab/AAAP",
          "Goa/BJP",
          "Uttarakhand/BJP",
          "Manipur/BJP",
          "Goa/INC",
          "Manipur/INC",
          "Punjab",
          "Uttar Pradesh",
          "Goa",
          "Manipur",
          "Punjab",
          "Uttar Pradesh",
          "Uttarakhand",
          "Uttar Pradesh",
          "Goa",
          "Goa",
          "Manipur",
          "Punjab",
          "Uttarakhand",
          "Goa",
          "Uttarakhand",
          "Punjab",
          "Goa",
          "Manipur",
          "Manipur",
          "Goa",
          "Manipur",
          "Uttar Pradesh",
          "Punjab",
          "Uttar Pradesh",
          "",
          "",
          "",
          "",
          ""
         ],
         "type": "sunburst",
         "values": [
          1,
          2,
          7,
          9,
          9,
          77,
          1,
          3,
          2,
          2,
          19,
          312,
          3,
          3,
          4,
          4,
          3,
          47,
          15,
          11,
          20,
          13,
          57,
          21,
          17,
          28,
          20,
          9,
          13,
          21,
          3,
          312,
          57,
          19,
          3,
          17,
          28,
          77,
          11,
          3,
          2,
          2,
          3,
          4,
          4,
          1,
          3,
          16,
          15,
          47,
          40,
          60,
          117,
          403,
          70
         ]
        }
       ],
       "layout": {
        "height": 1000,
        "legend": {
         "tracegroupgap": 0
        },
        "margin": {
         "t": 60
        },
        "template": {
         "data": {
          "bar": [
           {
            "error_x": {
             "color": "#2a3f5f"
            },
            "error_y": {
             "color": "#2a3f5f"
            },
            "marker": {
             "line": {
              "color": "#E5ECF6",
              "width": 0.5
             },
             "pattern": {
              "fillmode": "overlay",
              "size": 10,
              "solidity": 0.2
             }
            },
            "type": "bar"
           }
          ],
          "barpolar": [
           {
            "marker": {
             "line": {
              "color": "#E5ECF6",
              "width": 0.5
             },
             "pattern": {
              "fillmode": "overlay",
              "size": 10,
              "solidity": 0.2
             }
            },
            "type": "barpolar"
           }
          ],
          "carpet": [
           {
            "aaxis": {
             "endlinecolor": "#2a3f5f",
             "gridcolor": "white",
             "linecolor": "white",
             "minorgridcolor": "white",
             "startlinecolor": "#2a3f5f"
            },
            "baxis": {
             "endlinecolor": "#2a3f5f",
             "gridcolor": "white",
             "linecolor": "white",
             "minorgridcolor": "white",
             "startlinecolor": "#2a3f5f"
            },
            "type": "carpet"
           }
          ],
          "choropleth": [
           {
            "colorbar": {
             "outlinewidth": 0,
             "ticks": ""
            },
            "type": "choropleth"
           }
          ],
          "contour": [
           {
            "colorbar": {
             "outlinewidth": 0,
             "ticks": ""
            },
            "colorscale": [
             [
              0,
              "#0d0887"
             ],
             [
              0.1111111111111111,
              "#46039f"
             ],
             [
              0.2222222222222222,
              "#7201a8"
             ],
             [
              0.3333333333333333,
              "#9c179e"
             ],
             [
              0.4444444444444444,
              "#bd3786"
             ],
             [
              0.5555555555555556,
              "#d8576b"
             ],
             [
              0.6666666666666666,
              "#ed7953"
             ],
             [
              0.7777777777777778,
              "#fb9f3a"
             ],
             [
              0.8888888888888888,
              "#fdca26"
             ],
             [
              1,
              "#f0f921"
             ]
            ],
            "type": "contour"
           }
          ],
          "contourcarpet": [
           {
            "colorbar": {
             "outlinewidth": 0,
             "ticks": ""
            },
            "type": "contourcarpet"
           }
          ],
          "heatmap": [
           {
            "colorbar": {
             "outlinewidth": 0,
             "ticks": ""
            },
            "colorscale": [
             [
              0,
              "#0d0887"
             ],
             [
              0.1111111111111111,
              "#46039f"
             ],
             [
              0.2222222222222222,
              "#7201a8"
             ],
             [
              0.3333333333333333,
              "#9c179e"
             ],
             [
              0.4444444444444444,
              "#bd3786"
             ],
             [
              0.5555555555555556,
              "#d8576b"
             ],
             [
              0.6666666666666666,
              "#ed7953"
             ],
             [
              0.7777777777777778,
              "#fb9f3a"
             ],
             [
              0.8888888888888888,
              "#fdca26"
             ],
             [
              1,
              "#f0f921"
             ]
            ],
            "type": "heatmap"
           }
          ],
          "heatmapgl": [
           {
            "colorbar": {
             "outlinewidth": 0,
             "ticks": ""
            },
            "colorscale": [
             [
              0,
              "#0d0887"
             ],
             [
              0.1111111111111111,
              "#46039f"
             ],
             [
              0.2222222222222222,
              "#7201a8"
             ],
             [
              0.3333333333333333,
              "#9c179e"
             ],
             [
              0.4444444444444444,
              "#bd3786"
             ],
             [
              0.5555555555555556,
              "#d8576b"
             ],
             [
              0.6666666666666666,
              "#ed7953"
             ],
             [
              0.7777777777777778,
              "#fb9f3a"
             ],
             [
              0.8888888888888888,
              "#fdca26"
             ],
             [
              1,
              "#f0f921"
             ]
            ],
            "type": "heatmapgl"
           }
          ],
          "histogram": [
           {
            "marker": {
             "pattern": {
              "fillmode": "overlay",
              "size": 10,
              "solidity": 0.2
             }
            },
            "type": "histogram"
           }
          ],
          "histogram2d": [
           {
            "colorbar": {
             "outlinewidth": 0,
             "ticks": ""
            },
            "colorscale": [
             [
              0,
              "#0d0887"
             ],
             [
              0.1111111111111111,
              "#46039f"
             ],
             [
              0.2222222222222222,
              "#7201a8"
             ],
             [
              0.3333333333333333,
              "#9c179e"
             ],
             [
              0.4444444444444444,
              "#bd3786"
             ],
             [
              0.5555555555555556,
              "#d8576b"
             ],
             [
              0.6666666666666666,
              "#ed7953"
             ],
             [
              0.7777777777777778,
              "#fb9f3a"
             ],
             [
              0.8888888888888888,
              "#fdca26"
             ],
             [
              1,
              "#f0f921"
             ]
            ],
            "type": "histogram2d"
           }
          ],
          "histogram2dcontour": [
           {
            "colorbar": {
             "outlinewidth": 0,
             "ticks": ""
            },
            "colorscale": [
             [
              0,
              "#0d0887"
             ],
             [
              0.1111111111111111,
              "#46039f"
             ],
             [
              0.2222222222222222,
              "#7201a8"
             ],
             [
              0.3333333333333333,
              "#9c179e"
             ],
             [
              0.4444444444444444,
              "#bd3786"
             ],
             [
              0.5555555555555556,
              "#d8576b"
             ],
             [
              0.6666666666666666,
              "#ed7953"
             ],
             [
              0.7777777777777778,
              "#fb9f3a"
             ],
             [
              0.8888888888888888,
              "#fdca26"
             ],
             [
              1,
              "#f0f921"
             ]
            ],
            "type": "histogram2dcontour"
           }
          ],
          "mesh3d": [
           {
            "colorbar": {
             "outlinewidth": 0,
             "ticks": ""
            },
            "type": "mesh3d"
           }
          ],
          "parcoords": [
           {
            "line": {
             "colorbar": {
              "outlinewidth": 0,
              "ticks": ""
             }
            },
            "type": "parcoords"
           }
          ],
          "pie": [
           {
            "automargin": true,
            "type": "pie"
           }
          ],
          "scatter": [
           {
            "marker": {
             "colorbar": {
              "outlinewidth": 0,
              "ticks": ""
             }
            },
            "type": "scatter"
           }
          ],
          "scatter3d": [
           {
            "line": {
             "colorbar": {
              "outlinewidth": 0,
              "ticks": ""
             }
            },
            "marker": {
             "colorbar": {
              "outlinewidth": 0,
              "ticks": ""
             }
            },
            "type": "scatter3d"
           }
          ],
          "scattercarpet": [
           {
            "marker": {
             "colorbar": {
              "outlinewidth": 0,
              "ticks": ""
             }
            },
            "type": "scattercarpet"
           }
          ],
          "scattergeo": [
           {
            "marker": {
             "colorbar": {
              "outlinewidth": 0,
              "ticks": ""
             }
            },
            "type": "scattergeo"
           }
          ],
          "scattergl": [
           {
            "marker": {
             "colorbar": {
              "outlinewidth": 0,
              "ticks": ""
             }
            },
            "type": "scattergl"
           }
          ],
          "scattermapbox": [
           {
            "marker": {
             "colorbar": {
              "outlinewidth": 0,
              "ticks": ""
             }
            },
            "type": "scattermapbox"
           }
          ],
          "scatterpolar": [
           {
            "marker": {
             "colorbar": {
              "outlinewidth": 0,
              "ticks": ""
             }
            },
            "type": "scatterpolar"
           }
          ],
          "scatterpolargl": [
           {
            "marker": {
             "colorbar": {
              "outlinewidth": 0,
              "ticks": ""
             }
            },
            "type": "scatterpolargl"
           }
          ],
          "scatterternary": [
           {
            "marker": {
             "colorbar": {
              "outlinewidth": 0,
              "ticks": ""
             }
            },
            "type": "scatterternary"
           }
          ],
          "surface": [
           {
            "colorbar": {
             "outlinewidth": 0,
             "ticks": ""
            },
            "colorscale": [
             [
              0,
              "#0d0887"
             ],
             [
              0.1111111111111111,
              "#46039f"
             ],
             [
              0.2222222222222222,
              "#7201a8"
             ],
             [
              0.3333333333333333,
              "#9c179e"
             ],
             [
              0.4444444444444444,
              "#bd3786"
             ],
             [
              0.5555555555555556,
              "#d8576b"
             ],
             [
              0.6666666666666666,
              "#ed7953"
             ],
             [
              0.7777777777777778,
              "#fb9f3a"
             ],
             [
              0.8888888888888888,
              "#fdca26"
             ],
             [
              1,
              "#f0f921"
             ]
            ],
            "type": "surface"
           }
          ],
          "table": [
           {
            "cells": {
             "fill": {
              "color": "#EBF0F8"
             },
             "line": {
              "color": "white"
             }
            },
            "header": {
             "fill": {
              "color": "#C8D4E3"
             },
             "line": {
              "color": "white"
             }
            },
            "type": "table"
           }
          ]
         },
         "layout": {
          "annotationdefaults": {
           "arrowcolor": "#2a3f5f",
           "arrowhead": 0,
           "arrowwidth": 1
          },
          "autotypenumbers": "strict",
          "coloraxis": {
           "colorbar": {
            "outlinewidth": 0,
            "ticks": ""
           }
          },
          "colorscale": {
           "diverging": [
            [
             0,
             "#8e0152"
            ],
            [
             0.1,
             "#c51b7d"
            ],
            [
             0.2,
             "#de77ae"
            ],
            [
             0.3,
             "#f1b6da"
            ],
            [
             0.4,
             "#fde0ef"
            ],
            [
             0.5,
             "#f7f7f7"
            ],
            [
             0.6,
             "#e6f5d0"
            ],
            [
             0.7,
             "#b8e186"
            ],
            [
             0.8,
             "#7fbc41"
            ],
            [
             0.9,
             "#4d9221"
            ],
            [
             1,
             "#276419"
            ]
           ],
           "sequential": [
            [
             0,
             "#0d0887"
            ],
            [
             0.1111111111111111,
             "#46039f"
            ],
            [
             0.2222222222222222,
             "#7201a8"
            ],
            [
             0.3333333333333333,
             "#9c179e"
            ],
            [
             0.4444444444444444,
             "#bd3786"
            ],
            [
             0.5555555555555556,
             "#d8576b"
            ],
            [
             0.6666666666666666,
             "#ed7953"
            ],
            [
             0.7777777777777778,
             "#fb9f3a"
            ],
            [
             0.8888888888888888,
             "#fdca26"
            ],
            [
             1,
             "#f0f921"
            ]
           ],
           "sequentialminus": [
            [
             0,
             "#0d0887"
            ],
            [
             0.1111111111111111,
             "#46039f"
            ],
            [
             0.2222222222222222,
             "#7201a8"
            ],
            [
             0.3333333333333333,
             "#9c179e"
            ],
            [
             0.4444444444444444,
             "#bd3786"
            ],
            [
             0.5555555555555556,
             "#d8576b"
            ],
            [
             0.6666666666666666,
             "#ed7953"
            ],
            [
             0.7777777777777778,
             "#fb9f3a"
            ],
            [
             0.8888888888888888,
             "#fdca26"
            ],
            [
             1,
             "#f0f921"
            ]
           ]
          },
          "colorway": [
           "#636efa",
           "#EF553B",
           "#00cc96",
           "#ab63fa",
           "#FFA15A",
           "#19d3f3",
           "#FF6692",
           "#B6E880",
           "#FF97FF",
           "#FECB52"
          ],
          "font": {
           "color": "#2a3f5f"
          },
          "geo": {
           "bgcolor": "white",
           "lakecolor": "white",
           "landcolor": "#E5ECF6",
           "showlakes": true,
           "showland": true,
           "subunitcolor": "white"
          },
          "hoverlabel": {
           "align": "left"
          },
          "hovermode": "closest",
          "mapbox": {
           "style": "light"
          },
          "paper_bgcolor": "white",
          "plot_bgcolor": "#E5ECF6",
          "polar": {
           "angularaxis": {
            "gridcolor": "white",
            "linecolor": "white",
            "ticks": ""
           },
           "bgcolor": "#E5ECF6",
           "radialaxis": {
            "gridcolor": "white",
            "linecolor": "white",
            "ticks": ""
           }
          },
          "scene": {
           "xaxis": {
            "backgroundcolor": "#E5ECF6",
            "gridcolor": "white",
            "gridwidth": 2,
            "linecolor": "white",
            "showbackground": true,
            "ticks": "",
            "zerolinecolor": "white"
           },
           "yaxis": {
            "backgroundcolor": "#E5ECF6",
            "gridcolor": "white",
            "gridwidth": 2,
            "linecolor": "white",
            "showbackground": true,
            "ticks": "",
            "zerolinecolor": "white"
           },
           "zaxis": {
            "backgroundcolor": "#E5ECF6",
            "gridcolor": "white",
            "gridwidth": 2,
            "linecolor": "white",
            "showbackground": true,
            "ticks": "",
            "zerolinecolor": "white"
           }
          },
          "shapedefaults": {
           "line": {
            "color": "#2a3f5f"
           }
          },
          "ternary": {
           "aaxis": {
            "gridcolor": "white",
            "linecolor": "white",
            "ticks": ""
           },
           "baxis": {
            "gridcolor": "white",
            "linecolor": "white",
            "ticks": ""
           },
           "bgcolor": "#E5ECF6",
           "caxis": {
            "gridcolor": "white",
            "linecolor": "white",
            "ticks": ""
           }
          },
          "title": {
           "x": 0.05
          },
          "xaxis": {
           "automargin": true,
           "gridcolor": "white",
           "linecolor": "white",
           "ticks": "",
           "title": {
            "standoff": 15
           },
           "zerolinecolor": "white",
           "zerolinewidth": 2
          },
          "yaxis": {
           "automargin": true,
           "gridcolor": "white",
           "linecolor": "white",
           "ticks": "",
           "title": {
            "standoff": 15
           },
           "zerolinecolor": "white",
           "zerolinewidth": 2
          }
         }
        },
        "width": 1000
       }
      },
      "text/html": [
       "<div>                            <div id=\"ab363472-dfab-4717-b26c-9ef8461ba0a2\" class=\"plotly-graph-div\" style=\"height:1000px; width:1000px;\"></div>            <script type=\"text/javascript\">                require([\"plotly\"], function(Plotly) {                    window.PLOTLYENV=window.PLOTLYENV || {};                                    if (document.getElementById(\"ab363472-dfab-4717-b26c-9ef8461ba0a2\")) {                    Plotly.newPlot(                        \"ab363472-dfab-4717-b26c-9ef8461ba0a2\",                        [{\"branchvalues\":\"total\",\"customdata\":[[\"Manipur\",\"Other\",1,1.67],[\"Punjab\",\"LIP\",2,1.71],[\"Uttar Pradesh\",\"Other\",7,1.74],[\"Uttar Pradesh\",\"ADAL\",9,2.23],[\"Uttar Pradesh\",\"Other\",9,2.23],[\"Punjab\",\"INC\",77,65.81],[\"Goa\",\"Other\",1,2.5],[\"Punjab\",\"BJP\",3,2.56],[\"Uttarakhand\",\"IND\",2,2.86],[\"Manipur\",\"Other\",2,3.34],[\"Uttar Pradesh\",\"BSP\",19,4.71],[\"Uttar Pradesh\",\"BJP\",312,77.42],[\"Goa\",\"MAG\",3,7.5],[\"Goa\",\"GFP\",3,7.5],[\"Manipur\",\"NPF\",4,6.67],[\"Manipur\",\"NPEP\",4,6.67],[\"Goa\",\"IND\",3,7.5],[\"Uttar Pradesh\",\"SP\",47,11.66],[\"Punjab\",\"SAD\",15,12.82],[\"Uttarakhand\",\"INC\",11,15.71],[\"Punjab\",\"AAAP\",20,17.09],[\"Goa\",\"BJP\",13,32.5],[\"Uttarakhand\",\"BJP\",57,81.43],[\"Manipur\",\"BJP\",21,35.0],[\"Goa\",\"INC\",17,42.5],[\"Manipur\",\"INC\",28,46.67],[\"Punjab\",\"AAAP\",20,17.09],[\"Uttar Pradesh\",\"ADAL\",9,2.23],[\"Goa\",\"BJP\",13,32.5],[\"Manipur\",\"BJP\",21,35.0],[\"Punjab\",\"BJP\",3,2.56],[\"Uttar Pradesh\",\"BJP\",312,77.42],[\"Uttarakhand\",\"BJP\",57,81.43],[\"Uttar Pradesh\",\"BSP\",19,4.71],[\"Goa\",\"GFP\",3,7.5],[\"Goa\",\"INC\",17,42.5],[\"Manipur\",\"INC\",28,46.67],[\"Punjab\",\"INC\",77,65.81],[\"Uttarakhand\",\"INC\",11,15.71],[\"Goa\",\"IND\",3,7.5],[\"Uttarakhand\",\"IND\",2,2.86],[\"Punjab\",\"LIP\",2,1.71],[\"Goa\",\"MAG\",3,7.5],[\"Manipur\",\"NPEP\",4,6.67],[\"Manipur\",\"NPF\",4,6.67],[\"Goa\",\"Other\",1,2.5],[\"Manipur\",\"Other\",3,\"(?)\"],[\"Uttar Pradesh\",\"Other\",16,\"(?)\"],[\"Punjab\",\"SAD\",15,12.82],[\"Uttar Pradesh\",\"SP\",47,11.66],[\"Goa\",\"(?)\",40,\"(?)\"],[\"Manipur\",\"(?)\",60,\"(?)\"],[\"Punjab\",\"(?)\",117,\"(?)\"],[\"Uttar Pradesh\",\"(?)\",403,\"(?)\"],[\"Uttarakhand\",\"(?)\",70,\"(?)\"]],\"domain\":{\"x\":[0.0,1.0],\"y\":[0.0,1.0]},\"hovertemplate\":\"Seat: %{customdata[2]}\",\"hovertext\":[\"Manipur\",\"Punjab\",\"Uttar Pradesh\",\"Uttar Pradesh\",\"Uttar Pradesh\",\"Punjab\",\"Goa\",\"Punjab\",\"Uttarakhand\",\"Manipur\",\"Uttar Pradesh\",\"Uttar Pradesh\",\"Goa\",\"Goa\",\"Manipur\",\"Manipur\",\"Goa\",\"Uttar Pradesh\",\"Punjab\",\"Uttarakhand\",\"Punjab\",\"Goa\",\"Uttarakhand\",\"Manipur\",\"Goa\",\"Manipur\",\"Punjab\",\"Uttar Pradesh\",\"Goa\",\"Manipur\",\"Punjab\",\"Uttar Pradesh\",\"Uttarakhand\",\"Uttar Pradesh\",\"Goa\",\"Goa\",\"Manipur\",\"Punjab\",\"Uttarakhand\",\"Goa\",\"Uttarakhand\",\"Punjab\",\"Goa\",\"Manipur\",\"Manipur\",\"Goa\",\"Manipur\",\"Uttar Pradesh\",\"Punjab\",\"Uttar Pradesh\",\"Goa\",\"Manipur\",\"Punjab\",\"Uttar Pradesh\",\"Uttarakhand\"],\"ids\":[\"Manipur/Other/1.67\",\"Punjab/LIP/1.71\",\"Uttar Pradesh/Other/1.74\",\"Uttar Pradesh/ADAL/2.23\",\"Uttar Pradesh/Other/2.23\",\"Punjab/INC/65.81\",\"Goa/Other/2.5\",\"Punjab/BJP/2.56\",\"Uttarakhand/IND/2.86\",\"Manipur/Other/3.34\",\"Uttar Pradesh/BSP/4.71\",\"Uttar Pradesh/BJP/77.42\",\"Goa/MAG/7.5\",\"Goa/GFP/7.5\",\"Manipur/NPF/6.67\",\"Manipur/NPEP/6.67\",\"Goa/IND/7.5\",\"Uttar Pradesh/SP/11.66\",\"Punjab/SAD/12.82\",\"Uttarakhand/INC/15.71\",\"Punjab/AAAP/17.09\",\"Goa/BJP/32.5\",\"Uttarakhand/BJP/81.43\",\"Manipur/BJP/35.0\",\"Goa/INC/42.5\",\"Manipur/INC/46.67\",\"Punjab/AAAP\",\"Uttar Pradesh/ADAL\",\"Goa/BJP\",\"Manipur/BJP\",\"Punjab/BJP\",\"Uttar Pradesh/BJP\",\"Uttarakhand/BJP\",\"Uttar Pradesh/BSP\",\"Goa/GFP\",\"Goa/INC\",\"Manipur/INC\",\"Punjab/INC\",\"Uttarakhand/INC\",\"Goa/IND\",\"Uttarakhand/IND\",\"Punjab/LIP\",\"Goa/MAG\",\"Manipur/NPEP\",\"Manipur/NPF\",\"Goa/Other\",\"Manipur/Other\",\"Uttar Pradesh/Other\",\"Punjab/SAD\",\"Uttar Pradesh/SP\",\"Goa\",\"Manipur\",\"Punjab\",\"Uttar Pradesh\",\"Uttarakhand\"],\"labels\":[\"1.67\",\"1.71\",\"1.74\",\"2.23\",\"2.23\",\"65.81\",\"2.5\",\"2.56\",\"2.86\",\"3.34\",\"4.71\",\"77.42\",\"7.5\",\"7.5\",\"6.67\",\"6.67\",\"7.5\",\"11.66\",\"12.82\",\"15.71\",\"17.09\",\"32.5\",\"81.43\",\"35.0\",\"42.5\",\"46.67\",\"AAAP\",\"ADAL\",\"BJP\",\"BJP\",\"BJP\",\"BJP\",\"BJP\",\"BSP\",\"GFP\",\"INC\",\"INC\",\"INC\",\"INC\",\"IND\",\"IND\",\"LIP\",\"MAG\",\"NPEP\",\"NPF\",\"Other\",\"Other\",\"Other\",\"SAD\",\"SP\",\"Goa\",\"Manipur\",\"Punjab\",\"Uttar Pradesh\",\"Uttarakhand\"],\"marker\":{\"colors\":[\"#636efa\",\"#EF553B\",\"#00cc96\",\"#00cc96\",\"#00cc96\",\"#EF553B\",\"#ab63fa\",\"#EF553B\",\"#FFA15A\",\"#636efa\",\"#00cc96\",\"#00cc96\",\"#ab63fa\",\"#ab63fa\",\"#636efa\",\"#636efa\",\"#ab63fa\",\"#00cc96\",\"#EF553B\",\"#FFA15A\",\"#EF553B\",\"#ab63fa\",\"#FFA15A\",\"#636efa\",\"#ab63fa\",\"#636efa\",\"#EF553B\",\"#00cc96\",\"#ab63fa\",\"#636efa\",\"#EF553B\",\"#00cc96\",\"#FFA15A\",\"#00cc96\",\"#ab63fa\",\"#ab63fa\",\"#636efa\",\"#EF553B\",\"#FFA15A\",\"#ab63fa\",\"#FFA15A\",\"#EF553B\",\"#ab63fa\",\"#636efa\",\"#636efa\",\"#ab63fa\",\"#636efa\",\"#00cc96\",\"#EF553B\",\"#00cc96\",\"#ab63fa\",\"#636efa\",\"#EF553B\",\"#00cc96\",\"#FFA15A\"]},\"name\":\"\",\"parents\":[\"Manipur/Other\",\"Punjab/LIP\",\"Uttar Pradesh/Other\",\"Uttar Pradesh/ADAL\",\"Uttar Pradesh/Other\",\"Punjab/INC\",\"Goa/Other\",\"Punjab/BJP\",\"Uttarakhand/IND\",\"Manipur/Other\",\"Uttar Pradesh/BSP\",\"Uttar Pradesh/BJP\",\"Goa/MAG\",\"Goa/GFP\",\"Manipur/NPF\",\"Manipur/NPEP\",\"Goa/IND\",\"Uttar Pradesh/SP\",\"Punjab/SAD\",\"Uttarakhand/INC\",\"Punjab/AAAP\",\"Goa/BJP\",\"Uttarakhand/BJP\",\"Manipur/BJP\",\"Goa/INC\",\"Manipur/INC\",\"Punjab\",\"Uttar Pradesh\",\"Goa\",\"Manipur\",\"Punjab\",\"Uttar Pradesh\",\"Uttarakhand\",\"Uttar Pradesh\",\"Goa\",\"Goa\",\"Manipur\",\"Punjab\",\"Uttarakhand\",\"Goa\",\"Uttarakhand\",\"Punjab\",\"Goa\",\"Manipur\",\"Manipur\",\"Goa\",\"Manipur\",\"Uttar Pradesh\",\"Punjab\",\"Uttar Pradesh\",\"\",\"\",\"\",\"\",\"\"],\"values\":[1,2,7,9,9,77,1,3,2,2,19,312,3,3,4,4,3,47,15,11,20,13,57,21,17,28,20,9,13,21,3,312,57,19,3,17,28,77,11,3,2,2,3,4,4,1,3,16,15,47,40,60,117,403,70],\"type\":\"sunburst\",\"insidetextorientation\":\"radial\"}],                        {\"template\":{\"data\":{\"bar\":[{\"error_x\":{\"color\":\"#2a3f5f\"},\"error_y\":{\"color\":\"#2a3f5f\"},\"marker\":{\"line\":{\"color\":\"#E5ECF6\",\"width\":0.5},\"pattern\":{\"fillmode\":\"overlay\",\"size\":10,\"solidity\":0.2}},\"type\":\"bar\"}],\"barpolar\":[{\"marker\":{\"line\":{\"color\":\"#E5ECF6\",\"width\":0.5},\"pattern\":{\"fillmode\":\"overlay\",\"size\":10,\"solidity\":0.2}},\"type\":\"barpolar\"}],\"carpet\":[{\"aaxis\":{\"endlinecolor\":\"#2a3f5f\",\"gridcolor\":\"white\",\"linecolor\":\"white\",\"minorgridcolor\":\"white\",\"startlinecolor\":\"#2a3f5f\"},\"baxis\":{\"endlinecolor\":\"#2a3f5f\",\"gridcolor\":\"white\",\"linecolor\":\"white\",\"minorgridcolor\":\"white\",\"startlinecolor\":\"#2a3f5f\"},\"type\":\"carpet\"}],\"choropleth\":[{\"colorbar\":{\"outlinewidth\":0,\"ticks\":\"\"},\"type\":\"choropleth\"}],\"contour\":[{\"colorbar\":{\"outlinewidth\":0,\"ticks\":\"\"},\"colorscale\":[[0.0,\"#0d0887\"],[0.1111111111111111,\"#46039f\"],[0.2222222222222222,\"#7201a8\"],[0.3333333333333333,\"#9c179e\"],[0.4444444444444444,\"#bd3786\"],[0.5555555555555556,\"#d8576b\"],[0.6666666666666666,\"#ed7953\"],[0.7777777777777778,\"#fb9f3a\"],[0.8888888888888888,\"#fdca26\"],[1.0,\"#f0f921\"]],\"type\":\"contour\"}],\"contourcarpet\":[{\"colorbar\":{\"outlinewidth\":0,\"ticks\":\"\"},\"type\":\"contourcarpet\"}],\"heatmap\":[{\"colorbar\":{\"outlinewidth\":0,\"ticks\":\"\"},\"colorscale\":[[0.0,\"#0d0887\"],[0.1111111111111111,\"#46039f\"],[0.2222222222222222,\"#7201a8\"],[0.3333333333333333,\"#9c179e\"],[0.4444444444444444,\"#bd3786\"],[0.5555555555555556,\"#d8576b\"],[0.6666666666666666,\"#ed7953\"],[0.7777777777777778,\"#fb9f3a\"],[0.8888888888888888,\"#fdca26\"],[1.0,\"#f0f921\"]],\"type\":\"heatmap\"}],\"heatmapgl\":[{\"colorbar\":{\"outlinewidth\":0,\"ticks\":\"\"},\"colorscale\":[[0.0,\"#0d0887\"],[0.1111111111111111,\"#46039f\"],[0.2222222222222222,\"#7201a8\"],[0.3333333333333333,\"#9c179e\"],[0.4444444444444444,\"#bd3786\"],[0.5555555555555556,\"#d8576b\"],[0.6666666666666666,\"#ed7953\"],[0.7777777777777778,\"#fb9f3a\"],[0.8888888888888888,\"#fdca26\"],[1.0,\"#f0f921\"]],\"type\":\"heatmapgl\"}],\"histogram\":[{\"marker\":{\"pattern\":{\"fillmode\":\"overlay\",\"size\":10,\"solidity\":0.2}},\"type\":\"histogram\"}],\"histogram2d\":[{\"colorbar\":{\"outlinewidth\":0,\"ticks\":\"\"},\"colorscale\":[[0.0,\"#0d0887\"],[0.1111111111111111,\"#46039f\"],[0.2222222222222222,\"#7201a8\"],[0.3333333333333333,\"#9c179e\"],[0.4444444444444444,\"#bd3786\"],[0.5555555555555556,\"#d8576b\"],[0.6666666666666666,\"#ed7953\"],[0.7777777777777778,\"#fb9f3a\"],[0.8888888888888888,\"#fdca26\"],[1.0,\"#f0f921\"]],\"type\":\"histogram2d\"}],\"histogram2dcontour\":[{\"colorbar\":{\"outlinewidth\":0,\"ticks\":\"\"},\"colorscale\":[[0.0,\"#0d0887\"],[0.1111111111111111,\"#46039f\"],[0.2222222222222222,\"#7201a8\"],[0.3333333333333333,\"#9c179e\"],[0.4444444444444444,\"#bd3786\"],[0.5555555555555556,\"#d8576b\"],[0.6666666666666666,\"#ed7953\"],[0.7777777777777778,\"#fb9f3a\"],[0.8888888888888888,\"#fdca26\"],[1.0,\"#f0f921\"]],\"type\":\"histogram2dcontour\"}],\"mesh3d\":[{\"colorbar\":{\"outlinewidth\":0,\"ticks\":\"\"},\"type\":\"mesh3d\"}],\"parcoords\":[{\"line\":{\"colorbar\":{\"outlinewidth\":0,\"ticks\":\"\"}},\"type\":\"parcoords\"}],\"pie\":[{\"automargin\":true,\"type\":\"pie\"}],\"scatter\":[{\"marker\":{\"colorbar\":{\"outlinewidth\":0,\"ticks\":\"\"}},\"type\":\"scatter\"}],\"scatter3d\":[{\"line\":{\"colorbar\":{\"outlinewidth\":0,\"ticks\":\"\"}},\"marker\":{\"colorbar\":{\"outlinewidth\":0,\"ticks\":\"\"}},\"type\":\"scatter3d\"}],\"scattercarpet\":[{\"marker\":{\"colorbar\":{\"outlinewidth\":0,\"ticks\":\"\"}},\"type\":\"scattercarpet\"}],\"scattergeo\":[{\"marker\":{\"colorbar\":{\"outlinewidth\":0,\"ticks\":\"\"}},\"type\":\"scattergeo\"}],\"scattergl\":[{\"marker\":{\"colorbar\":{\"outlinewidth\":0,\"ticks\":\"\"}},\"type\":\"scattergl\"}],\"scattermapbox\":[{\"marker\":{\"colorbar\":{\"outlinewidth\":0,\"ticks\":\"\"}},\"type\":\"scattermapbox\"}],\"scatterpolar\":[{\"marker\":{\"colorbar\":{\"outlinewidth\":0,\"ticks\":\"\"}},\"type\":\"scatterpolar\"}],\"scatterpolargl\":[{\"marker\":{\"colorbar\":{\"outlinewidth\":0,\"ticks\":\"\"}},\"type\":\"scatterpolargl\"}],\"scatterternary\":[{\"marker\":{\"colorbar\":{\"outlinewidth\":0,\"ticks\":\"\"}},\"type\":\"scatterternary\"}],\"surface\":[{\"colorbar\":{\"outlinewidth\":0,\"ticks\":\"\"},\"colorscale\":[[0.0,\"#0d0887\"],[0.1111111111111111,\"#46039f\"],[0.2222222222222222,\"#7201a8\"],[0.3333333333333333,\"#9c179e\"],[0.4444444444444444,\"#bd3786\"],[0.5555555555555556,\"#d8576b\"],[0.6666666666666666,\"#ed7953\"],[0.7777777777777778,\"#fb9f3a\"],[0.8888888888888888,\"#fdca26\"],[1.0,\"#f0f921\"]],\"type\":\"surface\"}],\"table\":[{\"cells\":{\"fill\":{\"color\":\"#EBF0F8\"},\"line\":{\"color\":\"white\"}},\"header\":{\"fill\":{\"color\":\"#C8D4E3\"},\"line\":{\"color\":\"white\"}},\"type\":\"table\"}]},\"layout\":{\"annotationdefaults\":{\"arrowcolor\":\"#2a3f5f\",\"arrowhead\":0,\"arrowwidth\":1},\"autotypenumbers\":\"strict\",\"coloraxis\":{\"colorbar\":{\"outlinewidth\":0,\"ticks\":\"\"}},\"colorscale\":{\"diverging\":[[0,\"#8e0152\"],[0.1,\"#c51b7d\"],[0.2,\"#de77ae\"],[0.3,\"#f1b6da\"],[0.4,\"#fde0ef\"],[0.5,\"#f7f7f7\"],[0.6,\"#e6f5d0\"],[0.7,\"#b8e186\"],[0.8,\"#7fbc41\"],[0.9,\"#4d9221\"],[1,\"#276419\"]],\"sequential\":[[0.0,\"#0d0887\"],[0.1111111111111111,\"#46039f\"],[0.2222222222222222,\"#7201a8\"],[0.3333333333333333,\"#9c179e\"],[0.4444444444444444,\"#bd3786\"],[0.5555555555555556,\"#d8576b\"],[0.6666666666666666,\"#ed7953\"],[0.7777777777777778,\"#fb9f3a\"],[0.8888888888888888,\"#fdca26\"],[1.0,\"#f0f921\"]],\"sequentialminus\":[[0.0,\"#0d0887\"],[0.1111111111111111,\"#46039f\"],[0.2222222222222222,\"#7201a8\"],[0.3333333333333333,\"#9c179e\"],[0.4444444444444444,\"#bd3786\"],[0.5555555555555556,\"#d8576b\"],[0.6666666666666666,\"#ed7953\"],[0.7777777777777778,\"#fb9f3a\"],[0.8888888888888888,\"#fdca26\"],[1.0,\"#f0f921\"]]},\"colorway\":[\"#636efa\",\"#EF553B\",\"#00cc96\",\"#ab63fa\",\"#FFA15A\",\"#19d3f3\",\"#FF6692\",\"#B6E880\",\"#FF97FF\",\"#FECB52\"],\"font\":{\"color\":\"#2a3f5f\"},\"geo\":{\"bgcolor\":\"white\",\"lakecolor\":\"white\",\"landcolor\":\"#E5ECF6\",\"showlakes\":true,\"showland\":true,\"subunitcolor\":\"white\"},\"hoverlabel\":{\"align\":\"left\"},\"hovermode\":\"closest\",\"mapbox\":{\"style\":\"light\"},\"paper_bgcolor\":\"white\",\"plot_bgcolor\":\"#E5ECF6\",\"polar\":{\"angularaxis\":{\"gridcolor\":\"white\",\"linecolor\":\"white\",\"ticks\":\"\"},\"bgcolor\":\"#E5ECF6\",\"radialaxis\":{\"gridcolor\":\"white\",\"linecolor\":\"white\",\"ticks\":\"\"}},\"scene\":{\"xaxis\":{\"backgroundcolor\":\"#E5ECF6\",\"gridcolor\":\"white\",\"gridwidth\":2,\"linecolor\":\"white\",\"showbackground\":true,\"ticks\":\"\",\"zerolinecolor\":\"white\"},\"yaxis\":{\"backgroundcolor\":\"#E5ECF6\",\"gridcolor\":\"white\",\"gridwidth\":2,\"linecolor\":\"white\",\"showbackground\":true,\"ticks\":\"\",\"zerolinecolor\":\"white\"},\"zaxis\":{\"backgroundcolor\":\"#E5ECF6\",\"gridcolor\":\"white\",\"gridwidth\":2,\"linecolor\":\"white\",\"showbackground\":true,\"ticks\":\"\",\"zerolinecolor\":\"white\"}},\"shapedefaults\":{\"line\":{\"color\":\"#2a3f5f\"}},\"ternary\":{\"aaxis\":{\"gridcolor\":\"white\",\"linecolor\":\"white\",\"ticks\":\"\"},\"baxis\":{\"gridcolor\":\"white\",\"linecolor\":\"white\",\"ticks\":\"\"},\"bgcolor\":\"#E5ECF6\",\"caxis\":{\"gridcolor\":\"white\",\"linecolor\":\"white\",\"ticks\":\"\"}},\"title\":{\"x\":0.05},\"xaxis\":{\"automargin\":true,\"gridcolor\":\"white\",\"linecolor\":\"white\",\"ticks\":\"\",\"title\":{\"standoff\":15},\"zerolinecolor\":\"white\",\"zerolinewidth\":2},\"yaxis\":{\"automargin\":true,\"gridcolor\":\"white\",\"linecolor\":\"white\",\"ticks\":\"\",\"title\":{\"standoff\":15},\"zerolinecolor\":\"white\",\"zerolinewidth\":2}}},\"legend\":{\"tracegroupgap\":0},\"margin\":{\"t\":60},\"height\":1000,\"width\":1000},                        {\"responsive\": true}                    ).then(function(){\n",
       "                            \n",
       "var gd = document.getElementById('ab363472-dfab-4717-b26c-9ef8461ba0a2');\n",
       "var x = new MutationObserver(function (mutations, observer) {{\n",
       "        var display = window.getComputedStyle(gd).display;\n",
       "        if (!display || display === 'none') {{\n",
       "            console.log([gd, 'removed!']);\n",
       "            Plotly.purge(gd);\n",
       "            observer.disconnect();\n",
       "        }}\n",
       "}});\n",
       "\n",
       "// Listen for the removal of the full notebook cells\n",
       "var notebookContainer = gd.closest('#notebook-container');\n",
       "if (notebookContainer) {{\n",
       "    x.observe(notebookContainer, {childList: true});\n",
       "}}\n",
       "\n",
       "// Listen for the clearing of the current output cell\n",
       "var outputEl = gd.closest('.output');\n",
       "if (outputEl) {{\n",
       "    x.observe(outputEl, {childList: true});\n",
       "}}\n",
       "\n",
       "                        })                };                });            </script>        </div>"
      ]
     },
     "metadata": {},
     "output_type": "display_data"
    }
   ],
   "source": [
    "df_party_seat=pd.read_csv('./data/party_seat_share.csv')\n",
    "df_party_seat['Party_Seat_Percentage']=round(df_party_seat['Party_Seat_Percentage'],2)\n",
    "df_party_seat.sort_values(by=['State_Name','Party_Seat_Percentage'], inplace=True, ascending=False)\n",
    "df_party_seat.drop(['Unnamed: 0'], axis=1, inplace=True)\n",
    "\n",
    "\n",
    "df_party_seat_k=df_party_seat.groupby(['State_Name']).apply(lambda x: x.nlargest(5, 'Party_Seat_Percentage'))\n",
    "df_party_seat_k=df_party_seat_k.set_index('State_Name')\n",
    "df_party_seat_k=df_party_seat_k.reset_index()\n",
    "df_party_seat_x=df_party_seat_k.append(df_party_seat)\n",
    "\n",
    "df_party_seat_other=df_party_seat_x.drop_duplicates(subset=['State_Name','Assembly_No','Party','Party_Seat','total','Party_Seat_Percentage'], keep=False)\n",
    "df_party_seat_o=df_party_seat_other.groupby(['State_Name','Assembly_No','total'])['Party_Seat_Percentage'].sum().reset_index()\n",
    "\n",
    "df_party_seat_p=df_party_seat_other.groupby(['State_Name','Assembly_No','total'])['Party_Seat'].sum().reset_index()\n",
    "df_party_seat_p['Party']='Other'\n",
    "df_party_seat_o=df_party_seat_o.merge(df_party_seat_p, how='left', on=['State_Name','Assembly_No','total'])\n",
    "df_party_seat_k=df_party_seat_k.append(df_party_seat_o).reset_index()\n",
    "\n",
    "fig= px.sunburst(df_party_seat_k, path=['State_Name','Party','Party_Seat_Percentage'], \n",
    "                 values='Party_Seat',width=1000, height=1000, color='State_Name',\n",
    "                 color_continuous_scale='Tealgrn', hover_name='State_Name', custom_data=['State_Name','Party', 'Party_Seat', 'Party_Seat_Percentage']\n",
    "                )\n",
    "\n",
    "fig.update_traces(insidetextorientation='radial',\n",
    "                  hovertemplate=\"<br>\".join([\n",
    "        \"Seat: %{customdata[2]}\"\n",
    "    ])\n",
    "                 \n",
    "                 \n",
    "                 )\n",
    "fig.update_layout(hovermode=None)\n",
    "\n",
    "fig"
   ]
  },
  {
   "cell_type": "code",
   "execution_count": null,
   "id": "7c86b6c3",
   "metadata": {},
   "outputs": [],
   "source": [
    "df_party_seat=pd.read_csv('./data/party_seat_share.csv')\n",
    "\n",
    "fig= px.sunburst(df_party_seat, path=['State_Name','Party','Party_Seat_Percentage'], \n",
    "                 values='Party_Seat',width=1000, height=1000, color='Party_Seat_Percentage',\n",
    "                 color_continuous_scale='GnBu'\n",
    "                )\n",
    "\n",
    "fig.update_traces(insidetextorientation='auto')\n",
    "fig.update_layout(hovermode=None)\n",
    "\n",
    "fig"
   ]
  },
  {
   "cell_type": "code",
   "execution_count": null,
   "id": "e79171ca",
   "metadata": {},
   "outputs": [],
   "source": [
    "df_party_seat['Party'].unique()"
   ]
  },
  {
   "cell_type": "code",
   "execution_count": null,
   "id": "331e0e2e",
   "metadata": {},
   "outputs": [],
   "source": [
    "df_party_seat=pd.read_csv('./data/party_seat_share.csv')\n",
    "df_party_seat.drop(['Unnamed: 0','index'], axis=1, inplace=True)\n",
    "\n",
    "party_presence=df_party_seat.groupby(['Party'])['State_Name'].unique().reset_index()\n",
    "\n",
    "party_presence['count']=party_presence['State_Name'].str.len()\n",
    "\n",
    "party_presence=party_presence[party_presence['count']>1]\n",
    "\n",
    "party_presence=party_presence.explode('State_Name').merge(df_party_seat, how='left', on=['Party','State_Name'])\n",
    "\n",
    "party_presence=party_presence[party_presence['Party']!='Other']\n",
    "\n",
    "party_presence.to_csv('party_presence.csv')"
   ]
  },
  {
   "cell_type": "code",
   "execution_count": null,
   "id": "9cd9c851",
   "metadata": {},
   "outputs": [],
   "source": [
    "fig = px.line(party_presence, x=\"State_Name\", y=\"Party_Seat_Percentage\", color='Party')\n",
    "\n",
    "fig.show()\n"
   ]
  },
  {
   "cell_type": "code",
   "execution_count": null,
   "id": "fb65b014",
   "metadata": {},
   "outputs": [],
   "source": [
    "party_presence[party_presence['Party']=='BJP']"
   ]
  },
  {
   "cell_type": "code",
   "execution_count": null,
   "id": "591ebd4c",
   "metadata": {},
   "outputs": [],
   "source": [
    "# Dashboard Model\n",
    "\n",
    "def map(df,x,df_1, title_fig=''):\n",
    "    \n",
    "    fig = px.choropleth(df_1, geojson=map_df, locations='ST_NM', color='Value',\n",
    "                               featureidkey=\"properties.ST_NM\",\n",
    "                               color_discrete_sequence=[\"rgb(211,211,211)\"])\n",
    "    \n",
    "    fig.add_trace(go.Choropleth(featureidkey='properties.ST_NM',\n",
    "                                  geojson=map_df,\n",
    "                                  locations=df['State_Name'],\n",
    "                                  z=df[\"{}\".format(x)],\n",
    "                                  colorscale=[[0, 'rgb(255, 229, 180)'], [1, 'rgb(248, 131, 121)']],\n",
    "                                  #colorscale='viridis',\n",
    "                                  showscale=True                      \n",
    "                                 ))\n",
    "  \n",
    "\n",
    "    fig.update_geos(projection_type=\"van der grinten\", fitbounds=\"locations\", visible=False)\n",
    "    fig.update_layout(autosize=False,title={'text': \"{}\".format(title_fig),\n",
    "        'x':0.465,\n",
    "        'y':0,\n",
    "        'xanchor': 'center',\n",
    "        'yanchor': 'bottom'},\n",
    "         margin=dict(l=0, r=0, t=0, b=0, autoexpand=True),showlegend=False, height=800)\n",
    "    fig.update_xaxes(mirror=True, showline=True)\n",
    "\n",
    "    return(fig)\n",
    "\n",
    "voter=pd.read_csv('./data/voter.csv')\n"
   ]
  },
  {
   "cell_type": "code",
   "execution_count": null,
   "id": "b2e0c75b",
   "metadata": {},
   "outputs": [],
   "source": [
    "with open('./India_States.geojson') as f:\n",
    "    map_df = json.load(f)\n",
    "\n",
    "df_null= pd.read_csv(\"./states_shapefile_name.csv\",dtype={\"State\": str})\n",
    "map(party_presence[party_presence['Party']=='BJP'],'Party_Seat_Percentage',df_null, title_fig='')"
   ]
  },
  {
   "cell_type": "code",
   "execution_count": null,
   "id": "8cc1f1d8",
   "metadata": {},
   "outputs": [],
   "source": [
    "party_presence"
   ]
  }
 ],
 "metadata": {
  "kernelspec": {
   "display_name": "Python 3",
   "language": "python",
   "name": "python3"
  },
  "language_info": {
   "codemirror_mode": {
    "name": "ipython",
    "version": 3
   },
   "file_extension": ".py",
   "mimetype": "text/x-python",
   "name": "python",
   "nbconvert_exporter": "python",
   "pygments_lexer": "ipython3",
   "version": "3.8.8"
  }
 },
 "nbformat": 4,
 "nbformat_minor": 5
}
