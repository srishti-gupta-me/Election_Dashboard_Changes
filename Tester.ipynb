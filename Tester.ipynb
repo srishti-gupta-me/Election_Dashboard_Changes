{
 "cells": [
  {
   "cell_type": "code",
   "execution_count": null,
   "id": "54e915d1",
   "metadata": {},
   "outputs": [],
   "source": [
    "import pandas as pd\n",
    "import numpy as np\n",
    "import geopandas as gpd\n",
    "import matplotlib.pyplot as plt\n",
    "import pandas as pd\n",
    "import plotly.express as px\n",
    "import plotly.graph_objects as go\n",
    "import json"
   ]
  },
  {
   "cell_type": "code",
   "execution_count": null,
   "id": "1a2b8c62",
   "metadata": {},
   "outputs": [],
   "source": [
    "fp = \"./Admin2.shp\"\n",
    "map_df = gpd.read_file(fp)\n",
    "# check the GeoDataframe\n",
    "map_df.head()"
   ]
  },
  {
   "cell_type": "code",
   "execution_count": null,
   "id": "6db44c82",
   "metadata": {},
   "outputs": [],
   "source": [
    "map_df = gpd.read_file('./India_States_1.json')\n",
    "map_df=map_df.to_json()\n",
    "map_df"
   ]
  },
  {
   "cell_type": "code",
   "execution_count": null,
   "id": "879239e4",
   "metadata": {},
   "outputs": [],
   "source": [
    "nota= pd.read_csv(\"nota_temp.csv\")"
   ]
  },
  {
   "cell_type": "code",
   "execution_count": null,
   "id": "b86c54d8",
   "metadata": {},
   "outputs": [],
   "source": [
    "merged = map_df.merge(nota, how='left', on=\"ST_NM\")\n",
    "# merged['Value']=merged['Value'].mask(merged['Value'].isnull()==True,-1)\n",
    "merged.head(1)"
   ]
  },
  {
   "cell_type": "code",
   "execution_count": null,
   "id": "8ca61fde",
   "metadata": {},
   "outputs": [],
   "source": [
    "variable = 'Value'\n",
    "vmin, vmax = 0, 100\n",
    "\n",
    "fig, ax = plt.subplots(1, figsize=(30, 10))\n",
    "# remove the axis\n",
    "ax.axis('off')\n",
    "\n",
    "ax.set_title('', fontsize=25, fontweight=3)\n",
    "sm = plt.cm.ScalarMappable(cmap='Blues', norm=plt.Normalize(vmin=vmin, vmax=vmax))\n",
    "sm.set_array([]) \n",
    "fig.colorbar(sm)\n",
    "             \n",
    "merged.plot(column=variable, cmap='Blues', linewidth=0.8, ax=ax, edgecolor='0.8')\n",
    "\n",
    "# Add Labels\n",
    "merged['coords'] = merged['geometry'].apply(lambda x: x.representative_point().coords[:])\n",
    "merged['coords'] = [coords[0] for coords in merged['coords']]\n",
    "\n",
    "states=['Manipur','Punjab','Uttarakhand','Goa','Uttar Pradesh']\n",
    "\n",
    "for idx, row in merged.iterrows():\n",
    "    \n",
    "    if row['ST_NM'] in states:\n",
    "        plt.annotate(s=row['Value'], xy=row['coords'],horizontalalignment='center')"
   ]
  },
  {
   "cell_type": "code",
   "execution_count": null,
   "id": "e5803e60",
   "metadata": {},
   "outputs": [],
   "source": [
    "df1=pd.read_csv('Consolidated_AE_mastersheet.csv')\n",
    "states=['Goa','Manipur','Punjab','Uttar_Pradesh','Uttarakhand']\n",
    "df1=df1[df1['State_Name'].isin(states)]"
   ]
  },
  {
   "cell_type": "code",
   "execution_count": null,
   "id": "ccb2d1c3",
   "metadata": {},
   "outputs": [],
   "source": [
    "df=df1[df1['Party']=='NOTA']\n",
    "df.groupby(['State_Name','Year'])['Assembly_No'].unique()"
   ]
  },
  {
   "cell_type": "code",
   "execution_count": null,
   "id": "1f0b86df",
   "metadata": {},
   "outputs": [],
   "source": [
    "df1.groupby(['State_Name'])['Assembly_No'].max()"
   ]
  },
  {
   "cell_type": "code",
   "execution_count": null,
   "id": "fe8df635",
   "metadata": {},
   "outputs": [],
   "source": [
    "#find the last assembly for every state\n",
    "df.groupby(['State_Name'])['Assembly_No'].unique()"
   ]
  },
  {
   "cell_type": "code",
   "execution_count": null,
   "id": "eb073005",
   "metadata": {},
   "outputs": [],
   "source": [
    "target_assembly=pd.DataFrame({'State_Name':df.groupby(['State_Name'])['Assembly_No'].unique().index,'Assembly_No':df.groupby(['State_Name'])['Assembly_No'].unique().values})"
   ]
  },
  {
   "cell_type": "code",
   "execution_count": null,
   "id": "13ac322f",
   "metadata": {},
   "outputs": [],
   "source": [
    "target_assembly"
   ]
  },
  {
   "cell_type": "code",
   "execution_count": null,
   "id": "a77ebc39",
   "metadata": {},
   "outputs": [],
   "source": [
    "df.groupby(['State_Name','Assembly_No','Year'])['Votes'].sum()"
   ]
  },
  {
   "cell_type": "code",
   "execution_count": null,
   "id": "870770d9",
   "metadata": {},
   "outputs": [],
   "source": [
    "df2=df.groupby(['State_Name','Assembly_No','Year'])['Votes'].sum()"
   ]
  },
  {
   "cell_type": "code",
   "execution_count": null,
   "id": "ea802065",
   "metadata": {},
   "outputs": [],
   "source": [
    "df2= df2.reset_index()\n",
    "df2"
   ]
  },
  {
   "cell_type": "code",
   "execution_count": null,
   "id": "a20a690d",
   "metadata": {},
   "outputs": [],
   "source": [
    "df3=df.groupby(['State_Name','Assembly_No','Year'])['Valid_Votes'].sum()\n",
    "df3= df3.reset_index()\n",
    "df3"
   ]
  },
  {
   "cell_type": "code",
   "execution_count": null,
   "id": "a5f97985",
   "metadata": {},
   "outputs": [],
   "source": [
    "merged_nota=df3.merge(df2,how='left',on=['State_Name','Assembly_No','Year'])"
   ]
  },
  {
   "cell_type": "code",
   "execution_count": null,
   "id": "8c45e801",
   "metadata": {},
   "outputs": [],
   "source": [
    "merged_nota['Percentage']=np.nan\n",
    "merged_nota['Percentage']=merged_nota['Votes']*100/merged_nota['Valid_Votes']"
   ]
  },
  {
   "cell_type": "code",
   "execution_count": null,
   "id": "6292f729",
   "metadata": {},
   "outputs": [],
   "source": [
    "merged_nota"
   ]
  },
  {
   "cell_type": "code",
   "execution_count": null,
   "id": "db5e957e",
   "metadata": {},
   "outputs": [],
   "source": [
    "dp=df1[df1['Party']!='NOTA']\n",
    "len(df1),len(dp)"
   ]
  },
  {
   "cell_type": "code",
   "execution_count": null,
   "id": "aaf1695d",
   "metadata": {},
   "outputs": [],
   "source": [
    "df4=dp.groupby(['State_Name','Assembly_No'])['Party'].unique().str.len()\n",
    "df4=df4.reset_index()"
   ]
  },
  {
   "cell_type": "code",
   "execution_count": null,
   "id": "b3f12852",
   "metadata": {},
   "outputs": [],
   "source": [
    "df5=dp.groupby(['State_Name','Assembly_No'])['Party_ID'].unique().str.len()\n",
    "df5=df5.reset_index()"
   ]
  },
  {
   "cell_type": "code",
   "execution_count": null,
   "id": "75aadd42",
   "metadata": {},
   "outputs": [],
   "source": [
    "merged_party=df4.merge(df5,how='left',on=['State_Name','Assembly_No'])"
   ]
  },
  {
   "cell_type": "code",
   "execution_count": null,
   "id": "11ce6309",
   "metadata": {},
   "outputs": [],
   "source": [
    "merged_party['Diff']=np.nan\n",
    "merged_party['Diff']=merged_party['Party']-merged_party['Party_ID']\n",
    "merged_party[merged_party['Diff']>0]"
   ]
  },
  {
   "cell_type": "code",
   "execution_count": null,
   "id": "02028564",
   "metadata": {},
   "outputs": [],
   "source": [
    "merged_party['Diff'].unique()"
   ]
  },
  {
   "cell_type": "code",
   "execution_count": null,
   "id": "e72ddef7",
   "metadata": {},
   "outputs": [],
   "source": [
    "d_year=df1.groupby(['State_Name','Assembly_No','Poll_No'])['Year'].unique()\n",
    "d_year=d_year.reset_index()\n",
    "len(d_year)"
   ]
  },
  {
   "cell_type": "code",
   "execution_count": null,
   "id": "e7b79a52",
   "metadata": {},
   "outputs": [],
   "source": [
    "d_year['Year_Count']=np.nan\n",
    "d_year['Year_Count']=d_year['Year'].str.len()\n",
    "d_year.explode('Year')"
   ]
  },
  {
   "cell_type": "code",
   "execution_count": null,
   "id": "188cfee9",
   "metadata": {},
   "outputs": [],
   "source": [
    "fig = dict({\n",
    "    \"data\": [{\"type\": \"bar\",\n",
    "              \"x\": [1, 2, 3],\n",
    "              \"y\": [1, 3, 2]}],\n",
    "    \"layout\": {\"title\": {\"text\": \"A Figure Specified By Python Dictionary\"}}\n",
    "})\n",
    "\n",
    "# To display the figure defined by this dict, use the low-level plotly.io.show function\n",
    "import plotly.io as pio\n",
    "\n",
    "pio.show(fig)"
   ]
  },
  {
   "cell_type": "code",
   "execution_count": null,
   "id": "c208f2bf",
   "metadata": {},
   "outputs": [],
   "source": [
    "import plotly.graph_objects as go\n",
    "\n",
    "fig = go.Figure(\n",
    "    data=[go.Bar(x=[1, 2, 3], y=[1, 3, 2])],\n",
    "    layout=go.Layout(\n",
    "        title=go.layout.Title(text=\"A Figure Specified By A Graph Object\")\n",
    "    )\n",
    ")\n",
    "\n",
    "fig.show()"
   ]
  },
  {
   "cell_type": "code",
   "execution_count": null,
   "id": "3fb1861d",
   "metadata": {},
   "outputs": [],
   "source": [
    "fig=go.Figure(dict({\n",
    "    \"data\": [{\"type\": \"bar\",\n",
    "              \"x\": [1, 2, 3],\n",
    "              \"y\": [1, 3, 2]}],\n",
    "    \"layout\": {\"title\": {\"text\": \"A Figure Specified By Python Dictionary\"}}\n",
    "}))\n",
    "\n",
    "fig.show()"
   ]
  },
  {
   "cell_type": "code",
   "execution_count": null,
   "id": "2ca1b291",
   "metadata": {},
   "outputs": [],
   "source": [
    "import plotly.express as px\n",
    "\n",
    "df = px.data.iris()\n",
    "fig = px.scatter(df, x=\"sepal_width\", y=\"sepal_length\", color=\"species\", title=\"A Plotly Express Figure\")\n",
    "fig.show()"
   ]
  },
  {
   "cell_type": "code",
   "execution_count": null,
   "id": "e785e8e2",
   "metadata": {},
   "outputs": [],
   "source": [
    "import numpy as np\n",
    "import plotly.figure_factory as ff\n",
    "\n",
    "x1,y1 = np.meshgrid(np.arange(0, 2, .2), np.arange(0, 2, .2))\n",
    "u1 = np.cos(x1)*y1\n",
    "v1 = np.sin(x1)*y1\n",
    "\n",
    "fig = ff.create_quiver(x1, y1, u1, v1)\n",
    "\n",
    "fig.show()"
   ]
  },
  {
   "cell_type": "code",
   "execution_count": null,
   "id": "1b511b5d",
   "metadata": {},
   "outputs": [],
   "source": [
    "from plotly.subplots import make_subplots\n",
    "\n",
    "fig = make_subplots(rows=1, cols=2)\n",
    "\n",
    "fig.add_trace(go.Scatter(y=[4, 2, 1], mode=\"lines\"), row=1, col=1)\n",
    "fig.add_trace(go.Bar(y=[2, 1, 3]), row=1, col=2)\n",
    "\n",
    "fig.show()"
   ]
  },
  {
   "cell_type": "code",
   "execution_count": null,
   "id": "2ba49217",
   "metadata": {},
   "outputs": [],
   "source": [
    "#Adding traces later \n",
    "\n",
    "import plotly.graph_objects as go\n",
    "\n",
    "fig = go.Figure()\n",
    "\n",
    "fig.add_trace(go.Bar(x=[1, 2, 3], y=[1, 3, 2]))\n",
    "\n",
    "fig.show()"
   ]
  },
  {
   "cell_type": "code",
   "execution_count": null,
   "id": "329b38c8",
   "metadata": {},
   "outputs": [],
   "source": [
    "import plotly.express as px\n",
    "data = dict(\n",
    "    character=[\"Eve\", \"Cain\", \"Seth\", \"Enos\", \"Noam\", \"Abel\", \"Awan\", \"Enoch\", \"Azura\"],\n",
    "    parent=[\"\", \"Eve\", \"Eve\", \"Seth\", \"Seth\", \"Eve\", \"Eve\", \"Awan\", \"Eve\" ],\n",
    "    value=[10, 14, 12, 10, 2, 6, 6, 4, 4])\n",
    "\n",
    "fig = px.sunburst(\n",
    "    data,\n",
    "    names='character',\n",
    "    parents='parent',\n",
    "    values='value',\n",
    ")\n",
    "fig.show()"
   ]
  },
  {
   "cell_type": "code",
   "execution_count": null,
   "id": "628b0c68",
   "metadata": {},
   "outputs": [],
   "source": [
    "d_year1=d_year.explode('Year')\n",
    "d_year1.dropna(subset=['Year'], inplace=True)"
   ]
  },
  {
   "cell_type": "code",
   "execution_count": null,
   "id": "c1547e8a",
   "metadata": {},
   "outputs": [],
   "source": [
    "d_year1['Count']=np.nan\n",
    "d_year1['Count']=1\n",
    "\n",
    "d_year1['Year']=d_year1['Year'].astype(float).astype(int).astype(str)"
   ]
  },
  {
   "cell_type": "code",
   "execution_count": null,
   "id": "7fcf9c39",
   "metadata": {},
   "outputs": [],
   "source": [
    "d_year1=d_year1[d_year1['Poll_No']==0]\n",
    "d_year1.sort_values(by=['Year','Assembly_No','State_Name'], inplace=True)\n",
    "d_year1"
   ]
  },
  {
   "cell_type": "code",
   "execution_count": null,
   "id": "af9b42dd",
   "metadata": {},
   "outputs": [],
   "source": [
    "d_year1.to_csv('Assembly_Chart.csv')"
   ]
  },
  {
   "cell_type": "code",
   "execution_count": null,
   "id": "8512c181",
   "metadata": {},
   "outputs": [],
   "source": [
    "import plotly.express as px\n",
    "fig = px.sunburst(d_year1, path=['State_Name','Assembly_No','Year'], values='Count',width=600, height=600)\n",
    "fig.show()"
   ]
  },
  {
   "cell_type": "code",
   "execution_count": null,
   "id": "f494125f",
   "metadata": {},
   "outputs": [],
   "source": [
    "import plotly.express as px\n",
    "data = pd.DataFrame({'State_Name':[\"State_Name\"],'Assembly_Number':['Assembly Number'],'Year':['General Election Year']})\n",
    "\n",
    "fig = px.sunburst(data, path=['State_Name','Assembly_Number','Year'])\n",
    "fig.show()\n"
   ]
  },
  {
   "cell_type": "code",
   "execution_count": null,
   "id": "f9a4c6ba",
   "metadata": {},
   "outputs": [],
   "source": [
    "display(d_year1.dtypes)"
   ]
  },
  {
   "cell_type": "code",
   "execution_count": null,
   "id": "a28fb8be",
   "metadata": {},
   "outputs": [],
   "source": [
    "d_year[d_year['State_Name']=='Punjab']"
   ]
  },
  {
   "cell_type": "code",
   "execution_count": null,
   "id": "7b88cac6",
   "metadata": {},
   "outputs": [],
   "source": [
    "df1=pd.read_csv('Consolidated_AE_mastersheet.csv')\n",
    "states=['Goa','Manipur','Punjab','Uttar_Pradesh','Uttarakhand']\n",
    "df1=df1[df1['State_Name'].isin(states)]"
   ]
  },
  {
   "cell_type": "code",
   "execution_count": null,
   "id": "5b2942ff",
   "metadata": {},
   "outputs": [],
   "source": [
    "voter=pd.read_csv('voterturnout.csv')"
   ]
  },
  {
   "cell_type": "code",
   "execution_count": null,
   "id": "6ede788c",
   "metadata": {},
   "outputs": [],
   "source": [
    "turnout=voter.groupby(by=['State_Name'])['Assembly_No'].max().reset_index()\n",
    "\n",
    "turnout=turnout.merge(voter[['State_Name','Assembly_No','female','male','total','Year']], how='left', on=['State_Name','Assembly_No'])\n",
    "\n",
    "turnout"
   ]
  },
  {
   "cell_type": "code",
   "execution_count": null,
   "id": "7d1ed669",
   "metadata": {},
   "outputs": [],
   "source": [
    "fig = px.bar(voter, x=\"Year\", y=\"total\", animation_frame=\"State_Name\", animation_group=\"Year\",color=\"State_Name\", hover_name=\"Assembly_No\", range_x=[1960,2020], range_y=[0,100])\n",
    "\n",
    "fig.layout.updatemenus[0].buttons[0].args[1]['frame']['duration'] = 5000\n",
    "fig.layout.updatemenus[0].buttons[0].args[1]['transition']['duration'] = 1500\n",
    "\n",
    "fig.show()"
   ]
  },
  {
   "cell_type": "code",
   "execution_count": null,
   "id": "0a5a8981",
   "metadata": {},
   "outputs": [],
   "source": [
    "import plotly.graph_objects as go\n",
    "\n",
    "fig = go.Figure()\n",
    "fig.add_trace(go.Line(\n",
    "    x=voter[voter['State_Name']=='Goa']['Assembly_No'],\n",
    "    y=voter[voter['State_Name']=='Goa']['total'],\n",
    "    name='Goa',\n",
    "    marker_color='purple'\n",
    "))\n",
    "\n",
    "fig.add_trace(go.Line(\n",
    "    x=voter[voter['State_Name']=='Manipur']['Assembly_No'],\n",
    "    y=voter[voter['State_Name']=='Manipur']['total'],\n",
    "    name='Manipur',\n",
    "    marker_color='green'\n",
    "))\n",
    "\n",
    "fig.add_trace(go.Line(\n",
    "    x=voter[voter['State_Name']=='Punjab']['Assembly_No'],\n",
    "    y=voter[voter['State_Name']=='Punjab']['total'],\n",
    "    name='Punjab',\n",
    "    marker_color='red'\n",
    "))\n",
    "\n",
    "\n",
    "fig.add_trace(go.Line(\n",
    "    x=voter[voter['State_Name']=='Uttarakhand']['Assembly_No'],\n",
    "    y=voter[voter['State_Name']=='Uttarakhand']['total'],\n",
    "    name='Uttarakhand',\n",
    "    marker_color='yellow'\n",
    "))\n",
    "\n",
    "fig.add_trace(go.Line(\n",
    "    x=voter[voter['State_Name']=='Uttar_Pradesh']['Assembly_No'],\n",
    "    y=voter[voter['State_Name']=='Uttar_Pradesh']['total'],\n",
    "    name='Uttar Pradesh',\n",
    "    marker_color='blue'\n",
    "))\n",
    "\n",
    "# Here we modify the tickangle of the xaxis, resulting in rotated labels.\n",
    "fig.update_layout(barmode='group')\n",
    "\n",
    "fig.show()\n"
   ]
  },
  {
   "cell_type": "code",
   "execution_count": null,
   "id": "0748585d",
   "metadata": {},
   "outputs": [],
   "source": [
    "fig = go.Figure()\n",
    "fig.add_trace(go.Line(\n",
    "    x=turnout['State_Name'],\n",
    "    y=turnout['total'],\n",
    "    name='total',\n",
    "    marker_color='purple'\n",
    "))\n",
    "\n",
    "fig.add_trace(go.Line(\n",
    "    x=turnout['State_Name'],\n",
    "    y=turnout['female'],\n",
    "    name='female',\n",
    "    marker_color='yellow'\n",
    "))\n",
    "\n",
    "fig.add_trace(go.Line(\n",
    "    x=turnout['State_Name'],\n",
    "    y=turnout['male'],\n",
    "    name='male',\n",
    "    marker_color='green'\n",
    "))\n",
    "\n",
    "fig.update_layout(barmode='group', template='seaborn')\n",
    "\n",
    "\n",
    "# Here we modify the tickangle of the xaxis, resulting in rotated labels.\n",
    "\n",
    "fig.show()"
   ]
  },
  {
   "cell_type": "code",
   "execution_count": null,
   "id": "c78dd017",
   "metadata": {},
   "outputs": [],
   "source": []
  },
  {
   "cell_type": "code",
   "execution_count": null,
   "id": "ee346a2c",
   "metadata": {},
   "outputs": [],
   "source": [
    "import plotly.graph_objects as go"
   ]
  },
  {
   "cell_type": "code",
   "execution_count": null,
   "id": "e6c46025",
   "metadata": {},
   "outputs": [],
   "source": [
    "df = pd.read_csv(\"./nota.csv\",dtype={\"State\": str})\n",
    "df_1= pd.read_csv(\"./nota_temp_t.csv\",dtype={\"State\": str})\n",
    "\n",
    "df_2= pd.read_csv(\"./nota_temp.csv\",dtype={\"State\": str})"
   ]
  },
  {
   "cell_type": "code",
   "execution_count": null,
   "id": "7b3ecde5",
   "metadata": {},
   "outputs": [],
   "source": []
  },
  {
   "cell_type": "code",
   "execution_count": null,
   "id": "643c1aa0",
   "metadata": {},
   "outputs": [],
   "source": [
    "df = pd.read_csv(\"./data/newcomer.csv\",dtype={\"State_Name\": str})\n",
    "df"
   ]
  },
  {
   "cell_type": "code",
   "execution_count": null,
   "id": "0f391abe",
   "metadata": {},
   "outputs": [],
   "source": [
    "fig_1 = go.Figure()\n",
    "fig_1.add_trace(go.Bar(\n",
    "    x=df[df['Constituency_Type']=='GEN']['State_Name'],\n",
    "    y=df[df['Constituency_Type']=='GEN']['count_i'],\n",
    "    name='GEN',\n",
    "    marker_color='purple'\n",
    "))\n",
    "fig_1.add_trace(go.Bar(\n",
    "    x=df[df['Constituency_Type']=='SC']['State_Name'],\n",
    "    y=df[df['Constituency_Type']=='SC']['count_i'],\n",
    "    name='SC',\n",
    "    marker_color='red'\n",
    "))\n",
    "fig_1.add_trace(go.Bar(\n",
    "    x=df[df['Constituency_Type']=='ST']['State_Name'],\n",
    "    y=df[df['Constituency_Type']=='ST']['count_i'],\n",
    "    name='ST',\n",
    "    marker_color='yellow'\n",
    "))\n",
    "# Here we modify the tickangle of the xaxis, resulting in rotated labels.\n",
    "fig_1.update_layout(barmode='group')\n",
    "\n",
    "fig_1.show()"
   ]
  },
  {
   "cell_type": "code",
   "execution_count": null,
   "id": "64240de0",
   "metadata": {},
   "outputs": [],
   "source": [
    "\n",
    "voter"
   ]
  },
  {
   "cell_type": "code",
   "execution_count": null,
   "id": "502af592",
   "metadata": {},
   "outputs": [],
   "source": [
    "# Dashboard Model\n",
    "\n",
    "def map(df,x,df_1, title_fig=''):\n",
    "    \n",
    "    fig = px.choropleth(df_1, geojson=gj, locations='ST_NM', color='Value',\n",
    "                               featureidkey=\"properties.ST_NM\",\n",
    "                               color_discrete_sequence=[\"rgb(211,211,211)\"],\n",
    "                                                             \n",
    "                              )\n",
    "    fig.add_trace(go.Choropleth(featureidkey='properties.ST_NM',\n",
    "                                  geojson=gj,\n",
    "                                  locations=df['State_Name'],\n",
    "                                  z=df[\"{}\".format(x)],\n",
    "                                  colorscale=[[0, 'rgb(255, 229, 180)'], [1, 'rgb(248, 131, 121)']],\n",
    "                                  #colorscale='viridis',\n",
    "                                  showscale=True                      \n",
    "                                 ))\n",
    "  \n",
    "\n",
    "    fig.update_geos(projection_type=\"van der grinten\", fitbounds=\"locations\", visible=False)\n",
    "    fig.update_layout(autosize=False,title={'text': \"{}\".format(title_fig),\n",
    "        'x':0.465,\n",
    "        'y':0,\n",
    "        'xanchor': 'center',\n",
    "        'yanchor': 'bottom'},\n",
    "         margin=dict(l=0, r=0, t=0, b=0, autoexpand=True),showlegend=False, height=800)\n",
    "    fig.update_xaxes(mirror=True, showline=True)\n",
    "\n",
    "    return(fig)\n",
    "\n",
    "voter=pd.read_csv('./data/voter.csv')\n",
    "map(voter,'Percentage',df_null)"
   ]
  },
  {
   "cell_type": "code",
   "execution_count": null,
   "id": "0c5c8025",
   "metadata": {},
   "outputs": [],
   "source": [
    "contest=pd.read_csv('./data/contestant.csv')\n",
    "contest['women_contestant_per']=np.nan\n",
    "contest['women_contestant_per']=round(contest['Women']*100/contest['Total'],2)\n",
    "contest['women_winner_per']=np.nan\n",
    "contest['women_winner_per']=round(contest['Winner']*100/contest['total'],2)\n",
    "contest.rename({'Total':'total_contestant','Women':'women_contestant','Winner':'women_winner','total':'total_winner'}, axis=1, inplace=True)"
   ]
  },
  {
   "cell_type": "code",
   "execution_count": null,
   "id": "82f9d3ef",
   "metadata": {},
   "outputs": [],
   "source": [
    "c_1=contest.groupby(['State_Name','Assembly_No','total_contestant','women_contestant'])['women_contestant_per'].unique().reset_index().explode('women_contestant_per')\n",
    "c_1['type']='women_contestant_per'\n",
    "c_1.rename({'women_contestant_per':'per'}, axis=1, inplace=True)\n",
    "\n",
    "c_2=contest.groupby(['State_Name','Assembly_No','women_winner','total_winner'])['women_winner_per'].unique().reset_index().explode('women_winner_per')\n",
    "c_2['type']='women_winner_per'\n",
    "c_2.rename({'women_winner_per':'per'}, axis=1, inplace=True)\n",
    "\n",
    "c=c_2.append(c_1)\n",
    "\n",
    "c['winner']=np.nan\n",
    "c['winner']=c['winner'].mask( (c['women_winner'].isna()==True), c['women_contestant'])\n",
    "c['winner']=c['winner'].mask( (c['women_winner'].isna()==False), c['women_winner'])\n",
    "c['contestant']=np.nan\n",
    "c['contestant']=c['contestant'].mask( (c['total_contestant'].isna()==True), c['total_winner'])\n",
    "c['contestant']=c['contestant'].mask( (c['total_contestant'].isna()==False), c['total_contestant'])"
   ]
  },
  {
   "cell_type": "code",
   "execution_count": null,
   "id": "30002b44",
   "metadata": {},
   "outputs": [],
   "source": [
    "fig = px.bar(c, x=\"State_Name\", y=\"per\",\n",
    "             color='type', barmode='group',\n",
    "             height=400, hover_name=\"type\", hover_data={\"winner\":True, \"contestant\":True, \"type\":False,\"State_Name\":False}, \n",
    "             labels = {\"winner\":\"women\",\"contestant\":\"total\", \"type\":\"\", \"per\":\"Percentage\"}, \n",
    "             color_discrete_map={\n",
    "             'women_winner_per': 'lightblue',\n",
    "              'women_contestant_per': 'purple'\n",
    "    })\n",
    "\n",
    "fig.update_layout(hovermode=None, plot_bgcolor=\"White\")\n",
    "fig.update_xaxes(showline=True, linewidth=1, linecolor='grey')\n",
    "fig.update_yaxes(showline=True, linewidth=1, linecolor='grey')\n",
    "\n",
    "fig.show()"
   ]
  },
  {
   "cell_type": "code",
   "execution_count": null,
   "id": "770cb827",
   "metadata": {},
   "outputs": [],
   "source": [
    "fig = go.Figure()\n",
    "fig.add_trace(go.Bar(\n",
    "    x=contest['State_Name'].tolist(),\n",
    "    y=contest['women_contestant_per'].tolist(),\n",
    "    name='Women Contestant Percentage',\n",
    "    marker_color='purple',\n",
    "    \n",
    "    hovertemplate =\n",
    "    'Total Contestant: %{y:.2f}'+\n",
    "    '<br>Women Contestant:%{text}'+\n",
    "    '<extra></extra>',\n",
    "    \n",
    "    text = ['{}'.format(i) for i in contest['women_contestant']]\n",
    "))\n",
    "\n",
    "fig.add_trace(go.Bar(\n",
    "   x=contest['State_Name'],\n",
    "    y=contest['women_winner_per'],\n",
    "    name='Women Winner Percentage',\n",
    "    marker_color='grey'\n",
    "))\n",
    "# Here we modify the tickangle of the xaxis, resulting in rotated labels.\n",
    "fig.update_layout(barmode='group')\n",
    "\n",
    "fig.show()"
   ]
  },
  {
   "cell_type": "code",
   "execution_count": null,
   "id": "247a263a",
   "metadata": {},
   "outputs": [],
   "source": [
    "for i in contest[\"women_contestant\"]:\n",
    "    print(i)"
   ]
  },
  {
   "cell_type": "code",
   "execution_count": null,
   "id": "51ac0b12",
   "metadata": {},
   "outputs": [],
   "source": []
  },
  {
   "cell_type": "code",
   "execution_count": null,
   "id": "1c72c7ca",
   "metadata": {},
   "outputs": [],
   "source": [
    "constituencies=pd.read_csv('./data/constituencies.csv')\n",
    "constituencies['Percentage']=np.nan\n",
    "constituencies['Percentage']=round(constituencies['count_i']*100/ constituencies['total'], 2)\n",
    "\n",
    "fig = px.bar(constituencies, x=\"State_Name\", y=\"Percentage\",\n",
    "             color='Constituency_Type', barmode='group',\n",
    "             height=400, hover_name=\"Constituency_Type\", hover_data={\"count_i\":True, \"total\":True, \"Constituency_Type\":False,\"State_Name\":False}, \n",
    "             labels = {\"count_i\":\"Count\",\"total\":\"Total\", \"type\":\"\", \"per\":\"Percentage\"}, \n",
    "             color_discrete_map={\n",
    "             'GEN': 'lightgreen',\n",
    "              'SC': 'yellow',\n",
    "                 'ST':'green'}\n",
    "            )\n",
    "\n",
    "fig.update_layout(hovermode=None, plot_bgcolor=\"White\")\n",
    "fig.update_xaxes(showline=True, linewidth=1, linecolor='grey')\n",
    "fig.update_yaxes(showline=True, linewidth=1, linecolor='grey')\n",
    "\n",
    "fig.show()"
   ]
  },
  {
   "cell_type": "code",
   "execution_count": null,
   "id": "eff9344a",
   "metadata": {},
   "outputs": [],
   "source": [
    "df_party_seat=pd.read_csv('./data/party_seat_share.csv')\n",
    "df_party_seat['Party_Seat_Percentage']=round(df_party_seat['Party_Seat_Percentage'],2)\n",
    "df_party_seat.sort_values(by=['State_Name','Party_Seat_Percentage'], inplace=True, ascending=False)\n",
    "df_party_seat.drop(['Unnamed: 0'], axis=1, inplace=True)\n",
    "\n",
    "\n",
    "df_party_seat_k=df_party_seat.groupby(['State_Name']).apply(lambda x: x.nlargest(5, 'Party_Seat_Percentage'))\n",
    "df_party_seat_k=df_party_seat_k.set_index('State_Name')\n",
    "df_party_seat_k=df_party_seat_k.reset_index()\n",
    "df_party_seat_x=df_party_seat_k.append(df_party_seat)\n",
    "\n",
    "df_party_seat_other=df_party_seat_x.drop_duplicates(subset=['State_Name','Assembly_No','Party','Party_Seat','total','Party_Seat_Percentage'], keep=False)\n",
    "df_party_seat_o=df_party_seat_other.groupby(['State_Name','Assembly_No','total'])['Party_Seat_Percentage'].sum().reset_index()\n",
    "\n",
    "df_party_seat_p=df_party_seat_other.groupby(['State_Name','Assembly_No','total'])['Party_Seat'].sum().reset_index()\n",
    "df_party_seat_p['Party']='Other'\n",
    "df_party_seat_o=df_party_seat_o.merge(df_party_seat_p, how='left', on=['State_Name','Assembly_No','total'])\n",
    "df_party_seat_k=df_party_seat_k.append(df_party_seat_o).reset_index()\n",
    "\n",
    "fig= px.sunburst(df_party_seat_k, path=['State_Name','Party','Party_Seat_Percentage'], \n",
    "                 values='Party_Seat',width=1000, height=1000, color='Party_Seat_Percentage',\n",
    "                 color_continuous_scale='Tealgrn'\n",
    "                )\n",
    "\n",
    "fig.update_traces(insidetextorientation='radial')\n",
    "fig.update_layout(hovermode=None)\n",
    "\n",
    "fig"
   ]
  },
  {
   "cell_type": "code",
   "execution_count": null,
   "id": "7c86b6c3",
   "metadata": {},
   "outputs": [],
   "source": [
    "df_party_seat=pd.read_csv('./data/party_seat_share.csv')\n",
    "\n",
    "fig= px.sunburst(df_party_seat, path=['State_Name','Party','Party_Seat_Percentage'], \n",
    "                 values='Party_Seat',width=1000, height=1000, color='Party_Seat_Percentage',\n",
    "                 color_continuous_scale='GnBu'\n",
    "                )\n",
    "\n",
    "fig.update_traces(insidetextorientation='auto')\n",
    "fig.update_layout(hovermode=None)\n",
    "\n",
    "fig"
   ]
  },
  {
   "cell_type": "code",
   "execution_count": null,
   "id": "e79171ca",
   "metadata": {},
   "outputs": [],
   "source": [
    "df_party_seat['Party'].unique()"
   ]
  },
  {
   "cell_type": "code",
   "execution_count": null,
   "id": "331e0e2e",
   "metadata": {},
   "outputs": [],
   "source": [
    "df_party_seat=pd.read_csv('./data/party_seat_share.csv')\n",
    "df_party_seat.drop(['Unnamed: 0','index'], axis=1, inplace=True)\n",
    "\n",
    "party_presence=df_party_seat.groupby(['Party'])['State_Name'].unique().reset_index()\n",
    "\n",
    "party_presence['count']=party_presence['State_Name'].str.len()\n",
    "\n",
    "party_presence=party_presence[party_presence['count']>1]\n",
    "\n",
    "party_presence=party_presence.explode('State_Name').merge(df_party_seat, how='left', on=['Party','State_Name'])\n",
    "\n",
    "party_presence=party_presence[party_presence['Party']!='Other']\n",
    "\n",
    "party_presence.to_csv('party_presence.csv')"
   ]
  },
  {
   "cell_type": "code",
   "execution_count": null,
   "id": "9cd9c851",
   "metadata": {},
   "outputs": [],
   "source": [
    "fig = px.line(party_presence, x=\"State_Name\", y=\"Party_Seat_Percentage\", color='Party')\n",
    "\n",
    "fig.show()\n"
   ]
  },
  {
   "cell_type": "code",
   "execution_count": null,
   "id": "fb65b014",
   "metadata": {},
   "outputs": [],
   "source": [
    "party_presence[party_presence['Party']=='BJP']"
   ]
  },
  {
   "cell_type": "code",
   "execution_count": null,
   "id": "591ebd4c",
   "metadata": {},
   "outputs": [],
   "source": [
    "# Dashboard Model\n",
    "\n",
    "def map(df,x,df_1, title_fig=''):\n",
    "    \n",
    "    fig = px.choropleth(df_1, geojson=map_df, locations='ST_NM', color='Value',\n",
    "                               featureidkey=\"properties.ST_NM\",\n",
    "                               color_discrete_sequence=[\"rgb(211,211,211)\"])\n",
    "    \n",
    "    fig.add_trace(go.Choropleth(featureidkey='properties.ST_NM',\n",
    "                                  geojson=map_df,\n",
    "                                  locations=df['State_Name'],\n",
    "                                  z=df[\"{}\".format(x)],\n",
    "                                  colorscale=[[0, 'rgb(255, 229, 180)'], [1, 'rgb(248, 131, 121)']],\n",
    "                                  #colorscale='viridis',\n",
    "                                  showscale=True                      \n",
    "                                 ))\n",
    "  \n",
    "\n",
    "    fig.update_geos(projection_type=\"van der grinten\", fitbounds=\"locations\", visible=False)\n",
    "    fig.update_layout(autosize=False,title={'text': \"{}\".format(title_fig),\n",
    "        'x':0.465,\n",
    "        'y':0,\n",
    "        'xanchor': 'center',\n",
    "        'yanchor': 'bottom'},\n",
    "         margin=dict(l=0, r=0, t=0, b=0, autoexpand=True),showlegend=False, height=800)\n",
    "    fig.update_xaxes(mirror=True, showline=True)\n",
    "\n",
    "    return(fig)\n",
    "\n",
    "voter=pd.read_csv('./data/voter.csv')\n"
   ]
  },
  {
   "cell_type": "code",
   "execution_count": null,
   "id": "b2e0c75b",
   "metadata": {},
   "outputs": [],
   "source": [
    "with open('./India_States.geojson') as f:\n",
    "    map_df = json.load(f)\n",
    "\n",
    "df_null= pd.read_csv(\"./states_shapefile_name.csv\",dtype={\"State\": str})\n",
    "map(party_presence[party_presence['Party']=='BJP'],'Party_Seat_Percentage',df_null, title_fig='')"
   ]
  },
  {
   "cell_type": "code",
   "execution_count": null,
   "id": "8cc1f1d8",
   "metadata": {},
   "outputs": [],
   "source": [
    "party_presence"
   ]
  }
 ],
 "metadata": {
  "kernelspec": {
   "display_name": "Python 3",
   "language": "python",
   "name": "python3"
  },
  "language_info": {
   "codemirror_mode": {
    "name": "ipython",
    "version": 3
   },
   "file_extension": ".py",
   "mimetype": "text/x-python",
   "name": "python",
   "nbconvert_exporter": "python",
   "pygments_lexer": "ipython3",
   "version": "3.8.8"
  }
 },
 "nbformat": 4,
 "nbformat_minor": 5
}
