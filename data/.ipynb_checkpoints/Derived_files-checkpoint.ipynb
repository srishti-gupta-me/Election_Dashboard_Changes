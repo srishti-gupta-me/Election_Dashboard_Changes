{
 "cells": [
  {
   "cell_type": "code",
   "execution_count": 1,
   "id": "d64ad015",
   "metadata": {},
   "outputs": [],
   "source": [
    "import sys\n",
    "import warnings\n",
    "import os\n",
    "import numpy as np\n",
    "import pandas as pd"
   ]
  },
  {
   "cell_type": "code",
   "execution_count": 2,
   "id": "d4f5cc90",
   "metadata": {},
   "outputs": [
    {
     "name": "stderr",
     "output_type": "stream",
     "text": [
      "/home/srishti/anaconda3/lib/python3.8/site-packages/IPython/core/interactiveshell.py:3165: DtypeWarning: Columns (13,18,19,31,32,34,35,46) have mixed types.Specify dtype option on import or set low_memory=False.\n",
      "  has_raised = await self.run_ast_nodes(code_ast.body, cell_name,\n"
     ]
    },
    {
     "data": {
      "text/html": [
       "<div>\n",
       "<style scoped>\n",
       "    .dataframe tbody tr th:only-of-type {\n",
       "        vertical-align: middle;\n",
       "    }\n",
       "\n",
       "    .dataframe tbody tr th {\n",
       "        vertical-align: top;\n",
       "    }\n",
       "\n",
       "    .dataframe thead th {\n",
       "        text-align: right;\n",
       "    }\n",
       "</style>\n",
       "<table border=\"1\" class=\"dataframe\">\n",
       "  <thead>\n",
       "    <tr style=\"text-align: right;\">\n",
       "      <th></th>\n",
       "      <th>State_Name</th>\n",
       "      <th>Assembly_No</th>\n",
       "      <th>Constituency_No</th>\n",
       "      <th>Year</th>\n",
       "      <th>month</th>\n",
       "      <th>DelimID</th>\n",
       "      <th>Poll_No</th>\n",
       "      <th>Position</th>\n",
       "      <th>Candidate</th>\n",
       "      <th>Sex</th>\n",
       "      <th>...</th>\n",
       "      <th>Contested</th>\n",
       "      <th>Last_Party</th>\n",
       "      <th>Last_Party_ID</th>\n",
       "      <th>Last_Constituency_Name</th>\n",
       "      <th>Same_Constituency</th>\n",
       "      <th>Same_Party</th>\n",
       "      <th>No_Terms</th>\n",
       "      <th>Turncoat</th>\n",
       "      <th>Incumbent</th>\n",
       "      <th>Recontest</th>\n",
       "    </tr>\n",
       "  </thead>\n",
       "  <tbody>\n",
       "    <tr>\n",
       "      <th>0</th>\n",
       "      <td>Andhra_Pradesh</td>\n",
       "      <td>3</td>\n",
       "      <td>1</td>\n",
       "      <td>1962.0</td>\n",
       "      <td>2</td>\n",
       "      <td>1</td>\n",
       "      <td>0</td>\n",
       "      <td>1</td>\n",
       "      <td>KIRTI CHANDRA DEO</td>\n",
       "      <td>M</td>\n",
       "      <td>...</td>\n",
       "      <td>1.0</td>\n",
       "      <td>NaN</td>\n",
       "      <td>NaN</td>\n",
       "      <td>NaN</td>\n",
       "      <td>NaN</td>\n",
       "      <td>NaN</td>\n",
       "      <td>1.0</td>\n",
       "      <td>False</td>\n",
       "      <td>False</td>\n",
       "      <td>False</td>\n",
       "    </tr>\n",
       "    <tr>\n",
       "      <th>1</th>\n",
       "      <td>Andhra_Pradesh</td>\n",
       "      <td>3</td>\n",
       "      <td>1</td>\n",
       "      <td>1962.0</td>\n",
       "      <td>2</td>\n",
       "      <td>1</td>\n",
       "      <td>0</td>\n",
       "      <td>2</td>\n",
       "      <td>DAKKATA PITAMBARU</td>\n",
       "      <td>M</td>\n",
       "      <td>...</td>\n",
       "      <td>1.0</td>\n",
       "      <td>NaN</td>\n",
       "      <td>NaN</td>\n",
       "      <td>NaN</td>\n",
       "      <td>NaN</td>\n",
       "      <td>NaN</td>\n",
       "      <td>0.0</td>\n",
       "      <td>False</td>\n",
       "      <td>False</td>\n",
       "      <td>False</td>\n",
       "    </tr>\n",
       "    <tr>\n",
       "      <th>2</th>\n",
       "      <td>Andhra_Pradesh</td>\n",
       "      <td>3</td>\n",
       "      <td>2</td>\n",
       "      <td>1962.0</td>\n",
       "      <td>2</td>\n",
       "      <td>1</td>\n",
       "      <td>0</td>\n",
       "      <td>1</td>\n",
       "      <td>GOUTHU LATCHANNA</td>\n",
       "      <td>M</td>\n",
       "      <td>...</td>\n",
       "      <td>1.0</td>\n",
       "      <td>NaN</td>\n",
       "      <td>NaN</td>\n",
       "      <td>NaN</td>\n",
       "      <td>NaN</td>\n",
       "      <td>NaN</td>\n",
       "      <td>1.0</td>\n",
       "      <td>False</td>\n",
       "      <td>False</td>\n",
       "      <td>False</td>\n",
       "    </tr>\n",
       "    <tr>\n",
       "      <th>3</th>\n",
       "      <td>Andhra_Pradesh</td>\n",
       "      <td>3</td>\n",
       "      <td>2</td>\n",
       "      <td>1962.0</td>\n",
       "      <td>2</td>\n",
       "      <td>1</td>\n",
       "      <td>0</td>\n",
       "      <td>2</td>\n",
       "      <td>MAJJI TULASIDASS</td>\n",
       "      <td>M</td>\n",
       "      <td>...</td>\n",
       "      <td>1.0</td>\n",
       "      <td>NaN</td>\n",
       "      <td>NaN</td>\n",
       "      <td>NaN</td>\n",
       "      <td>NaN</td>\n",
       "      <td>NaN</td>\n",
       "      <td>0.0</td>\n",
       "      <td>False</td>\n",
       "      <td>False</td>\n",
       "      <td>False</td>\n",
       "    </tr>\n",
       "    <tr>\n",
       "      <th>4</th>\n",
       "      <td>Andhra_Pradesh</td>\n",
       "      <td>3</td>\n",
       "      <td>2</td>\n",
       "      <td>1962.0</td>\n",
       "      <td>2</td>\n",
       "      <td>1</td>\n",
       "      <td>0</td>\n",
       "      <td>3</td>\n",
       "      <td>GANNI PADMANABHA RAO</td>\n",
       "      <td>M</td>\n",
       "      <td>...</td>\n",
       "      <td>1.0</td>\n",
       "      <td>NaN</td>\n",
       "      <td>NaN</td>\n",
       "      <td>NaN</td>\n",
       "      <td>NaN</td>\n",
       "      <td>NaN</td>\n",
       "      <td>0.0</td>\n",
       "      <td>False</td>\n",
       "      <td>False</td>\n",
       "      <td>False</td>\n",
       "    </tr>\n",
       "    <tr>\n",
       "      <th>...</th>\n",
       "      <td>...</td>\n",
       "      <td>...</td>\n",
       "      <td>...</td>\n",
       "      <td>...</td>\n",
       "      <td>...</td>\n",
       "      <td>...</td>\n",
       "      <td>...</td>\n",
       "      <td>...</td>\n",
       "      <td>...</td>\n",
       "      <td>...</td>\n",
       "      <td>...</td>\n",
       "      <td>...</td>\n",
       "      <td>...</td>\n",
       "      <td>...</td>\n",
       "      <td>...</td>\n",
       "      <td>...</td>\n",
       "      <td>...</td>\n",
       "      <td>...</td>\n",
       "      <td>...</td>\n",
       "      <td>...</td>\n",
       "      <td>...</td>\n",
       "    </tr>\n",
       "    <tr>\n",
       "      <th>464607</th>\n",
       "      <td>West_Bengal</td>\n",
       "      <td>17</td>\n",
       "      <td>294</td>\n",
       "      <td>2021.0</td>\n",
       "      <td>5</td>\n",
       "      <td>4</td>\n",
       "      <td>0</td>\n",
       "      <td>3</td>\n",
       "      <td>ASIF EKBAL</td>\n",
       "      <td>M</td>\n",
       "      <td>...</td>\n",
       "      <td>1.0</td>\n",
       "      <td>NaN</td>\n",
       "      <td>NaN</td>\n",
       "      <td>NaN</td>\n",
       "      <td>NaN</td>\n",
       "      <td>NaN</td>\n",
       "      <td>0.0</td>\n",
       "      <td>False</td>\n",
       "      <td>False</td>\n",
       "      <td>False</td>\n",
       "    </tr>\n",
       "    <tr>\n",
       "      <th>464608</th>\n",
       "      <td>West_Bengal</td>\n",
       "      <td>17</td>\n",
       "      <td>294</td>\n",
       "      <td>2021.0</td>\n",
       "      <td>5</td>\n",
       "      <td>4</td>\n",
       "      <td>0</td>\n",
       "      <td>4</td>\n",
       "      <td>ANSARUL SAIEKH</td>\n",
       "      <td>M</td>\n",
       "      <td>...</td>\n",
       "      <td>1.0</td>\n",
       "      <td>NaN</td>\n",
       "      <td>NaN</td>\n",
       "      <td>NaN</td>\n",
       "      <td>NaN</td>\n",
       "      <td>NaN</td>\n",
       "      <td>0.0</td>\n",
       "      <td>False</td>\n",
       "      <td>False</td>\n",
       "      <td>False</td>\n",
       "    </tr>\n",
       "    <tr>\n",
       "      <th>464609</th>\n",
       "      <td>West_Bengal</td>\n",
       "      <td>17</td>\n",
       "      <td>294</td>\n",
       "      <td>2021.0</td>\n",
       "      <td>5</td>\n",
       "      <td>4</td>\n",
       "      <td>0</td>\n",
       "      <td>5</td>\n",
       "      <td>TARAK LET</td>\n",
       "      <td>M</td>\n",
       "      <td>...</td>\n",
       "      <td>2.0</td>\n",
       "      <td>BSP</td>\n",
       "      <td>16651.0</td>\n",
       "      <td>RAMPURHAT</td>\n",
       "      <td>False</td>\n",
       "      <td>True</td>\n",
       "      <td>0.0</td>\n",
       "      <td>False</td>\n",
       "      <td>False</td>\n",
       "      <td>True</td>\n",
       "    </tr>\n",
       "    <tr>\n",
       "      <th>464610</th>\n",
       "      <td>West_Bengal</td>\n",
       "      <td>17</td>\n",
       "      <td>294</td>\n",
       "      <td>2021.0</td>\n",
       "      <td>5</td>\n",
       "      <td>4</td>\n",
       "      <td>0</td>\n",
       "      <td>6</td>\n",
       "      <td>None Of The Above</td>\n",
       "      <td>NaN</td>\n",
       "      <td>...</td>\n",
       "      <td>NaN</td>\n",
       "      <td>NaN</td>\n",
       "      <td>5897.0</td>\n",
       "      <td>NaN</td>\n",
       "      <td>NaN</td>\n",
       "      <td>NaN</td>\n",
       "      <td>NaN</td>\n",
       "      <td>NaN</td>\n",
       "      <td>False</td>\n",
       "      <td>False</td>\n",
       "    </tr>\n",
       "    <tr>\n",
       "      <th>464611</th>\n",
       "      <td>West_Bengal</td>\n",
       "      <td>17</td>\n",
       "      <td>294</td>\n",
       "      <td>2021.0</td>\n",
       "      <td>5</td>\n",
       "      <td>4</td>\n",
       "      <td>0</td>\n",
       "      <td>7</td>\n",
       "      <td>SAMSUL MIYA</td>\n",
       "      <td>M</td>\n",
       "      <td>...</td>\n",
       "      <td>2.0</td>\n",
       "      <td>RLD</td>\n",
       "      <td>12169.0</td>\n",
       "      <td>MURARAI</td>\n",
       "      <td>True</td>\n",
       "      <td>False</td>\n",
       "      <td>0.0</td>\n",
       "      <td>True</td>\n",
       "      <td>False</td>\n",
       "      <td>True</td>\n",
       "    </tr>\n",
       "  </tbody>\n",
       "</table>\n",
       "<p>464612 rows × 49 columns</p>\n",
       "</div>"
      ],
      "text/plain": [
       "            State_Name  Assembly_No  Constituency_No    Year  month  DelimID  \\\n",
       "0       Andhra_Pradesh            3                1  1962.0      2        1   \n",
       "1       Andhra_Pradesh            3                1  1962.0      2        1   \n",
       "2       Andhra_Pradesh            3                2  1962.0      2        1   \n",
       "3       Andhra_Pradesh            3                2  1962.0      2        1   \n",
       "4       Andhra_Pradesh            3                2  1962.0      2        1   \n",
       "...                ...          ...              ...     ...    ...      ...   \n",
       "464607     West_Bengal           17              294  2021.0      5        4   \n",
       "464608     West_Bengal           17              294  2021.0      5        4   \n",
       "464609     West_Bengal           17              294  2021.0      5        4   \n",
       "464610     West_Bengal           17              294  2021.0      5        4   \n",
       "464611     West_Bengal           17              294  2021.0      5        4   \n",
       "\n",
       "        Poll_No  Position             Candidate  Sex  ... Contested  \\\n",
       "0             0         1     KIRTI CHANDRA DEO    M  ...       1.0   \n",
       "1             0         2     DAKKATA PITAMBARU    M  ...       1.0   \n",
       "2             0         1      GOUTHU LATCHANNA    M  ...       1.0   \n",
       "3             0         2      MAJJI TULASIDASS    M  ...       1.0   \n",
       "4             0         3  GANNI PADMANABHA RAO    M  ...       1.0   \n",
       "...         ...       ...                   ...  ...  ...       ...   \n",
       "464607        0         3            ASIF EKBAL    M  ...       1.0   \n",
       "464608        0         4        ANSARUL SAIEKH    M  ...       1.0   \n",
       "464609        0         5             TARAK LET    M  ...       2.0   \n",
       "464610        0         6     None Of The Above  NaN  ...       NaN   \n",
       "464611        0         7           SAMSUL MIYA    M  ...       2.0   \n",
       "\n",
       "        Last_Party  Last_Party_ID Last_Constituency_Name  Same_Constituency  \\\n",
       "0              NaN            NaN                    NaN                NaN   \n",
       "1              NaN            NaN                    NaN                NaN   \n",
       "2              NaN            NaN                    NaN                NaN   \n",
       "3              NaN            NaN                    NaN                NaN   \n",
       "4              NaN            NaN                    NaN                NaN   \n",
       "...            ...            ...                    ...                ...   \n",
       "464607         NaN            NaN                    NaN                NaN   \n",
       "464608         NaN            NaN                    NaN                NaN   \n",
       "464609         BSP        16651.0              RAMPURHAT              False   \n",
       "464610         NaN         5897.0                    NaN                NaN   \n",
       "464611         RLD        12169.0                MURARAI               True   \n",
       "\n",
       "        Same_Party No_Terms Turncoat Incumbent Recontest  \n",
       "0              NaN      1.0    False     False     False  \n",
       "1              NaN      0.0    False     False     False  \n",
       "2              NaN      1.0    False     False     False  \n",
       "3              NaN      0.0    False     False     False  \n",
       "4              NaN      0.0    False     False     False  \n",
       "...            ...      ...      ...       ...       ...  \n",
       "464607         NaN      0.0    False     False     False  \n",
       "464608         NaN      0.0    False     False     False  \n",
       "464609        True      0.0    False     False      True  \n",
       "464610         NaN      NaN      NaN     False     False  \n",
       "464611       False      0.0     True     False      True  \n",
       "\n",
       "[464612 rows x 49 columns]"
      ]
     },
     "execution_count": 2,
     "metadata": {},
     "output_type": "execute_result"
    }
   ],
   "source": [
    "path = \"/home/srishti\"\n",
    "\n",
    "df=pd.read_csv(os.path.join(path, \"Consolidated_AE_mastersheet.csv\"))\n",
    "df"
   ]
  },
  {
   "cell_type": "code",
   "execution_count": 3,
   "id": "4261182a",
   "metadata": {},
   "outputs": [],
   "source": [
    "df['State_Name']=df['State_Name'].mask(df['State_Name']=='Uttar_Pradesh','Uttar Pradesh')"
   ]
  },
  {
   "cell_type": "code",
   "execution_count": 4,
   "id": "e44424f1",
   "metadata": {},
   "outputs": [
    {
     "data": {
      "text/html": [
       "<div>\n",
       "<style scoped>\n",
       "    .dataframe tbody tr th:only-of-type {\n",
       "        vertical-align: middle;\n",
       "    }\n",
       "\n",
       "    .dataframe tbody tr th {\n",
       "        vertical-align: top;\n",
       "    }\n",
       "\n",
       "    .dataframe thead th {\n",
       "        text-align: right;\n",
       "    }\n",
       "</style>\n",
       "<table border=\"1\" class=\"dataframe\">\n",
       "  <thead>\n",
       "    <tr style=\"text-align: right;\">\n",
       "      <th></th>\n",
       "      <th>State_Name</th>\n",
       "      <th>Assembly_No</th>\n",
       "    </tr>\n",
       "  </thead>\n",
       "  <tbody>\n",
       "    <tr>\n",
       "      <th>6</th>\n",
       "      <td>Goa</td>\n",
       "      <td>7</td>\n",
       "    </tr>\n",
       "    <tr>\n",
       "      <th>18</th>\n",
       "      <td>Manipur</td>\n",
       "      <td>12</td>\n",
       "    </tr>\n",
       "    <tr>\n",
       "      <th>25</th>\n",
       "      <td>Punjab</td>\n",
       "      <td>15</td>\n",
       "    </tr>\n",
       "    <tr>\n",
       "      <th>31</th>\n",
       "      <td>Uttar Pradesh</td>\n",
       "      <td>17</td>\n",
       "    </tr>\n",
       "    <tr>\n",
       "      <th>32</th>\n",
       "      <td>Uttarakhand</td>\n",
       "      <td>4</td>\n",
       "    </tr>\n",
       "  </tbody>\n",
       "</table>\n",
       "</div>"
      ],
      "text/plain": [
       "       State_Name  Assembly_No\n",
       "6             Goa            7\n",
       "18        Manipur           12\n",
       "25         Punjab           15\n",
       "31  Uttar Pradesh           17\n",
       "32    Uttarakhand            4"
      ]
     },
     "execution_count": 4,
     "metadata": {},
     "output_type": "execute_result"
    }
   ],
   "source": [
    "states=['Goa','Manipur','Punjab','Uttar Pradesh','Uttarakhand']\n",
    "\n",
    "df_assembly=df.groupby(['State_Name'])['Assembly_No'].max().reset_index()\n",
    "\n",
    "df_assembly=df_assembly[df_assembly['State_Name'].isin(states)]\n",
    "\n",
    "df_assembly"
   ]
  },
  {
   "cell_type": "code",
   "execution_count": 5,
   "id": "a51d5bfa",
   "metadata": {},
   "outputs": [
    {
     "data": {
      "text/plain": [
       "array(['M', 'F', nan, 'O'], dtype=object)"
      ]
     },
     "execution_count": 5,
     "metadata": {},
     "output_type": "execute_result"
    }
   ],
   "source": [
    "df[(df['State_Name'].isin(states)) & (df['Party']!='NOTA')]['Sex'].unique()"
   ]
  },
  {
   "cell_type": "code",
   "execution_count": 6,
   "id": "d589a402",
   "metadata": {},
   "outputs": [
    {
     "data": {
      "text/plain": [
       "98103"
      ]
     },
     "execution_count": 6,
     "metadata": {},
     "output_type": "execute_result"
    }
   ],
   "source": [
    "len(df[(df['State_Name'].isin(states)) & (df['Party']!='NOTA')])"
   ]
  },
  {
   "cell_type": "code",
   "execution_count": 56,
   "id": "a554fdfb",
   "metadata": {},
   "outputs": [
    {
     "data": {
      "text/plain": [
       "1047"
      ]
     },
     "execution_count": 56,
     "metadata": {},
     "output_type": "execute_result"
    }
   ],
   "source": [
    "len(df[(df['State_Name'].isin(states)) & (df['Party']!='NOTA') & (df['Sex'].isna()==True)])"
   ]
  },
  {
   "cell_type": "code",
   "execution_count": 57,
   "id": "599d8977",
   "metadata": {},
   "outputs": [
    {
     "data": {
      "text/plain": [
       "1.0672456499801228"
      ]
     },
     "execution_count": 57,
     "metadata": {},
     "output_type": "execute_result"
    }
   ],
   "source": [
    "x=1047*100/98103\n",
    "\n",
    "x"
   ]
  },
  {
   "cell_type": "code",
   "execution_count": 58,
   "id": "29893c19",
   "metadata": {},
   "outputs": [
    {
     "name": "stdout",
     "output_type": "stream",
     "text": [
      "      State_Name  Assembly_No    Year  Valid_Votes     Votes  Percentage\n",
      "0            Goa            7  2017.0     916216.0   10919.0    1.191750\n",
      "1        Manipur           12  2017.0    1657776.0    9062.0    0.546636\n",
      "2         Punjab           15  2017.0   15443460.0  108456.0    0.702278\n",
      "3  Uttar Pradesh           17  2017.0   86727767.0  757643.0    0.873588\n",
      "4    Uttarakhand            4  2017.0    4975167.0   50426.0    1.013554\n"
     ]
    }
   ],
   "source": [
    "#NOTA calculation\n",
    "\n",
    "\n",
    "df_n=df[ (df['State_Name'].isin(states)) & (df['Poll_No']==0) & (df['Party']=='NOTA')]\n",
    "\n",
    "df_indivi=df_n.groupby(['State_Name','Assembly_No','Year'])['Votes'].sum()\n",
    "\n",
    "df_indivi=df_indivi.reset_index()\n",
    "\n",
    "df_total=df_n.groupby(['State_Name','Assembly_No','Year'])['Valid_Votes'].sum()\n",
    "\n",
    "df_total=df_total.reset_index()\n",
    "\n",
    "merged_nota=df_total.merge(df_indivi,how='left',on=['State_Name','Assembly_No','Year'])\n",
    "\n",
    "merged_nota['Percentage']=np.nan\n",
    "merged_nota['Percentage']=merged_nota['Votes']*100/merged_nota['Valid_Votes']\n",
    "\n",
    "print(merged_nota)\n",
    "\n",
    "merged_nota.to_csv('nota.csv')"
   ]
  },
  {
   "cell_type": "code",
   "execution_count": 59,
   "id": "2b71ca57",
   "metadata": {},
   "outputs": [
    {
     "name": "stdout",
     "output_type": "stream",
     "text": [
      "Duplicates rows, if any Empty DataFrame\n",
      "Columns: [State_Name, Assembly_No, Year, Constituency_No, Poll_No, Valid_Votes]\n",
      "Index: []\n",
      "Duplicates rows, if any Empty DataFrame\n",
      "Columns: [State_Name, Assembly_No, Year, Constituency_No, Poll_No, Electors]\n",
      "Index: []\n",
      "Merged Turnout calculated\n",
      "       State_Name  Assembly_No    Year     Electors  Valid_Votes  Percentage\n",
      "0            Goa            7  2017.0    1111691.0     916216.0   82.416427\n",
      "1        Manipur           12  2017.0    1914543.0    1657776.0   86.588601\n",
      "2         Punjab           15  2017.0   20029499.0   15443460.0   77.103576\n",
      "3  Uttar Pradesh           17  2017.0  141664587.0   86727767.0   61.220499\n",
      "4    Uttarakhand            4  2017.0    7606332.0    4975167.0   65.408228\n"
     ]
    }
   ],
   "source": [
    "#Total Voter Turnout \n",
    "\n",
    "df_v=df[(df['State_Name'].isin(states))]\n",
    "\n",
    "#Valid Votes, #use of max function is to get an integer which is same otherwise, using unique gives list \n",
    "df_valid_votes=df_v.groupby(['State_Name','Assembly_No','Year','Constituency_No','Poll_No'])['Valid_Votes'].unique().reset_index().explode('Valid_Votes')\n",
    "df_valid_votes=df_assembly.merge(df_valid_votes, how='left', on=['State_Name','Assembly_No'])\n",
    "\n",
    "#To check for duplicates\n",
    "print(\"Duplicates rows, if any\",df_valid_votes[df_valid_votes.duplicated(subset=['State_Name','Assembly_No','Constituency_No'], keep=False)==True])\n",
    "\n",
    "df_valid_votes=df_valid_votes.groupby(['State_Name','Assembly_No','Year'])['Valid_Votes'].sum().reset_index()\n",
    "\n",
    "#Electors \n",
    "\n",
    "df_electors=df_v.groupby(['State_Name','Assembly_No','Year','Constituency_No','Poll_No'])['Electors'].unique().reset_index().explode('Electors')\n",
    "df_electors=df_assembly.merge(df_electors, how='left', on=['State_Name','Assembly_No'] )\n",
    "\n",
    "#To check for duplicates\n",
    "print(\"Duplicates rows, if any\",df_electors[df_electors.duplicated(subset=['State_Name','Assembly_No','Constituency_No'], keep=False)==True])\n",
    "\n",
    "df_electors=df_electors.groupby(['State_Name','Assembly_No','Year'])['Electors'].sum().reset_index()\n",
    "\n",
    "#Merging dataframes\n",
    "merged_turnout=df_electors.merge(df_valid_votes, how='left', on=['State_Name','Assembly_No','Year'])\n",
    "merged_turnout['Percentage']=np.nan\n",
    "merged_turnout['Percentage']=merged_turnout['Valid_Votes']*100/merged_turnout['Electors']\n",
    "\n",
    "print('Merged Turnout calculated\\n', merged_turnout)"
   ]
  },
  {
   "cell_type": "code",
   "execution_count": 60,
   "id": "e29b198f",
   "metadata": {},
   "outputs": [],
   "source": [
    "#Voter Turnout \n",
    "df_turnout=pd.read_csv('../ae_voter_turnouts.csv')\n",
    "gender_voter=df_assembly.merge(df_turnout, how='left', on=['State_Name','Assembly_No'])\n",
    "gender_voter=gender_voter.merge(merged_turnout[['State_Name','Assembly_No','Year','Percentage']], how='left',on=['State_Name','Assembly_No'])"
   ]
  },
  {
   "cell_type": "code",
   "execution_count": 61,
   "id": "aaf44cf1",
   "metadata": {},
   "outputs": [],
   "source": [
    "gender_voter.drop(['Year_x'], axis=1, inplace=True)\n",
    "\n",
    "gender_voter.rename({'Year_y':'Year'}, axis=1, inplace=True)\n",
    "\n",
    "gender_voter['total']=gender_voter['total'].mask(gender_voter['total'].isna(), gender_voter['Percentage'])\n",
    "\n",
    "gender_voter.to_csv('voter.csv')"
   ]
  },
  {
   "cell_type": "code",
   "execution_count": 62,
   "id": "a119c692",
   "metadata": {},
   "outputs": [
    {
     "name": "stdout",
     "output_type": "stream",
     "text": [
      "      State_Name  Assembly_No  Contested_Count  Represented_Count\n",
      "0            Goa            7               19                  6\n",
      "1        Manipur           12               19                  7\n",
      "2         Punjab           15               53                  5\n",
      "3  Uttar Pradesh           17              304                  9\n",
      "4    Uttarakhand            4               36                  3\n"
     ]
    }
   ],
   "source": [
    "#Party Performance \n",
    "\n",
    "df_party_con=df[(df['State_Name'].isin(states))].groupby(['State_Name','Assembly_No'])['Party'].unique().reset_index()\n",
    "\n",
    "df_party_con['Contested_Count']=np.nan\n",
    "df_party_con['Contested_Count']=df_party_con['Party'].str.len()\n",
    "\n",
    "df_party_rep=df[(df['State_Name'].isin(states)) & (df['Position']==1)].groupby(['State_Name','Assembly_No'])['Party'].unique().reset_index()\n",
    "\n",
    "df_party_rep['Represented_Count']=np.nan\n",
    "df_party_rep['Represented_Count']=df_party_rep['Party'].str.len()\n",
    "\n",
    "df_party=df_assembly.merge(df_party_con[['State_Name','Assembly_No','Contested_Count']], how='left', on=['State_Name','Assembly_No'])\n",
    "\n",
    "df_party=df_party.merge(df_party_rep[['State_Name','Assembly_No','Represented_Count']], how='left', on=['State_Name','Assembly_No'])\n",
    "\n",
    "print(df_party)\n",
    "\n",
    "df_party.to_csv('party.csv')"
   ]
  },
  {
   "cell_type": "code",
   "execution_count": 10,
   "id": "4bc7f71a",
   "metadata": {},
   "outputs": [
    {
     "data": {
      "text/html": [
       "<div>\n",
       "<style scoped>\n",
       "    .dataframe tbody tr th:only-of-type {\n",
       "        vertical-align: middle;\n",
       "    }\n",
       "\n",
       "    .dataframe tbody tr th {\n",
       "        vertical-align: top;\n",
       "    }\n",
       "\n",
       "    .dataframe thead th {\n",
       "        text-align: right;\n",
       "    }\n",
       "</style>\n",
       "<table border=\"1\" class=\"dataframe\">\n",
       "  <thead>\n",
       "    <tr style=\"text-align: right;\">\n",
       "      <th></th>\n",
       "      <th>State_Name</th>\n",
       "      <th>Assembly_No</th>\n",
       "      <th>Constituency_No</th>\n",
       "      <th>count</th>\n",
       "    </tr>\n",
       "  </thead>\n",
       "  <tbody>\n",
       "    <tr>\n",
       "      <th>0</th>\n",
       "      <td>Goa</td>\n",
       "      <td>7</td>\n",
       "      <td>[12, 27]</td>\n",
       "      <td>2</td>\n",
       "    </tr>\n",
       "    <tr>\n",
       "      <th>1</th>\n",
       "      <td>Manipur</td>\n",
       "      <td>12</td>\n",
       "      <td>[19, 50]</td>\n",
       "      <td>2</td>\n",
       "    </tr>\n",
       "    <tr>\n",
       "      <th>2</th>\n",
       "      <td>Punjab</td>\n",
       "      <td>15</td>\n",
       "      <td>[5, 70, 77, 93, 94, 105]</td>\n",
       "      <td>6</td>\n",
       "    </tr>\n",
       "    <tr>\n",
       "      <th>3</th>\n",
       "      <td>Uttar Pradesh</td>\n",
       "      <td>17</td>\n",
       "      <td>[22, 23, 31, 32, 38, 57, 64, 68, 90, 94, 140, ...</td>\n",
       "      <td>42</td>\n",
       "    </tr>\n",
       "    <tr>\n",
       "      <th>4</th>\n",
       "      <td>Uttarakhand</td>\n",
       "      <td>4</td>\n",
       "      <td>[28, 36, 45, 51, 59]</td>\n",
       "      <td>5</td>\n",
       "    </tr>\n",
       "  </tbody>\n",
       "</table>\n",
       "</div>"
      ],
      "text/plain": [
       "      State_Name  Assembly_No  \\\n",
       "0            Goa            7   \n",
       "1        Manipur           12   \n",
       "2         Punjab           15   \n",
       "3  Uttar Pradesh           17   \n",
       "4    Uttarakhand            4   \n",
       "\n",
       "                                     Constituency_No  count  \n",
       "0                                           [12, 27]      2  \n",
       "1                                           [19, 50]      2  \n",
       "2                           [5, 70, 77, 93, 94, 105]      6  \n",
       "3  [22, 23, 31, 32, 38, 57, 64, 68, 90, 94, 140, ...     42  \n",
       "4                               [28, 36, 45, 51, 59]      5  "
      ]
     },
     "execution_count": 10,
     "metadata": {},
     "output_type": "execute_result"
    }
   ],
   "source": [
    "#Women Winner\n",
    "\n",
    "df_women_winner=df[(df['Poll_No']==0) & (df['State_Name'].isin(states)) & (df['Position']==1) & (df['Sex']=='F')].groupby(['State_Name','Assembly_No'])['Constituency_No'].unique().reset_index()\n",
    "\n",
    "df_women_winner=df_assembly.merge(df_women_winner, how='left', on=['State_Name','Assembly_No'])\n",
    "\n",
    "df_women_winner['count']=np.nan\n",
    "\n",
    "df_women_winner['count']=df_women_winner['Constituency_No'].str.len()\n",
    "\n",
    "df_women_winner"
   ]
  },
  {
   "cell_type": "code",
   "execution_count": 11,
   "id": "a8bea33f",
   "metadata": {},
   "outputs": [
    {
     "data": {
      "text/html": [
       "<div>\n",
       "<style scoped>\n",
       "    .dataframe tbody tr th:only-of-type {\n",
       "        vertical-align: middle;\n",
       "    }\n",
       "\n",
       "    .dataframe tbody tr th {\n",
       "        vertical-align: top;\n",
       "    }\n",
       "\n",
       "    .dataframe thead th {\n",
       "        text-align: right;\n",
       "    }\n",
       "</style>\n",
       "<table border=\"1\" class=\"dataframe\">\n",
       "  <thead>\n",
       "    <tr style=\"text-align: right;\">\n",
       "      <th></th>\n",
       "      <th>State_Name</th>\n",
       "      <th>Assembly_No</th>\n",
       "      <th>Women</th>\n",
       "    </tr>\n",
       "  </thead>\n",
       "  <tbody>\n",
       "    <tr>\n",
       "      <th>0</th>\n",
       "      <td>Goa</td>\n",
       "      <td>7</td>\n",
       "      <td>19</td>\n",
       "    </tr>\n",
       "    <tr>\n",
       "      <th>1</th>\n",
       "      <td>Manipur</td>\n",
       "      <td>12</td>\n",
       "      <td>11</td>\n",
       "    </tr>\n",
       "    <tr>\n",
       "      <th>2</th>\n",
       "      <td>Punjab</td>\n",
       "      <td>15</td>\n",
       "      <td>81</td>\n",
       "    </tr>\n",
       "    <tr>\n",
       "      <th>3</th>\n",
       "      <td>Uttar Pradesh</td>\n",
       "      <td>17</td>\n",
       "      <td>482</td>\n",
       "    </tr>\n",
       "    <tr>\n",
       "      <th>4</th>\n",
       "      <td>Uttarakhand</td>\n",
       "      <td>4</td>\n",
       "      <td>62</td>\n",
       "    </tr>\n",
       "  </tbody>\n",
       "</table>\n",
       "</div>"
      ],
      "text/plain": [
       "      State_Name  Assembly_No  Women\n",
       "0            Goa            7     19\n",
       "1        Manipur           12     11\n",
       "2         Punjab           15     81\n",
       "3  Uttar Pradesh           17    482\n",
       "4    Uttarakhand            4     62"
      ]
     },
     "execution_count": 11,
     "metadata": {},
     "output_type": "execute_result"
    }
   ],
   "source": [
    "#Women Contestant\n",
    "\n",
    "df_women_contestant=df[(df['Poll_No']==0) & (df['State_Name'].isin(states)) & (df['Sex']=='F')].groupby(['State_Name','Assembly_No'])['Candidate'].count().reset_index()\n",
    "\n",
    "df_women_contestant=df_assembly.merge(df_women_contestant, how='left', on=['State_Name','Assembly_No'])\n",
    "\n",
    "df_women_contestant.rename({'Candidate':'Women'}, axis=1, inplace=True)\n",
    "\n",
    "df_women_contestant"
   ]
  },
  {
   "cell_type": "code",
   "execution_count": 17,
   "id": "5cac0221",
   "metadata": {},
   "outputs": [
    {
     "data": {
      "text/html": [
       "<div>\n",
       "<style scoped>\n",
       "    .dataframe tbody tr th:only-of-type {\n",
       "        vertical-align: middle;\n",
       "    }\n",
       "\n",
       "    .dataframe tbody tr th {\n",
       "        vertical-align: top;\n",
       "    }\n",
       "\n",
       "    .dataframe thead th {\n",
       "        text-align: right;\n",
       "    }\n",
       "</style>\n",
       "<table border=\"1\" class=\"dataframe\">\n",
       "  <thead>\n",
       "    <tr style=\"text-align: right;\">\n",
       "      <th></th>\n",
       "      <th>State_Name</th>\n",
       "      <th>Assembly_No</th>\n",
       "      <th>Constituency_No</th>\n",
       "      <th>count</th>\n",
       "    </tr>\n",
       "  </thead>\n",
       "  <tbody>\n",
       "    <tr>\n",
       "      <th>0</th>\n",
       "      <td>Goa</td>\n",
       "      <td>7</td>\n",
       "      <td>[1, 2, 3, 4, 5, 6, 7, 8, 9, 10, 11, 13, 14, 15...</td>\n",
       "      <td>38</td>\n",
       "    </tr>\n",
       "    <tr>\n",
       "      <th>1</th>\n",
       "      <td>Manipur</td>\n",
       "      <td>12</td>\n",
       "      <td>[1, 2, 3, 4, 5, 6, 7, 8, 9, 10, 11, 12, 13, 14...</td>\n",
       "      <td>58</td>\n",
       "    </tr>\n",
       "    <tr>\n",
       "      <th>2</th>\n",
       "      <td>Punjab</td>\n",
       "      <td>15</td>\n",
       "      <td>[1, 2, 3, 4, 6, 7, 8, 9, 10, 11, 12, 13, 14, 1...</td>\n",
       "      <td>111</td>\n",
       "    </tr>\n",
       "    <tr>\n",
       "      <th>3</th>\n",
       "      <td>Uttar Pradesh</td>\n",
       "      <td>17</td>\n",
       "      <td>[1, 2, 3, 4, 5, 6, 7, 8, 9, 10, 11, 12, 13, 14...</td>\n",
       "      <td>361</td>\n",
       "    </tr>\n",
       "    <tr>\n",
       "      <th>4</th>\n",
       "      <td>Uttarakhand</td>\n",
       "      <td>4</td>\n",
       "      <td>[1, 2, 3, 4, 5, 6, 7, 8, 9, 10, 11, 12, 13, 14...</td>\n",
       "      <td>65</td>\n",
       "    </tr>\n",
       "  </tbody>\n",
       "</table>\n",
       "</div>"
      ],
      "text/plain": [
       "      State_Name  Assembly_No  \\\n",
       "0            Goa            7   \n",
       "1        Manipur           12   \n",
       "2         Punjab           15   \n",
       "3  Uttar Pradesh           17   \n",
       "4    Uttarakhand            4   \n",
       "\n",
       "                                     Constituency_No  count  \n",
       "0  [1, 2, 3, 4, 5, 6, 7, 8, 9, 10, 11, 13, 14, 15...     38  \n",
       "1  [1, 2, 3, 4, 5, 6, 7, 8, 9, 10, 11, 12, 13, 14...     58  \n",
       "2  [1, 2, 3, 4, 6, 7, 8, 9, 10, 11, 12, 13, 14, 1...    111  \n",
       "3  [1, 2, 3, 4, 5, 6, 7, 8, 9, 10, 11, 12, 13, 14...    361  \n",
       "4  [1, 2, 3, 4, 5, 6, 7, 8, 9, 10, 11, 12, 13, 14...     65  "
      ]
     },
     "execution_count": 17,
     "metadata": {},
     "output_type": "execute_result"
    }
   ],
   "source": [
    "#Women Winner\n",
    "\n",
    "df_men_winner=df[(df['Poll_No']==0) & (df['State_Name'].isin(states)) & (df['Position']==1) & (df['Sex']=='M')].groupby(['State_Name','Assembly_No'])['Constituency_No'].unique().reset_index()\n",
    "\n",
    "df_men_winner=df_assembly.merge(df_men_winner, how='left', on=['State_Name','Assembly_No'])\n",
    "\n",
    "df_men_winner['count']=np.nan\n",
    "\n",
    "df_men_winner['count']=df_men_winner['Constituency_No'].str.len()\n",
    "\n",
    "df_men_winner"
   ]
  },
  {
   "cell_type": "code",
   "execution_count": 15,
   "id": "c0938f14",
   "metadata": {},
   "outputs": [
    {
     "data": {
      "text/html": [
       "<div>\n",
       "<style scoped>\n",
       "    .dataframe tbody tr th:only-of-type {\n",
       "        vertical-align: middle;\n",
       "    }\n",
       "\n",
       "    .dataframe tbody tr th {\n",
       "        vertical-align: top;\n",
       "    }\n",
       "\n",
       "    .dataframe thead th {\n",
       "        text-align: right;\n",
       "    }\n",
       "</style>\n",
       "<table border=\"1\" class=\"dataframe\">\n",
       "  <thead>\n",
       "    <tr style=\"text-align: right;\">\n",
       "      <th></th>\n",
       "      <th>State_Name</th>\n",
       "      <th>Assembly_No</th>\n",
       "      <th>Men</th>\n",
       "    </tr>\n",
       "  </thead>\n",
       "  <tbody>\n",
       "    <tr>\n",
       "      <th>0</th>\n",
       "      <td>Goa</td>\n",
       "      <td>7</td>\n",
       "      <td>232</td>\n",
       "    </tr>\n",
       "    <tr>\n",
       "      <th>1</th>\n",
       "      <td>Manipur</td>\n",
       "      <td>12</td>\n",
       "      <td>255</td>\n",
       "    </tr>\n",
       "    <tr>\n",
       "      <th>2</th>\n",
       "      <td>Punjab</td>\n",
       "      <td>15</td>\n",
       "      <td>1063</td>\n",
       "    </tr>\n",
       "    <tr>\n",
       "      <th>3</th>\n",
       "      <td>Uttar Pradesh</td>\n",
       "      <td>17</td>\n",
       "      <td>4370</td>\n",
       "    </tr>\n",
       "    <tr>\n",
       "      <th>4</th>\n",
       "      <td>Uttarakhand</td>\n",
       "      <td>4</td>\n",
       "      <td>573</td>\n",
       "    </tr>\n",
       "  </tbody>\n",
       "</table>\n",
       "</div>"
      ],
      "text/plain": [
       "      State_Name  Assembly_No   Men\n",
       "0            Goa            7   232\n",
       "1        Manipur           12   255\n",
       "2         Punjab           15  1063\n",
       "3  Uttar Pradesh           17  4370\n",
       "4    Uttarakhand            4   573"
      ]
     },
     "execution_count": 15,
     "metadata": {},
     "output_type": "execute_result"
    }
   ],
   "source": [
    "#Men Contestant\n",
    "\n",
    "df_men_contestant=df[(df['Poll_No']==0) & (df['State_Name'].isin(states)) & (df['Sex']=='M')].groupby(['State_Name','Assembly_No'])['Candidate'].count().reset_index()\n",
    "\n",
    "df_men_contestant=df_assembly.merge(df_men_contestant, how='left', on=['State_Name','Assembly_No'])\n",
    "\n",
    "df_men_contestant.rename({'Candidate':'Men'}, axis=1, inplace=True)\n",
    "\n",
    "df_men_contestant"
   ]
  },
  {
   "cell_type": "code",
   "execution_count": 13,
   "id": "4b075b84",
   "metadata": {},
   "outputs": [
    {
     "data": {
      "text/html": [
       "<div>\n",
       "<style scoped>\n",
       "    .dataframe tbody tr th:only-of-type {\n",
       "        vertical-align: middle;\n",
       "    }\n",
       "\n",
       "    .dataframe tbody tr th {\n",
       "        vertical-align: top;\n",
       "    }\n",
       "\n",
       "    .dataframe thead th {\n",
       "        text-align: right;\n",
       "    }\n",
       "</style>\n",
       "<table border=\"1\" class=\"dataframe\">\n",
       "  <thead>\n",
       "    <tr style=\"text-align: right;\">\n",
       "      <th></th>\n",
       "      <th>State_Name</th>\n",
       "      <th>Assembly_No</th>\n",
       "      <th>Constituency_Type</th>\n",
       "      <th>Constituency_No</th>\n",
       "      <th>count_i</th>\n",
       "      <th>total</th>\n",
       "    </tr>\n",
       "  </thead>\n",
       "  <tbody>\n",
       "    <tr>\n",
       "      <th>0</th>\n",
       "      <td>Goa</td>\n",
       "      <td>7</td>\n",
       "      <td>GEN</td>\n",
       "      <td>[1, 3, 4, 5, 6, 7, 8, 9, 10, 11, 12, 13, 14, 1...</td>\n",
       "      <td>39</td>\n",
       "      <td>40</td>\n",
       "    </tr>\n",
       "    <tr>\n",
       "      <th>1</th>\n",
       "      <td>Goa</td>\n",
       "      <td>7</td>\n",
       "      <td>SC</td>\n",
       "      <td>[2]</td>\n",
       "      <td>1</td>\n",
       "      <td>40</td>\n",
       "    </tr>\n",
       "    <tr>\n",
       "      <th>2</th>\n",
       "      <td>Manipur</td>\n",
       "      <td>12</td>\n",
       "      <td>GEN</td>\n",
       "      <td>[1, 2, 3, 4, 5, 6, 7, 8, 9, 10, 11, 12, 13, 14...</td>\n",
       "      <td>40</td>\n",
       "      <td>60</td>\n",
       "    </tr>\n",
       "    <tr>\n",
       "      <th>3</th>\n",
       "      <td>Manipur</td>\n",
       "      <td>12</td>\n",
       "      <td>SC</td>\n",
       "      <td>[16]</td>\n",
       "      <td>1</td>\n",
       "      <td>60</td>\n",
       "    </tr>\n",
       "    <tr>\n",
       "      <th>4</th>\n",
       "      <td>Manipur</td>\n",
       "      <td>12</td>\n",
       "      <td>ST</td>\n",
       "      <td>[41, 42, 43, 44, 45, 46, 47, 48, 49, 51, 52, 5...</td>\n",
       "      <td>19</td>\n",
       "      <td>60</td>\n",
       "    </tr>\n",
       "    <tr>\n",
       "      <th>5</th>\n",
       "      <td>Punjab</td>\n",
       "      <td>15</td>\n",
       "      <td>GEN</td>\n",
       "      <td>[1, 3, 4, 6, 7, 9, 10, 11, 12, 13, 15, 17, 18,...</td>\n",
       "      <td>83</td>\n",
       "      <td>117</td>\n",
       "    </tr>\n",
       "    <tr>\n",
       "      <th>6</th>\n",
       "      <td>Punjab</td>\n",
       "      <td>15</td>\n",
       "      <td>SC</td>\n",
       "      <td>[2, 5, 8, 14, 16, 20, 25, 29, 30, 33, 34, 38, ...</td>\n",
       "      <td>34</td>\n",
       "      <td>117</td>\n",
       "    </tr>\n",
       "    <tr>\n",
       "      <th>7</th>\n",
       "      <td>Uttar Pradesh</td>\n",
       "      <td>17</td>\n",
       "      <td>GEN</td>\n",
       "      <td>[1, 2, 3, 4, 5, 7, 8, 9, 10, 11, 12, 14, 15, 1...</td>\n",
       "      <td>318</td>\n",
       "      <td>403</td>\n",
       "    </tr>\n",
       "    <tr>\n",
       "      <th>8</th>\n",
       "      <td>Uttar Pradesh</td>\n",
       "      <td>17</td>\n",
       "      <td>SC</td>\n",
       "      <td>[6, 13, 18, 21, 31, 38, 39, 45, 59, 70, 71, 77...</td>\n",
       "      <td>85</td>\n",
       "      <td>403</td>\n",
       "    </tr>\n",
       "    <tr>\n",
       "      <th>9</th>\n",
       "      <td>Uttarakhand</td>\n",
       "      <td>4</td>\n",
       "      <td>GEN</td>\n",
       "      <td>[2, 3, 4, 6, 7, 8, 10, 11, 12, 13, 14, 16, 17,...</td>\n",
       "      <td>55</td>\n",
       "      <td>70</td>\n",
       "    </tr>\n",
       "    <tr>\n",
       "      <th>10</th>\n",
       "      <td>Uttarakhand</td>\n",
       "      <td>4</td>\n",
       "      <td>SC</td>\n",
       "      <td>[1, 5, 9, 20, 27, 28, 29, 37, 45, 47, 51, 58, 64]</td>\n",
       "      <td>13</td>\n",
       "      <td>70</td>\n",
       "    </tr>\n",
       "    <tr>\n",
       "      <th>11</th>\n",
       "      <td>Uttarakhand</td>\n",
       "      <td>4</td>\n",
       "      <td>ST</td>\n",
       "      <td>[15, 69]</td>\n",
       "      <td>2</td>\n",
       "      <td>70</td>\n",
       "    </tr>\n",
       "  </tbody>\n",
       "</table>\n",
       "</div>"
      ],
      "text/plain": [
       "       State_Name  Assembly_No Constituency_Type  \\\n",
       "0             Goa            7               GEN   \n",
       "1             Goa            7                SC   \n",
       "2         Manipur           12               GEN   \n",
       "3         Manipur           12                SC   \n",
       "4         Manipur           12                ST   \n",
       "5          Punjab           15               GEN   \n",
       "6          Punjab           15                SC   \n",
       "7   Uttar Pradesh           17               GEN   \n",
       "8   Uttar Pradesh           17                SC   \n",
       "9     Uttarakhand            4               GEN   \n",
       "10    Uttarakhand            4                SC   \n",
       "11    Uttarakhand            4                ST   \n",
       "\n",
       "                                      Constituency_No  count_i  total  \n",
       "0   [1, 3, 4, 5, 6, 7, 8, 9, 10, 11, 12, 13, 14, 1...       39     40  \n",
       "1                                                 [2]        1     40  \n",
       "2   [1, 2, 3, 4, 5, 6, 7, 8, 9, 10, 11, 12, 13, 14...       40     60  \n",
       "3                                                [16]        1     60  \n",
       "4   [41, 42, 43, 44, 45, 46, 47, 48, 49, 51, 52, 5...       19     60  \n",
       "5   [1, 3, 4, 6, 7, 9, 10, 11, 12, 13, 15, 17, 18,...       83    117  \n",
       "6   [2, 5, 8, 14, 16, 20, 25, 29, 30, 33, 34, 38, ...       34    117  \n",
       "7   [1, 2, 3, 4, 5, 7, 8, 9, 10, 11, 12, 14, 15, 1...      318    403  \n",
       "8   [6, 13, 18, 21, 31, 38, 39, 45, 59, 70, 71, 77...       85    403  \n",
       "9   [2, 3, 4, 6, 7, 8, 10, 11, 12, 13, 14, 16, 17,...       55     70  \n",
       "10  [1, 5, 9, 20, 27, 28, 29, 37, 45, 47, 51, 58, 64]       13     70  \n",
       "11                                           [15, 69]        2     70  "
      ]
     },
     "execution_count": 13,
     "metadata": {},
     "output_type": "execute_result"
    }
   ],
   "source": [
    "#Constituencies \n",
    "\n",
    "df_constituencies=df[(df['State_Name'].isin(states))].groupby(['State_Name','Assembly_No','Constituency_Type'])['Constituency_No'].unique().reset_index()\n",
    "\n",
    "\n",
    "df_constituencies['count']=np.nan\n",
    "\n",
    "df_constituencies['count']=df_constituencies['Constituency_No'].str.len()\n",
    "\n",
    "temp=df_constituencies.groupby(['State_Name','Assembly_No'])['count'].sum().reset_index()\n",
    "\n",
    "\n",
    "df_constituencies=df_constituencies.merge(temp, how='left', on=['State_Name','Assembly_No'])\n",
    "\n",
    "df_constituencies.rename({'count_x':'count_i','count_y':'total'}, axis=1, inplace=True)\n",
    "\n",
    "df_constituencies=df_assembly.merge(df_constituencies, on=['State_Name','Assembly_No'], how='left')\n",
    "df_constituencies.to_csv('constituencies.csv')\n",
    "\n",
    "#df_constituencies=df_constituencies.drop_duplicates(subset=['State_Name','Assembly_No','total'], keep=\"first\")\n",
    "\n",
    "df_constituencies"
   ]
  },
  {
   "cell_type": "code",
   "execution_count": 14,
   "id": "e375b025",
   "metadata": {},
   "outputs": [
    {
     "data": {
      "text/html": [
       "<div>\n",
       "<style scoped>\n",
       "    .dataframe tbody tr th:only-of-type {\n",
       "        vertical-align: middle;\n",
       "    }\n",
       "\n",
       "    .dataframe tbody tr th {\n",
       "        vertical-align: top;\n",
       "    }\n",
       "\n",
       "    .dataframe thead th {\n",
       "        text-align: right;\n",
       "    }\n",
       "</style>\n",
       "<table border=\"1\" class=\"dataframe\">\n",
       "  <thead>\n",
       "    <tr style=\"text-align: right;\">\n",
       "      <th></th>\n",
       "      <th>State_Name</th>\n",
       "      <th>Assembly_No</th>\n",
       "      <th>Total</th>\n",
       "      <th>Women</th>\n",
       "      <th>Winner</th>\n",
       "      <th>total</th>\n",
       "    </tr>\n",
       "  </thead>\n",
       "  <tbody>\n",
       "    <tr>\n",
       "      <th>0</th>\n",
       "      <td>Goa</td>\n",
       "      <td>7</td>\n",
       "      <td>251</td>\n",
       "      <td>19</td>\n",
       "      <td>2</td>\n",
       "      <td>40</td>\n",
       "    </tr>\n",
       "    <tr>\n",
       "      <th>1</th>\n",
       "      <td>Manipur</td>\n",
       "      <td>12</td>\n",
       "      <td>266</td>\n",
       "      <td>11</td>\n",
       "      <td>2</td>\n",
       "      <td>60</td>\n",
       "    </tr>\n",
       "    <tr>\n",
       "      <th>2</th>\n",
       "      <td>Punjab</td>\n",
       "      <td>15</td>\n",
       "      <td>1145</td>\n",
       "      <td>81</td>\n",
       "      <td>6</td>\n",
       "      <td>117</td>\n",
       "    </tr>\n",
       "    <tr>\n",
       "      <th>3</th>\n",
       "      <td>Uttar Pradesh</td>\n",
       "      <td>17</td>\n",
       "      <td>4853</td>\n",
       "      <td>482</td>\n",
       "      <td>42</td>\n",
       "      <td>403</td>\n",
       "    </tr>\n",
       "    <tr>\n",
       "      <th>4</th>\n",
       "      <td>Uttarakhand</td>\n",
       "      <td>4</td>\n",
       "      <td>637</td>\n",
       "      <td>62</td>\n",
       "      <td>5</td>\n",
       "      <td>70</td>\n",
       "    </tr>\n",
       "  </tbody>\n",
       "</table>\n",
       "</div>"
      ],
      "text/plain": [
       "      State_Name  Assembly_No  Total  Women  Winner  total\n",
       "0            Goa            7    251     19       2     40\n",
       "1        Manipur           12    266     11       2     60\n",
       "2         Punjab           15   1145     81       6    117\n",
       "3  Uttar Pradesh           17   4853    482      42    403\n",
       "4    Uttarakhand            4    637     62       5     70"
      ]
     },
     "execution_count": 14,
     "metadata": {},
     "output_type": "execute_result"
    }
   ],
   "source": [
    "df_contestant=df[(df['State_Name'].isin(states)) & (df['Party']!='NOTA') & (df['Poll_No']==0)].groupby(['State_Name','Assembly_No'])['Candidate'].count().reset_index()\n",
    "\n",
    "df_contestant=df_assembly.merge(df_contestant, how='left', on=['State_Name','Assembly_No'])\n",
    "\n",
    "df_contestant.rename({'Candidate':'Total'}, axis=1, inplace=True)\n",
    "\n",
    "df_contestant=df_contestant.merge(df_women_contestant, how='left', on=['State_Name','Assembly_No'])\n",
    "\n",
    "df_contestant=df_contestant.merge(df_women_winner, how='left', on=['State_Name','Assembly_No'])\n",
    "\n",
    "df_contestant.rename({'count':'Winner'}, axis=1, inplace=True)\n",
    "\n",
    "df_contestant=df_contestant.merge(df_constituencies.drop_duplicates(subset=['State_Name','Assembly_No','total'], keep=\"first\")[['State_Name','Assembly_No','total']], how='left', on=['State_Name','Assembly_No'])\n",
    "\n",
    "df_contestant.drop(['Constituency_No'], inplace=True, axis=1)\n",
    "\n",
    "df_contestant"
   ]
  },
  {
   "cell_type": "code",
   "execution_count": 18,
   "id": "724d7616",
   "metadata": {},
   "outputs": [
    {
     "data": {
      "text/html": [
       "<div>\n",
       "<style scoped>\n",
       "    .dataframe tbody tr th:only-of-type {\n",
       "        vertical-align: middle;\n",
       "    }\n",
       "\n",
       "    .dataframe tbody tr th {\n",
       "        vertical-align: top;\n",
       "    }\n",
       "\n",
       "    .dataframe thead th {\n",
       "        text-align: right;\n",
       "    }\n",
       "</style>\n",
       "<table border=\"1\" class=\"dataframe\">\n",
       "  <thead>\n",
       "    <tr style=\"text-align: right;\">\n",
       "      <th></th>\n",
       "      <th>State_Name</th>\n",
       "      <th>Assembly_No</th>\n",
       "      <th>Total</th>\n",
       "      <th>Men</th>\n",
       "      <th>Winner</th>\n",
       "      <th>total</th>\n",
       "    </tr>\n",
       "  </thead>\n",
       "  <tbody>\n",
       "    <tr>\n",
       "      <th>0</th>\n",
       "      <td>Goa</td>\n",
       "      <td>7</td>\n",
       "      <td>251</td>\n",
       "      <td>232</td>\n",
       "      <td>38</td>\n",
       "      <td>40</td>\n",
       "    </tr>\n",
       "    <tr>\n",
       "      <th>1</th>\n",
       "      <td>Manipur</td>\n",
       "      <td>12</td>\n",
       "      <td>266</td>\n",
       "      <td>255</td>\n",
       "      <td>58</td>\n",
       "      <td>60</td>\n",
       "    </tr>\n",
       "    <tr>\n",
       "      <th>2</th>\n",
       "      <td>Punjab</td>\n",
       "      <td>15</td>\n",
       "      <td>1145</td>\n",
       "      <td>1063</td>\n",
       "      <td>111</td>\n",
       "      <td>117</td>\n",
       "    </tr>\n",
       "    <tr>\n",
       "      <th>3</th>\n",
       "      <td>Uttar Pradesh</td>\n",
       "      <td>17</td>\n",
       "      <td>4853</td>\n",
       "      <td>4370</td>\n",
       "      <td>361</td>\n",
       "      <td>403</td>\n",
       "    </tr>\n",
       "    <tr>\n",
       "      <th>4</th>\n",
       "      <td>Uttarakhand</td>\n",
       "      <td>4</td>\n",
       "      <td>637</td>\n",
       "      <td>573</td>\n",
       "      <td>65</td>\n",
       "      <td>70</td>\n",
       "    </tr>\n",
       "  </tbody>\n",
       "</table>\n",
       "</div>"
      ],
      "text/plain": [
       "      State_Name  Assembly_No  Total   Men  Winner  total\n",
       "0            Goa            7    251   232      38     40\n",
       "1        Manipur           12    266   255      58     60\n",
       "2         Punjab           15   1145  1063     111    117\n",
       "3  Uttar Pradesh           17   4853  4370     361    403\n",
       "4    Uttarakhand            4    637   573      65     70"
      ]
     },
     "execution_count": 18,
     "metadata": {},
     "output_type": "execute_result"
    }
   ],
   "source": [
    "df_contestant_m=df[(df['State_Name'].isin(states)) & (df['Party']!='NOTA') & (df['Poll_No']==0)].groupby(['State_Name','Assembly_No'])['Candidate'].count().reset_index()\n",
    "\n",
    "df_contestant_m=df_assembly.merge(df_contestant_m, how='left', on=['State_Name','Assembly_No'])\n",
    "\n",
    "df_contestant_m.rename({'Candidate':'Total'}, axis=1, inplace=True)\n",
    "\n",
    "df_contestant_m=df_contestant_m.merge(df_men_contestant, how='left', on=['State_Name','Assembly_No'])\n",
    "\n",
    "df_contestant_m=df_contestant_m.merge(df_men_winner, how='left', on=['State_Name','Assembly_No'])\n",
    "\n",
    "df_contestant_m.rename({'count':'Winner'}, axis=1, inplace=True)\n",
    "\n",
    "df_contestant_m=df_contestant_m.merge(df_constituencies.drop_duplicates(subset=['State_Name','Assembly_No','total'], keep=\"first\")[['State_Name','Assembly_No','total']], how='left', on=['State_Name','Assembly_No'])\n",
    "\n",
    "df_contestant_m.drop(['Constituency_No'], inplace=True, axis=1)\n",
    "\n",
    "df_contestant_m"
   ]
  },
  {
   "cell_type": "code",
   "execution_count": 20,
   "id": "4cbb18b6",
   "metadata": {},
   "outputs": [
    {
     "data": {
      "text/html": [
       "<div>\n",
       "<style scoped>\n",
       "    .dataframe tbody tr th:only-of-type {\n",
       "        vertical-align: middle;\n",
       "    }\n",
       "\n",
       "    .dataframe tbody tr th {\n",
       "        vertical-align: top;\n",
       "    }\n",
       "\n",
       "    .dataframe thead th {\n",
       "        text-align: right;\n",
       "    }\n",
       "</style>\n",
       "<table border=\"1\" class=\"dataframe\">\n",
       "  <thead>\n",
       "    <tr style=\"text-align: right;\">\n",
       "      <th></th>\n",
       "      <th>State_Name</th>\n",
       "      <th>Assembly_No</th>\n",
       "      <th>Total</th>\n",
       "      <th>Men</th>\n",
       "      <th>Winner_x</th>\n",
       "      <th>total</th>\n",
       "      <th>Women</th>\n",
       "      <th>Winner_y</th>\n",
       "    </tr>\n",
       "  </thead>\n",
       "  <tbody>\n",
       "    <tr>\n",
       "      <th>0</th>\n",
       "      <td>Goa</td>\n",
       "      <td>7</td>\n",
       "      <td>251</td>\n",
       "      <td>232</td>\n",
       "      <td>38</td>\n",
       "      <td>40</td>\n",
       "      <td>19</td>\n",
       "      <td>2</td>\n",
       "    </tr>\n",
       "    <tr>\n",
       "      <th>1</th>\n",
       "      <td>Manipur</td>\n",
       "      <td>12</td>\n",
       "      <td>266</td>\n",
       "      <td>255</td>\n",
       "      <td>58</td>\n",
       "      <td>60</td>\n",
       "      <td>11</td>\n",
       "      <td>2</td>\n",
       "    </tr>\n",
       "    <tr>\n",
       "      <th>2</th>\n",
       "      <td>Punjab</td>\n",
       "      <td>15</td>\n",
       "      <td>1145</td>\n",
       "      <td>1063</td>\n",
       "      <td>111</td>\n",
       "      <td>117</td>\n",
       "      <td>81</td>\n",
       "      <td>6</td>\n",
       "    </tr>\n",
       "    <tr>\n",
       "      <th>3</th>\n",
       "      <td>Uttar Pradesh</td>\n",
       "      <td>17</td>\n",
       "      <td>4853</td>\n",
       "      <td>4370</td>\n",
       "      <td>361</td>\n",
       "      <td>403</td>\n",
       "      <td>482</td>\n",
       "      <td>42</td>\n",
       "    </tr>\n",
       "    <tr>\n",
       "      <th>4</th>\n",
       "      <td>Uttarakhand</td>\n",
       "      <td>4</td>\n",
       "      <td>637</td>\n",
       "      <td>573</td>\n",
       "      <td>65</td>\n",
       "      <td>70</td>\n",
       "      <td>62</td>\n",
       "      <td>5</td>\n",
       "    </tr>\n",
       "  </tbody>\n",
       "</table>\n",
       "</div>"
      ],
      "text/plain": [
       "      State_Name  Assembly_No  Total   Men  Winner_x  total  Women  Winner_y\n",
       "0            Goa            7    251   232        38     40     19         2\n",
       "1        Manipur           12    266   255        58     60     11         2\n",
       "2         Punjab           15   1145  1063       111    117     81         6\n",
       "3  Uttar Pradesh           17   4853  4370       361    403    482        42\n",
       "4    Uttarakhand            4    637   573        65     70     62         5"
      ]
     },
     "execution_count": 20,
     "metadata": {},
     "output_type": "execute_result"
    }
   ],
   "source": [
    "df_contestant=df_contestant_m.merge(df_contestant[['State_Name','Assembly_No','Women','Winner']], how='left', on=['State_Name','Assembly_No'])"
   ]
  },
  {
   "cell_type": "code",
   "execution_count": 21,
   "id": "d7ccb5a6",
   "metadata": {},
   "outputs": [
    {
     "data": {
      "text/html": [
       "<div>\n",
       "<style scoped>\n",
       "    .dataframe tbody tr th:only-of-type {\n",
       "        vertical-align: middle;\n",
       "    }\n",
       "\n",
       "    .dataframe tbody tr th {\n",
       "        vertical-align: top;\n",
       "    }\n",
       "\n",
       "    .dataframe thead th {\n",
       "        text-align: right;\n",
       "    }\n",
       "</style>\n",
       "<table border=\"1\" class=\"dataframe\">\n",
       "  <thead>\n",
       "    <tr style=\"text-align: right;\">\n",
       "      <th></th>\n",
       "      <th>State_Name</th>\n",
       "      <th>Assembly_No</th>\n",
       "      <th>Total Contestants</th>\n",
       "      <th>Contestant_Men</th>\n",
       "      <th>Men Winner</th>\n",
       "      <th>Total Winners</th>\n",
       "      <th>Contestant_Women</th>\n",
       "      <th>Women Winner</th>\n",
       "    </tr>\n",
       "  </thead>\n",
       "  <tbody>\n",
       "    <tr>\n",
       "      <th>0</th>\n",
       "      <td>Goa</td>\n",
       "      <td>7</td>\n",
       "      <td>251</td>\n",
       "      <td>232</td>\n",
       "      <td>38</td>\n",
       "      <td>40</td>\n",
       "      <td>19</td>\n",
       "      <td>2</td>\n",
       "    </tr>\n",
       "    <tr>\n",
       "      <th>1</th>\n",
       "      <td>Manipur</td>\n",
       "      <td>12</td>\n",
       "      <td>266</td>\n",
       "      <td>255</td>\n",
       "      <td>58</td>\n",
       "      <td>60</td>\n",
       "      <td>11</td>\n",
       "      <td>2</td>\n",
       "    </tr>\n",
       "    <tr>\n",
       "      <th>2</th>\n",
       "      <td>Punjab</td>\n",
       "      <td>15</td>\n",
       "      <td>1145</td>\n",
       "      <td>1063</td>\n",
       "      <td>111</td>\n",
       "      <td>117</td>\n",
       "      <td>81</td>\n",
       "      <td>6</td>\n",
       "    </tr>\n",
       "    <tr>\n",
       "      <th>3</th>\n",
       "      <td>Uttar Pradesh</td>\n",
       "      <td>17</td>\n",
       "      <td>4853</td>\n",
       "      <td>4370</td>\n",
       "      <td>361</td>\n",
       "      <td>403</td>\n",
       "      <td>482</td>\n",
       "      <td>42</td>\n",
       "    </tr>\n",
       "    <tr>\n",
       "      <th>4</th>\n",
       "      <td>Uttarakhand</td>\n",
       "      <td>4</td>\n",
       "      <td>637</td>\n",
       "      <td>573</td>\n",
       "      <td>65</td>\n",
       "      <td>70</td>\n",
       "      <td>62</td>\n",
       "      <td>5</td>\n",
       "    </tr>\n",
       "  </tbody>\n",
       "</table>\n",
       "</div>"
      ],
      "text/plain": [
       "      State_Name  Assembly_No  Total Contestants  Contestant_Men  Men Winner  \\\n",
       "0            Goa            7                251             232          38   \n",
       "1        Manipur           12                266             255          58   \n",
       "2         Punjab           15               1145            1063         111   \n",
       "3  Uttar Pradesh           17               4853            4370         361   \n",
       "4    Uttarakhand            4                637             573          65   \n",
       "\n",
       "   Total Winners  Contestant_Women  Women Winner  \n",
       "0             40                19             2  \n",
       "1             60                11             2  \n",
       "2            117                81             6  \n",
       "3            403               482            42  \n",
       "4             70                62             5  "
      ]
     },
     "execution_count": 21,
     "metadata": {},
     "output_type": "execute_result"
    }
   ],
   "source": [
    "\n",
    "df_contestant.rename({'Men':'Contestant_Men', 'Women':'Contestant_Women','Total':'Total Contestants','total':'Total Winners','Winner_x':'Men Winner','Winner_y':'Women Winner'}, axis=1, inplace=True)\n",
    "\n"
   ]
  },
  {
   "cell_type": "code",
   "execution_count": 23,
   "id": "b1d53195",
   "metadata": {},
   "outputs": [
    {
     "data": {
      "text/html": [
       "<div>\n",
       "<style scoped>\n",
       "    .dataframe tbody tr th:only-of-type {\n",
       "        vertical-align: middle;\n",
       "    }\n",
       "\n",
       "    .dataframe tbody tr th {\n",
       "        vertical-align: top;\n",
       "    }\n",
       "\n",
       "    .dataframe thead th {\n",
       "        text-align: right;\n",
       "    }\n",
       "</style>\n",
       "<table border=\"1\" class=\"dataframe\">\n",
       "  <thead>\n",
       "    <tr style=\"text-align: right;\">\n",
       "      <th></th>\n",
       "      <th>State_Name</th>\n",
       "      <th>Assembly_No</th>\n",
       "      <th>Total Contestants</th>\n",
       "      <th>Contestant_Men</th>\n",
       "      <th>Men Winner</th>\n",
       "      <th>Total Winners</th>\n",
       "      <th>Contestant_Women</th>\n",
       "      <th>Women Winner</th>\n",
       "      <th>Con_M_P</th>\n",
       "      <th>Con_W_P</th>\n",
       "      <th>Win_M_P</th>\n",
       "      <th>Win_W_P</th>\n",
       "    </tr>\n",
       "  </thead>\n",
       "  <tbody>\n",
       "    <tr>\n",
       "      <th>0</th>\n",
       "      <td>Goa</td>\n",
       "      <td>7</td>\n",
       "      <td>251</td>\n",
       "      <td>232</td>\n",
       "      <td>38</td>\n",
       "      <td>40</td>\n",
       "      <td>19</td>\n",
       "      <td>2</td>\n",
       "      <td>92.43</td>\n",
       "      <td>7.57</td>\n",
       "      <td>95.00</td>\n",
       "      <td>5.00</td>\n",
       "    </tr>\n",
       "    <tr>\n",
       "      <th>1</th>\n",
       "      <td>Manipur</td>\n",
       "      <td>12</td>\n",
       "      <td>266</td>\n",
       "      <td>255</td>\n",
       "      <td>58</td>\n",
       "      <td>60</td>\n",
       "      <td>11</td>\n",
       "      <td>2</td>\n",
       "      <td>95.86</td>\n",
       "      <td>4.14</td>\n",
       "      <td>96.67</td>\n",
       "      <td>3.33</td>\n",
       "    </tr>\n",
       "    <tr>\n",
       "      <th>2</th>\n",
       "      <td>Punjab</td>\n",
       "      <td>15</td>\n",
       "      <td>1145</td>\n",
       "      <td>1063</td>\n",
       "      <td>111</td>\n",
       "      <td>117</td>\n",
       "      <td>81</td>\n",
       "      <td>6</td>\n",
       "      <td>92.84</td>\n",
       "      <td>7.07</td>\n",
       "      <td>94.87</td>\n",
       "      <td>5.13</td>\n",
       "    </tr>\n",
       "    <tr>\n",
       "      <th>3</th>\n",
       "      <td>Uttar Pradesh</td>\n",
       "      <td>17</td>\n",
       "      <td>4853</td>\n",
       "      <td>4370</td>\n",
       "      <td>361</td>\n",
       "      <td>403</td>\n",
       "      <td>482</td>\n",
       "      <td>42</td>\n",
       "      <td>90.05</td>\n",
       "      <td>9.93</td>\n",
       "      <td>89.58</td>\n",
       "      <td>10.42</td>\n",
       "    </tr>\n",
       "    <tr>\n",
       "      <th>4</th>\n",
       "      <td>Uttarakhand</td>\n",
       "      <td>4</td>\n",
       "      <td>637</td>\n",
       "      <td>573</td>\n",
       "      <td>65</td>\n",
       "      <td>70</td>\n",
       "      <td>62</td>\n",
       "      <td>5</td>\n",
       "      <td>89.95</td>\n",
       "      <td>9.73</td>\n",
       "      <td>92.86</td>\n",
       "      <td>7.14</td>\n",
       "    </tr>\n",
       "  </tbody>\n",
       "</table>\n",
       "</div>"
      ],
      "text/plain": [
       "      State_Name  Assembly_No  Total Contestants  Contestant_Men  Men Winner  \\\n",
       "0            Goa            7                251             232          38   \n",
       "1        Manipur           12                266             255          58   \n",
       "2         Punjab           15               1145            1063         111   \n",
       "3  Uttar Pradesh           17               4853            4370         361   \n",
       "4    Uttarakhand            4                637             573          65   \n",
       "\n",
       "   Total Winners  Contestant_Women  Women Winner  Con_M_P  Con_W_P  Win_M_P  \\\n",
       "0             40                19             2    92.43     7.57    95.00   \n",
       "1             60                11             2    95.86     4.14    96.67   \n",
       "2            117                81             6    92.84     7.07    94.87   \n",
       "3            403               482            42    90.05     9.93    89.58   \n",
       "4             70                62             5    89.95     9.73    92.86   \n",
       "\n",
       "   Win_W_P  \n",
       "0     5.00  \n",
       "1     3.33  \n",
       "2     5.13  \n",
       "3    10.42  \n",
       "4     7.14  "
      ]
     },
     "execution_count": 23,
     "metadata": {},
     "output_type": "execute_result"
    }
   ],
   "source": [
    "df_contestant['Con_M_P']=round(df_contestant['Contestant_Men']*100/df_contestant['Total Contestants'],2)\n",
    "df_contestant['Con_W_P']=round(df_contestant['Contestant_Women']*100/df_contestant['Total Contestants'],2)\n",
    "\n",
    "\n",
    "df_contestant['Win_M_P']=round(df_contestant['Men Winner']*100/df_contestant['Total Winners'],2)\n",
    "df_contestant['Win_W_P']=round(df_contestant['Women Winner']*100/df_contestant['Total Winners'],2)\n",
    "\n",
    "df_contestant"
   ]
  },
  {
   "cell_type": "code",
   "execution_count": 38,
   "id": "b932ac89",
   "metadata": {},
   "outputs": [
    {
     "data": {
      "application/vnd.plotly.v1+json": {
       "config": {
        "plotlyServerURL": "https://plot.ly"
       },
       "data": [
        {
         "customdata": [
          [
           92.43,
           232,
           251
          ],
          [
           95.86,
           255,
           266
          ],
          [
           92.84,
           1063,
           1145
          ],
          [
           90.05,
           4370,
           4853
          ],
          [
           89.95,
           573,
           637
          ]
         ],
         "hovertemplate": "Percentage: %{customdata[0]}<br>Number of men contestants: %{customdata[1]}<br>Total number of contestants: %{customdata[2]}",
         "marker": {
          "color": "lightblue"
         },
         "name": "Percentage men across all contestants",
         "type": "bar",
         "x": [
          "Goa",
          "Manipur",
          "Punjab",
          "Uttar Pradesh",
          "Uttarakhand"
         ],
         "y": [
          92.43,
          95.86,
          92.84,
          90.05,
          89.95
         ]
        },
        {
         "marker": {
          "color": "purple"
         },
         "name": "Percentage women across all contestants",
         "type": "bar",
         "x": [
          "Goa",
          "Manipur",
          "Punjab",
          "Uttar Pradesh",
          "Uttarakhand"
         ],
         "y": [
          7.57,
          4.14,
          7.07,
          9.93,
          9.73
         ]
        }
       ],
       "layout": {
        "barmode": "group",
        "legend": {
         "x": 0.99,
         "xanchor": "right",
         "y": 0.99,
         "yanchor": "bottom"
        },
        "plot_bgcolor": "White",
        "template": {
         "data": {
          "bar": [
           {
            "error_x": {
             "color": "#2a3f5f"
            },
            "error_y": {
             "color": "#2a3f5f"
            },
            "marker": {
             "line": {
              "color": "#E5ECF6",
              "width": 0.5
             },
             "pattern": {
              "fillmode": "overlay",
              "size": 10,
              "solidity": 0.2
             }
            },
            "type": "bar"
           }
          ],
          "barpolar": [
           {
            "marker": {
             "line": {
              "color": "#E5ECF6",
              "width": 0.5
             },
             "pattern": {
              "fillmode": "overlay",
              "size": 10,
              "solidity": 0.2
             }
            },
            "type": "barpolar"
           }
          ],
          "carpet": [
           {
            "aaxis": {
             "endlinecolor": "#2a3f5f",
             "gridcolor": "white",
             "linecolor": "white",
             "minorgridcolor": "white",
             "startlinecolor": "#2a3f5f"
            },
            "baxis": {
             "endlinecolor": "#2a3f5f",
             "gridcolor": "white",
             "linecolor": "white",
             "minorgridcolor": "white",
             "startlinecolor": "#2a3f5f"
            },
            "type": "carpet"
           }
          ],
          "choropleth": [
           {
            "colorbar": {
             "outlinewidth": 0,
             "ticks": ""
            },
            "type": "choropleth"
           }
          ],
          "contour": [
           {
            "colorbar": {
             "outlinewidth": 0,
             "ticks": ""
            },
            "colorscale": [
             [
              0,
              "#0d0887"
             ],
             [
              0.1111111111111111,
              "#46039f"
             ],
             [
              0.2222222222222222,
              "#7201a8"
             ],
             [
              0.3333333333333333,
              "#9c179e"
             ],
             [
              0.4444444444444444,
              "#bd3786"
             ],
             [
              0.5555555555555556,
              "#d8576b"
             ],
             [
              0.6666666666666666,
              "#ed7953"
             ],
             [
              0.7777777777777778,
              "#fb9f3a"
             ],
             [
              0.8888888888888888,
              "#fdca26"
             ],
             [
              1,
              "#f0f921"
             ]
            ],
            "type": "contour"
           }
          ],
          "contourcarpet": [
           {
            "colorbar": {
             "outlinewidth": 0,
             "ticks": ""
            },
            "type": "contourcarpet"
           }
          ],
          "heatmap": [
           {
            "colorbar": {
             "outlinewidth": 0,
             "ticks": ""
            },
            "colorscale": [
             [
              0,
              "#0d0887"
             ],
             [
              0.1111111111111111,
              "#46039f"
             ],
             [
              0.2222222222222222,
              "#7201a8"
             ],
             [
              0.3333333333333333,
              "#9c179e"
             ],
             [
              0.4444444444444444,
              "#bd3786"
             ],
             [
              0.5555555555555556,
              "#d8576b"
             ],
             [
              0.6666666666666666,
              "#ed7953"
             ],
             [
              0.7777777777777778,
              "#fb9f3a"
             ],
             [
              0.8888888888888888,
              "#fdca26"
             ],
             [
              1,
              "#f0f921"
             ]
            ],
            "type": "heatmap"
           }
          ],
          "heatmapgl": [
           {
            "colorbar": {
             "outlinewidth": 0,
             "ticks": ""
            },
            "colorscale": [
             [
              0,
              "#0d0887"
             ],
             [
              0.1111111111111111,
              "#46039f"
             ],
             [
              0.2222222222222222,
              "#7201a8"
             ],
             [
              0.3333333333333333,
              "#9c179e"
             ],
             [
              0.4444444444444444,
              "#bd3786"
             ],
             [
              0.5555555555555556,
              "#d8576b"
             ],
             [
              0.6666666666666666,
              "#ed7953"
             ],
             [
              0.7777777777777778,
              "#fb9f3a"
             ],
             [
              0.8888888888888888,
              "#fdca26"
             ],
             [
              1,
              "#f0f921"
             ]
            ],
            "type": "heatmapgl"
           }
          ],
          "histogram": [
           {
            "marker": {
             "pattern": {
              "fillmode": "overlay",
              "size": 10,
              "solidity": 0.2
             }
            },
            "type": "histogram"
           }
          ],
          "histogram2d": [
           {
            "colorbar": {
             "outlinewidth": 0,
             "ticks": ""
            },
            "colorscale": [
             [
              0,
              "#0d0887"
             ],
             [
              0.1111111111111111,
              "#46039f"
             ],
             [
              0.2222222222222222,
              "#7201a8"
             ],
             [
              0.3333333333333333,
              "#9c179e"
             ],
             [
              0.4444444444444444,
              "#bd3786"
             ],
             [
              0.5555555555555556,
              "#d8576b"
             ],
             [
              0.6666666666666666,
              "#ed7953"
             ],
             [
              0.7777777777777778,
              "#fb9f3a"
             ],
             [
              0.8888888888888888,
              "#fdca26"
             ],
             [
              1,
              "#f0f921"
             ]
            ],
            "type": "histogram2d"
           }
          ],
          "histogram2dcontour": [
           {
            "colorbar": {
             "outlinewidth": 0,
             "ticks": ""
            },
            "colorscale": [
             [
              0,
              "#0d0887"
             ],
             [
              0.1111111111111111,
              "#46039f"
             ],
             [
              0.2222222222222222,
              "#7201a8"
             ],
             [
              0.3333333333333333,
              "#9c179e"
             ],
             [
              0.4444444444444444,
              "#bd3786"
             ],
             [
              0.5555555555555556,
              "#d8576b"
             ],
             [
              0.6666666666666666,
              "#ed7953"
             ],
             [
              0.7777777777777778,
              "#fb9f3a"
             ],
             [
              0.8888888888888888,
              "#fdca26"
             ],
             [
              1,
              "#f0f921"
             ]
            ],
            "type": "histogram2dcontour"
           }
          ],
          "mesh3d": [
           {
            "colorbar": {
             "outlinewidth": 0,
             "ticks": ""
            },
            "type": "mesh3d"
           }
          ],
          "parcoords": [
           {
            "line": {
             "colorbar": {
              "outlinewidth": 0,
              "ticks": ""
             }
            },
            "type": "parcoords"
           }
          ],
          "pie": [
           {
            "automargin": true,
            "type": "pie"
           }
          ],
          "scatter": [
           {
            "marker": {
             "colorbar": {
              "outlinewidth": 0,
              "ticks": ""
             }
            },
            "type": "scatter"
           }
          ],
          "scatter3d": [
           {
            "line": {
             "colorbar": {
              "outlinewidth": 0,
              "ticks": ""
             }
            },
            "marker": {
             "colorbar": {
              "outlinewidth": 0,
              "ticks": ""
             }
            },
            "type": "scatter3d"
           }
          ],
          "scattercarpet": [
           {
            "marker": {
             "colorbar": {
              "outlinewidth": 0,
              "ticks": ""
             }
            },
            "type": "scattercarpet"
           }
          ],
          "scattergeo": [
           {
            "marker": {
             "colorbar": {
              "outlinewidth": 0,
              "ticks": ""
             }
            },
            "type": "scattergeo"
           }
          ],
          "scattergl": [
           {
            "marker": {
             "colorbar": {
              "outlinewidth": 0,
              "ticks": ""
             }
            },
            "type": "scattergl"
           }
          ],
          "scattermapbox": [
           {
            "marker": {
             "colorbar": {
              "outlinewidth": 0,
              "ticks": ""
             }
            },
            "type": "scattermapbox"
           }
          ],
          "scatterpolar": [
           {
            "marker": {
             "colorbar": {
              "outlinewidth": 0,
              "ticks": ""
             }
            },
            "type": "scatterpolar"
           }
          ],
          "scatterpolargl": [
           {
            "marker": {
             "colorbar": {
              "outlinewidth": 0,
              "ticks": ""
             }
            },
            "type": "scatterpolargl"
           }
          ],
          "scatterternary": [
           {
            "marker": {
             "colorbar": {
              "outlinewidth": 0,
              "ticks": ""
             }
            },
            "type": "scatterternary"
           }
          ],
          "surface": [
           {
            "colorbar": {
             "outlinewidth": 0,
             "ticks": ""
            },
            "colorscale": [
             [
              0,
              "#0d0887"
             ],
             [
              0.1111111111111111,
              "#46039f"
             ],
             [
              0.2222222222222222,
              "#7201a8"
             ],
             [
              0.3333333333333333,
              "#9c179e"
             ],
             [
              0.4444444444444444,
              "#bd3786"
             ],
             [
              0.5555555555555556,
              "#d8576b"
             ],
             [
              0.6666666666666666,
              "#ed7953"
             ],
             [
              0.7777777777777778,
              "#fb9f3a"
             ],
             [
              0.8888888888888888,
              "#fdca26"
             ],
             [
              1,
              "#f0f921"
             ]
            ],
            "type": "surface"
           }
          ],
          "table": [
           {
            "cells": {
             "fill": {
              "color": "#EBF0F8"
             },
             "line": {
              "color": "white"
             }
            },
            "header": {
             "fill": {
              "color": "#C8D4E3"
             },
             "line": {
              "color": "white"
             }
            },
            "type": "table"
           }
          ]
         },
         "layout": {
          "annotationdefaults": {
           "arrowcolor": "#2a3f5f",
           "arrowhead": 0,
           "arrowwidth": 1
          },
          "autotypenumbers": "strict",
          "coloraxis": {
           "colorbar": {
            "outlinewidth": 0,
            "ticks": ""
           }
          },
          "colorscale": {
           "diverging": [
            [
             0,
             "#8e0152"
            ],
            [
             0.1,
             "#c51b7d"
            ],
            [
             0.2,
             "#de77ae"
            ],
            [
             0.3,
             "#f1b6da"
            ],
            [
             0.4,
             "#fde0ef"
            ],
            [
             0.5,
             "#f7f7f7"
            ],
            [
             0.6,
             "#e6f5d0"
            ],
            [
             0.7,
             "#b8e186"
            ],
            [
             0.8,
             "#7fbc41"
            ],
            [
             0.9,
             "#4d9221"
            ],
            [
             1,
             "#276419"
            ]
           ],
           "sequential": [
            [
             0,
             "#0d0887"
            ],
            [
             0.1111111111111111,
             "#46039f"
            ],
            [
             0.2222222222222222,
             "#7201a8"
            ],
            [
             0.3333333333333333,
             "#9c179e"
            ],
            [
             0.4444444444444444,
             "#bd3786"
            ],
            [
             0.5555555555555556,
             "#d8576b"
            ],
            [
             0.6666666666666666,
             "#ed7953"
            ],
            [
             0.7777777777777778,
             "#fb9f3a"
            ],
            [
             0.8888888888888888,
             "#fdca26"
            ],
            [
             1,
             "#f0f921"
            ]
           ],
           "sequentialminus": [
            [
             0,
             "#0d0887"
            ],
            [
             0.1111111111111111,
             "#46039f"
            ],
            [
             0.2222222222222222,
             "#7201a8"
            ],
            [
             0.3333333333333333,
             "#9c179e"
            ],
            [
             0.4444444444444444,
             "#bd3786"
            ],
            [
             0.5555555555555556,
             "#d8576b"
            ],
            [
             0.6666666666666666,
             "#ed7953"
            ],
            [
             0.7777777777777778,
             "#fb9f3a"
            ],
            [
             0.8888888888888888,
             "#fdca26"
            ],
            [
             1,
             "#f0f921"
            ]
           ]
          },
          "colorway": [
           "#636efa",
           "#EF553B",
           "#00cc96",
           "#ab63fa",
           "#FFA15A",
           "#19d3f3",
           "#FF6692",
           "#B6E880",
           "#FF97FF",
           "#FECB52"
          ],
          "font": {
           "color": "#2a3f5f"
          },
          "geo": {
           "bgcolor": "white",
           "lakecolor": "white",
           "landcolor": "#E5ECF6",
           "showlakes": true,
           "showland": true,
           "subunitcolor": "white"
          },
          "hoverlabel": {
           "align": "left"
          },
          "hovermode": "closest",
          "mapbox": {
           "style": "light"
          },
          "paper_bgcolor": "white",
          "plot_bgcolor": "#E5ECF6",
          "polar": {
           "angularaxis": {
            "gridcolor": "white",
            "linecolor": "white",
            "ticks": ""
           },
           "bgcolor": "#E5ECF6",
           "radialaxis": {
            "gridcolor": "white",
            "linecolor": "white",
            "ticks": ""
           }
          },
          "scene": {
           "xaxis": {
            "backgroundcolor": "#E5ECF6",
            "gridcolor": "white",
            "gridwidth": 2,
            "linecolor": "white",
            "showbackground": true,
            "ticks": "",
            "zerolinecolor": "white"
           },
           "yaxis": {
            "backgroundcolor": "#E5ECF6",
            "gridcolor": "white",
            "gridwidth": 2,
            "linecolor": "white",
            "showbackground": true,
            "ticks": "",
            "zerolinecolor": "white"
           },
           "zaxis": {
            "backgroundcolor": "#E5ECF6",
            "gridcolor": "white",
            "gridwidth": 2,
            "linecolor": "white",
            "showbackground": true,
            "ticks": "",
            "zerolinecolor": "white"
           }
          },
          "shapedefaults": {
           "line": {
            "color": "#2a3f5f"
           }
          },
          "ternary": {
           "aaxis": {
            "gridcolor": "white",
            "linecolor": "white",
            "ticks": ""
           },
           "baxis": {
            "gridcolor": "white",
            "linecolor": "white",
            "ticks": ""
           },
           "bgcolor": "#E5ECF6",
           "caxis": {
            "gridcolor": "white",
            "linecolor": "white",
            "ticks": ""
           }
          },
          "title": {
           "x": 0.05
          },
          "xaxis": {
           "automargin": true,
           "gridcolor": "white",
           "linecolor": "white",
           "ticks": "",
           "title": {
            "standoff": 15
           },
           "zerolinecolor": "white",
           "zerolinewidth": 2
          },
          "yaxis": {
           "automargin": true,
           "gridcolor": "white",
           "linecolor": "white",
           "ticks": "",
           "title": {
            "standoff": 15
           },
           "zerolinecolor": "white",
           "zerolinewidth": 2
          }
         }
        },
        "xaxis": {
         "linecolor": "grey",
         "linewidth": 1,
         "showline": true
        },
        "yaxis": {
         "linecolor": "grey",
         "linewidth": 1,
         "showline": true
        }
       }
      },
      "text/html": [
       "<div>                            <div id=\"5f1de93e-e7f4-4808-b61e-e94f0b7431b7\" class=\"plotly-graph-div\" style=\"height:525px; width:100%;\"></div>            <script type=\"text/javascript\">                require([\"plotly\"], function(Plotly) {                    window.PLOTLYENV=window.PLOTLYENV || {};                                    if (document.getElementById(\"5f1de93e-e7f4-4808-b61e-e94f0b7431b7\")) {                    Plotly.newPlot(                        \"5f1de93e-e7f4-4808-b61e-e94f0b7431b7\",                        [{\"customdata\":[[92.43,232.0,251.0],[95.86,255.0,266.0],[92.84,1063.0,1145.0],[90.05,4370.0,4853.0],[89.95,573.0,637.0]],\"hovertemplate\":\"Percentage: %{customdata[0]}<br>Number of men contestants: %{customdata[1]}<br>Total number of contestants: %{customdata[2]}\",\"marker\":{\"color\":\"lightblue\"},\"name\":\"Percentage men across all contestants\",\"x\":[\"Goa\",\"Manipur\",\"Punjab\",\"Uttar Pradesh\",\"Uttarakhand\"],\"y\":[92.43,95.86,92.84,90.05,89.95],\"type\":\"bar\"},{\"marker\":{\"color\":\"purple\"},\"name\":\"Percentage women across all contestants\",\"x\":[\"Goa\",\"Manipur\",\"Punjab\",\"Uttar Pradesh\",\"Uttarakhand\"],\"y\":[7.57,4.14,7.07,9.93,9.73],\"type\":\"bar\"}],                        {\"template\":{\"data\":{\"bar\":[{\"error_x\":{\"color\":\"#2a3f5f\"},\"error_y\":{\"color\":\"#2a3f5f\"},\"marker\":{\"line\":{\"color\":\"#E5ECF6\",\"width\":0.5},\"pattern\":{\"fillmode\":\"overlay\",\"size\":10,\"solidity\":0.2}},\"type\":\"bar\"}],\"barpolar\":[{\"marker\":{\"line\":{\"color\":\"#E5ECF6\",\"width\":0.5},\"pattern\":{\"fillmode\":\"overlay\",\"size\":10,\"solidity\":0.2}},\"type\":\"barpolar\"}],\"carpet\":[{\"aaxis\":{\"endlinecolor\":\"#2a3f5f\",\"gridcolor\":\"white\",\"linecolor\":\"white\",\"minorgridcolor\":\"white\",\"startlinecolor\":\"#2a3f5f\"},\"baxis\":{\"endlinecolor\":\"#2a3f5f\",\"gridcolor\":\"white\",\"linecolor\":\"white\",\"minorgridcolor\":\"white\",\"startlinecolor\":\"#2a3f5f\"},\"type\":\"carpet\"}],\"choropleth\":[{\"colorbar\":{\"outlinewidth\":0,\"ticks\":\"\"},\"type\":\"choropleth\"}],\"contour\":[{\"colorbar\":{\"outlinewidth\":0,\"ticks\":\"\"},\"colorscale\":[[0.0,\"#0d0887\"],[0.1111111111111111,\"#46039f\"],[0.2222222222222222,\"#7201a8\"],[0.3333333333333333,\"#9c179e\"],[0.4444444444444444,\"#bd3786\"],[0.5555555555555556,\"#d8576b\"],[0.6666666666666666,\"#ed7953\"],[0.7777777777777778,\"#fb9f3a\"],[0.8888888888888888,\"#fdca26\"],[1.0,\"#f0f921\"]],\"type\":\"contour\"}],\"contourcarpet\":[{\"colorbar\":{\"outlinewidth\":0,\"ticks\":\"\"},\"type\":\"contourcarpet\"}],\"heatmap\":[{\"colorbar\":{\"outlinewidth\":0,\"ticks\":\"\"},\"colorscale\":[[0.0,\"#0d0887\"],[0.1111111111111111,\"#46039f\"],[0.2222222222222222,\"#7201a8\"],[0.3333333333333333,\"#9c179e\"],[0.4444444444444444,\"#bd3786\"],[0.5555555555555556,\"#d8576b\"],[0.6666666666666666,\"#ed7953\"],[0.7777777777777778,\"#fb9f3a\"],[0.8888888888888888,\"#fdca26\"],[1.0,\"#f0f921\"]],\"type\":\"heatmap\"}],\"heatmapgl\":[{\"colorbar\":{\"outlinewidth\":0,\"ticks\":\"\"},\"colorscale\":[[0.0,\"#0d0887\"],[0.1111111111111111,\"#46039f\"],[0.2222222222222222,\"#7201a8\"],[0.3333333333333333,\"#9c179e\"],[0.4444444444444444,\"#bd3786\"],[0.5555555555555556,\"#d8576b\"],[0.6666666666666666,\"#ed7953\"],[0.7777777777777778,\"#fb9f3a\"],[0.8888888888888888,\"#fdca26\"],[1.0,\"#f0f921\"]],\"type\":\"heatmapgl\"}],\"histogram\":[{\"marker\":{\"pattern\":{\"fillmode\":\"overlay\",\"size\":10,\"solidity\":0.2}},\"type\":\"histogram\"}],\"histogram2d\":[{\"colorbar\":{\"outlinewidth\":0,\"ticks\":\"\"},\"colorscale\":[[0.0,\"#0d0887\"],[0.1111111111111111,\"#46039f\"],[0.2222222222222222,\"#7201a8\"],[0.3333333333333333,\"#9c179e\"],[0.4444444444444444,\"#bd3786\"],[0.5555555555555556,\"#d8576b\"],[0.6666666666666666,\"#ed7953\"],[0.7777777777777778,\"#fb9f3a\"],[0.8888888888888888,\"#fdca26\"],[1.0,\"#f0f921\"]],\"type\":\"histogram2d\"}],\"histogram2dcontour\":[{\"colorbar\":{\"outlinewidth\":0,\"ticks\":\"\"},\"colorscale\":[[0.0,\"#0d0887\"],[0.1111111111111111,\"#46039f\"],[0.2222222222222222,\"#7201a8\"],[0.3333333333333333,\"#9c179e\"],[0.4444444444444444,\"#bd3786\"],[0.5555555555555556,\"#d8576b\"],[0.6666666666666666,\"#ed7953\"],[0.7777777777777778,\"#fb9f3a\"],[0.8888888888888888,\"#fdca26\"],[1.0,\"#f0f921\"]],\"type\":\"histogram2dcontour\"}],\"mesh3d\":[{\"colorbar\":{\"outlinewidth\":0,\"ticks\":\"\"},\"type\":\"mesh3d\"}],\"parcoords\":[{\"line\":{\"colorbar\":{\"outlinewidth\":0,\"ticks\":\"\"}},\"type\":\"parcoords\"}],\"pie\":[{\"automargin\":true,\"type\":\"pie\"}],\"scatter\":[{\"marker\":{\"colorbar\":{\"outlinewidth\":0,\"ticks\":\"\"}},\"type\":\"scatter\"}],\"scatter3d\":[{\"line\":{\"colorbar\":{\"outlinewidth\":0,\"ticks\":\"\"}},\"marker\":{\"colorbar\":{\"outlinewidth\":0,\"ticks\":\"\"}},\"type\":\"scatter3d\"}],\"scattercarpet\":[{\"marker\":{\"colorbar\":{\"outlinewidth\":0,\"ticks\":\"\"}},\"type\":\"scattercarpet\"}],\"scattergeo\":[{\"marker\":{\"colorbar\":{\"outlinewidth\":0,\"ticks\":\"\"}},\"type\":\"scattergeo\"}],\"scattergl\":[{\"marker\":{\"colorbar\":{\"outlinewidth\":0,\"ticks\":\"\"}},\"type\":\"scattergl\"}],\"scattermapbox\":[{\"marker\":{\"colorbar\":{\"outlinewidth\":0,\"ticks\":\"\"}},\"type\":\"scattermapbox\"}],\"scatterpolar\":[{\"marker\":{\"colorbar\":{\"outlinewidth\":0,\"ticks\":\"\"}},\"type\":\"scatterpolar\"}],\"scatterpolargl\":[{\"marker\":{\"colorbar\":{\"outlinewidth\":0,\"ticks\":\"\"}},\"type\":\"scatterpolargl\"}],\"scatterternary\":[{\"marker\":{\"colorbar\":{\"outlinewidth\":0,\"ticks\":\"\"}},\"type\":\"scatterternary\"}],\"surface\":[{\"colorbar\":{\"outlinewidth\":0,\"ticks\":\"\"},\"colorscale\":[[0.0,\"#0d0887\"],[0.1111111111111111,\"#46039f\"],[0.2222222222222222,\"#7201a8\"],[0.3333333333333333,\"#9c179e\"],[0.4444444444444444,\"#bd3786\"],[0.5555555555555556,\"#d8576b\"],[0.6666666666666666,\"#ed7953\"],[0.7777777777777778,\"#fb9f3a\"],[0.8888888888888888,\"#fdca26\"],[1.0,\"#f0f921\"]],\"type\":\"surface\"}],\"table\":[{\"cells\":{\"fill\":{\"color\":\"#EBF0F8\"},\"line\":{\"color\":\"white\"}},\"header\":{\"fill\":{\"color\":\"#C8D4E3\"},\"line\":{\"color\":\"white\"}},\"type\":\"table\"}]},\"layout\":{\"annotationdefaults\":{\"arrowcolor\":\"#2a3f5f\",\"arrowhead\":0,\"arrowwidth\":1},\"autotypenumbers\":\"strict\",\"coloraxis\":{\"colorbar\":{\"outlinewidth\":0,\"ticks\":\"\"}},\"colorscale\":{\"diverging\":[[0,\"#8e0152\"],[0.1,\"#c51b7d\"],[0.2,\"#de77ae\"],[0.3,\"#f1b6da\"],[0.4,\"#fde0ef\"],[0.5,\"#f7f7f7\"],[0.6,\"#e6f5d0\"],[0.7,\"#b8e186\"],[0.8,\"#7fbc41\"],[0.9,\"#4d9221\"],[1,\"#276419\"]],\"sequential\":[[0.0,\"#0d0887\"],[0.1111111111111111,\"#46039f\"],[0.2222222222222222,\"#7201a8\"],[0.3333333333333333,\"#9c179e\"],[0.4444444444444444,\"#bd3786\"],[0.5555555555555556,\"#d8576b\"],[0.6666666666666666,\"#ed7953\"],[0.7777777777777778,\"#fb9f3a\"],[0.8888888888888888,\"#fdca26\"],[1.0,\"#f0f921\"]],\"sequentialminus\":[[0.0,\"#0d0887\"],[0.1111111111111111,\"#46039f\"],[0.2222222222222222,\"#7201a8\"],[0.3333333333333333,\"#9c179e\"],[0.4444444444444444,\"#bd3786\"],[0.5555555555555556,\"#d8576b\"],[0.6666666666666666,\"#ed7953\"],[0.7777777777777778,\"#fb9f3a\"],[0.8888888888888888,\"#fdca26\"],[1.0,\"#f0f921\"]]},\"colorway\":[\"#636efa\",\"#EF553B\",\"#00cc96\",\"#ab63fa\",\"#FFA15A\",\"#19d3f3\",\"#FF6692\",\"#B6E880\",\"#FF97FF\",\"#FECB52\"],\"font\":{\"color\":\"#2a3f5f\"},\"geo\":{\"bgcolor\":\"white\",\"lakecolor\":\"white\",\"landcolor\":\"#E5ECF6\",\"showlakes\":true,\"showland\":true,\"subunitcolor\":\"white\"},\"hoverlabel\":{\"align\":\"left\"},\"hovermode\":\"closest\",\"mapbox\":{\"style\":\"light\"},\"paper_bgcolor\":\"white\",\"plot_bgcolor\":\"#E5ECF6\",\"polar\":{\"angularaxis\":{\"gridcolor\":\"white\",\"linecolor\":\"white\",\"ticks\":\"\"},\"bgcolor\":\"#E5ECF6\",\"radialaxis\":{\"gridcolor\":\"white\",\"linecolor\":\"white\",\"ticks\":\"\"}},\"scene\":{\"xaxis\":{\"backgroundcolor\":\"#E5ECF6\",\"gridcolor\":\"white\",\"gridwidth\":2,\"linecolor\":\"white\",\"showbackground\":true,\"ticks\":\"\",\"zerolinecolor\":\"white\"},\"yaxis\":{\"backgroundcolor\":\"#E5ECF6\",\"gridcolor\":\"white\",\"gridwidth\":2,\"linecolor\":\"white\",\"showbackground\":true,\"ticks\":\"\",\"zerolinecolor\":\"white\"},\"zaxis\":{\"backgroundcolor\":\"#E5ECF6\",\"gridcolor\":\"white\",\"gridwidth\":2,\"linecolor\":\"white\",\"showbackground\":true,\"ticks\":\"\",\"zerolinecolor\":\"white\"}},\"shapedefaults\":{\"line\":{\"color\":\"#2a3f5f\"}},\"ternary\":{\"aaxis\":{\"gridcolor\":\"white\",\"linecolor\":\"white\",\"ticks\":\"\"},\"baxis\":{\"gridcolor\":\"white\",\"linecolor\":\"white\",\"ticks\":\"\"},\"bgcolor\":\"#E5ECF6\",\"caxis\":{\"gridcolor\":\"white\",\"linecolor\":\"white\",\"ticks\":\"\"}},\"title\":{\"x\":0.05},\"xaxis\":{\"automargin\":true,\"gridcolor\":\"white\",\"linecolor\":\"white\",\"ticks\":\"\",\"title\":{\"standoff\":15},\"zerolinecolor\":\"white\",\"zerolinewidth\":2},\"yaxis\":{\"automargin\":true,\"gridcolor\":\"white\",\"linecolor\":\"white\",\"ticks\":\"\",\"title\":{\"standoff\":15},\"zerolinecolor\":\"white\",\"zerolinewidth\":2}}},\"legend\":{\"yanchor\":\"bottom\",\"y\":0.99,\"xanchor\":\"right\",\"x\":0.99},\"plot_bgcolor\":\"White\",\"barmode\":\"group\",\"xaxis\":{\"showline\":true,\"linewidth\":1,\"linecolor\":\"grey\"},\"yaxis\":{\"showline\":true,\"linewidth\":1,\"linecolor\":\"grey\"}},                        {\"responsive\": true}                    ).then(function(){\n",
       "                            \n",
       "var gd = document.getElementById('5f1de93e-e7f4-4808-b61e-e94f0b7431b7');\n",
       "var x = new MutationObserver(function (mutations, observer) {{\n",
       "        var display = window.getComputedStyle(gd).display;\n",
       "        if (!display || display === 'none') {{\n",
       "            console.log([gd, 'removed!']);\n",
       "            Plotly.purge(gd);\n",
       "            observer.disconnect();\n",
       "        }}\n",
       "}});\n",
       "\n",
       "// Listen for the removal of the full notebook cells\n",
       "var notebookContainer = gd.closest('#notebook-container');\n",
       "if (notebookContainer) {{\n",
       "    x.observe(notebookContainer, {childList: true});\n",
       "}}\n",
       "\n",
       "// Listen for the clearing of the current output cell\n",
       "var outputEl = gd.closest('.output');\n",
       "if (outputEl) {{\n",
       "    x.observe(outputEl, {childList: true});\n",
       "}}\n",
       "\n",
       "                        })                };                });            </script>        </div>"
      ]
     },
     "metadata": {},
     "output_type": "display_data"
    }
   ],
   "source": [
    "import plotly.graph_objects as go\n",
    "states=df_contestant['State_Name']\n",
    "\n",
    "fig = go.Figure(data=[\n",
    "    go.Bar(name='Percentage men across all contestants', x=states, y=df_contestant['Con_M_P'], \n",
    "           marker_color='lightblue', \n",
    "           \n",
    "           customdata=np.transpose([df_contestant['Con_M_P'],df_contestant['Contestant_Men'],df_contestant['Total Contestants']]),\n",
    "           \n",
    "            hovertemplate=\"<br>\".join([\n",
    "            \"Percentage: %{customdata[0]}\",\n",
    "            \"Number of men contestants: %{customdata[1]}\",\n",
    "            \"Total number of contestants: %{customdata[2]}\"])\n",
    "          ),\n",
    "    \n",
    "    go.Bar(name='Percentage women across all contestants', x=states, y=df_contestant['Con_W_P'], marker_color='purple')\n",
    "])\n",
    "\n",
    "\n",
    "fig.update_layout(hovermode=None, plot_bgcolor=\"White\", legend=dict(\n",
    "    yanchor=\"bottom\",\n",
    "    y=0.99,\n",
    "    xanchor=\"right\",\n",
    "    x=0.99\n",
    "), barmode='group')\n",
    "\n",
    "fig.update_xaxes(showline=True, linewidth=1, linecolor='grey')\n",
    "fig.update_yaxes(showline=True, linewidth=1, linecolor='grey')\n"
   ]
  },
  {
   "cell_type": "code",
   "execution_count": null,
   "id": "6ce36a71",
   "metadata": {},
   "outputs": [],
   "source": []
  },
  {
   "cell_type": "code",
   "execution_count": 67,
   "id": "e7a6cf89",
   "metadata": {},
   "outputs": [],
   "source": [
    "df_contestant.to_csv('contestant.csv')"
   ]
  },
  {
   "cell_type": "code",
   "execution_count": 68,
   "id": "f02965db",
   "metadata": {},
   "outputs": [
    {
     "name": "stdout",
     "output_type": "stream",
     "text": [
      "      State_Name  Assembly_No  \\\n",
      "0            Goa            7   \n",
      "1        Manipur           12   \n",
      "2         Punjab           15   \n",
      "3  Uttar Pradesh           17   \n",
      "4    Uttarakhand            4   \n",
      "\n",
      "                                     Constituency_No  count  \n",
      "0                     [6, 7, 10, 13, 27, 28, 34, 38]      8  \n",
      "1      [4, 6, 8, 10, 15, 19, 23, 33, 35, 40, 41, 43]     12  \n",
      "2  [2, 3, 4, 8, 14, 16, 18, 22, 24, 25, 26, 28, 3...     58  \n",
      "3  [1, 4, 5, 6, 7, 8, 9, 10, 12, 13, 15, 16, 17, ...    238  \n",
      "4  [5, 6, 7, 8, 9, 10, 18, 29, 33, 36, 37, 39, 41...     20  \n"
     ]
    }
   ],
   "source": [
    "#Newcomers\n",
    "\n",
    "df_new_comers=df[(df['State_Name'].isin(states)) & (df['Position']==1) & (df['Contested']==1)].groupby(['State_Name','Assembly_No'])['Constituency_No'].unique().reset_index()\n",
    "\n",
    "df_new_comers['count']=np.nan\n",
    "\n",
    "df_new_comers['count']=df_new_comers['Constituency_No'].str.len()\n",
    "\n",
    "df_new_comers=df_assembly.merge(df_new_comers, how='left', on=['State_Name','Assembly_No'])\n",
    "\n",
    "print(df_new_comers)\n",
    "\n",
    "df_new_comers.to_csv('newcomer.csv')\n"
   ]
  },
  {
   "cell_type": "code",
   "execution_count": 69,
   "id": "52d6c9d2",
   "metadata": {},
   "outputs": [
    {
     "data": {
      "text/html": [
       "<div>\n",
       "<style scoped>\n",
       "    .dataframe tbody tr th:only-of-type {\n",
       "        vertical-align: middle;\n",
       "    }\n",
       "\n",
       "    .dataframe tbody tr th {\n",
       "        vertical-align: top;\n",
       "    }\n",
       "\n",
       "    .dataframe thead th {\n",
       "        text-align: right;\n",
       "    }\n",
       "</style>\n",
       "<table border=\"1\" class=\"dataframe\">\n",
       "  <thead>\n",
       "    <tr style=\"text-align: right;\">\n",
       "      <th></th>\n",
       "      <th>State_Name</th>\n",
       "      <th>Assembly_No</th>\n",
       "      <th>Constituency_No</th>\n",
       "      <th>Year</th>\n",
       "      <th>month</th>\n",
       "      <th>DelimID</th>\n",
       "      <th>Poll_No</th>\n",
       "      <th>Position</th>\n",
       "      <th>Candidate</th>\n",
       "      <th>Sex</th>\n",
       "      <th>...</th>\n",
       "      <th>Contested</th>\n",
       "      <th>Last_Party</th>\n",
       "      <th>Last_Party_ID</th>\n",
       "      <th>Last_Constituency_Name</th>\n",
       "      <th>Same_Constituency</th>\n",
       "      <th>Same_Party</th>\n",
       "      <th>No_Terms</th>\n",
       "      <th>Turncoat</th>\n",
       "      <th>Incumbent</th>\n",
       "      <th>Recontest</th>\n",
       "    </tr>\n",
       "  </thead>\n",
       "  <tbody>\n",
       "    <tr>\n",
       "      <th>0</th>\n",
       "      <td>Andhra_Pradesh</td>\n",
       "      <td>3</td>\n",
       "      <td>1</td>\n",
       "      <td>1962.0</td>\n",
       "      <td>2</td>\n",
       "      <td>1</td>\n",
       "      <td>0</td>\n",
       "      <td>1</td>\n",
       "      <td>KIRTI CHANDRA DEO</td>\n",
       "      <td>M</td>\n",
       "      <td>...</td>\n",
       "      <td>1.0</td>\n",
       "      <td>NaN</td>\n",
       "      <td>NaN</td>\n",
       "      <td>NaN</td>\n",
       "      <td>NaN</td>\n",
       "      <td>NaN</td>\n",
       "      <td>1.0</td>\n",
       "      <td>False</td>\n",
       "      <td>False</td>\n",
       "      <td>False</td>\n",
       "    </tr>\n",
       "    <tr>\n",
       "      <th>1</th>\n",
       "      <td>Andhra_Pradesh</td>\n",
       "      <td>3</td>\n",
       "      <td>1</td>\n",
       "      <td>1962.0</td>\n",
       "      <td>2</td>\n",
       "      <td>1</td>\n",
       "      <td>0</td>\n",
       "      <td>2</td>\n",
       "      <td>DAKKATA PITAMBARU</td>\n",
       "      <td>M</td>\n",
       "      <td>...</td>\n",
       "      <td>1.0</td>\n",
       "      <td>NaN</td>\n",
       "      <td>NaN</td>\n",
       "      <td>NaN</td>\n",
       "      <td>NaN</td>\n",
       "      <td>NaN</td>\n",
       "      <td>0.0</td>\n",
       "      <td>False</td>\n",
       "      <td>False</td>\n",
       "      <td>False</td>\n",
       "    </tr>\n",
       "    <tr>\n",
       "      <th>2</th>\n",
       "      <td>Andhra_Pradesh</td>\n",
       "      <td>3</td>\n",
       "      <td>2</td>\n",
       "      <td>1962.0</td>\n",
       "      <td>2</td>\n",
       "      <td>1</td>\n",
       "      <td>0</td>\n",
       "      <td>1</td>\n",
       "      <td>GOUTHU LATCHANNA</td>\n",
       "      <td>M</td>\n",
       "      <td>...</td>\n",
       "      <td>1.0</td>\n",
       "      <td>NaN</td>\n",
       "      <td>NaN</td>\n",
       "      <td>NaN</td>\n",
       "      <td>NaN</td>\n",
       "      <td>NaN</td>\n",
       "      <td>1.0</td>\n",
       "      <td>False</td>\n",
       "      <td>False</td>\n",
       "      <td>False</td>\n",
       "    </tr>\n",
       "    <tr>\n",
       "      <th>3</th>\n",
       "      <td>Andhra_Pradesh</td>\n",
       "      <td>3</td>\n",
       "      <td>2</td>\n",
       "      <td>1962.0</td>\n",
       "      <td>2</td>\n",
       "      <td>1</td>\n",
       "      <td>0</td>\n",
       "      <td>2</td>\n",
       "      <td>MAJJI TULASIDASS</td>\n",
       "      <td>M</td>\n",
       "      <td>...</td>\n",
       "      <td>1.0</td>\n",
       "      <td>NaN</td>\n",
       "      <td>NaN</td>\n",
       "      <td>NaN</td>\n",
       "      <td>NaN</td>\n",
       "      <td>NaN</td>\n",
       "      <td>0.0</td>\n",
       "      <td>False</td>\n",
       "      <td>False</td>\n",
       "      <td>False</td>\n",
       "    </tr>\n",
       "    <tr>\n",
       "      <th>4</th>\n",
       "      <td>Andhra_Pradesh</td>\n",
       "      <td>3</td>\n",
       "      <td>2</td>\n",
       "      <td>1962.0</td>\n",
       "      <td>2</td>\n",
       "      <td>1</td>\n",
       "      <td>0</td>\n",
       "      <td>3</td>\n",
       "      <td>GANNI PADMANABHA RAO</td>\n",
       "      <td>M</td>\n",
       "      <td>...</td>\n",
       "      <td>1.0</td>\n",
       "      <td>NaN</td>\n",
       "      <td>NaN</td>\n",
       "      <td>NaN</td>\n",
       "      <td>NaN</td>\n",
       "      <td>NaN</td>\n",
       "      <td>0.0</td>\n",
       "      <td>False</td>\n",
       "      <td>False</td>\n",
       "      <td>False</td>\n",
       "    </tr>\n",
       "    <tr>\n",
       "      <th>...</th>\n",
       "      <td>...</td>\n",
       "      <td>...</td>\n",
       "      <td>...</td>\n",
       "      <td>...</td>\n",
       "      <td>...</td>\n",
       "      <td>...</td>\n",
       "      <td>...</td>\n",
       "      <td>...</td>\n",
       "      <td>...</td>\n",
       "      <td>...</td>\n",
       "      <td>...</td>\n",
       "      <td>...</td>\n",
       "      <td>...</td>\n",
       "      <td>...</td>\n",
       "      <td>...</td>\n",
       "      <td>...</td>\n",
       "      <td>...</td>\n",
       "      <td>...</td>\n",
       "      <td>...</td>\n",
       "      <td>...</td>\n",
       "      <td>...</td>\n",
       "    </tr>\n",
       "    <tr>\n",
       "      <th>464607</th>\n",
       "      <td>West_Bengal</td>\n",
       "      <td>17</td>\n",
       "      <td>294</td>\n",
       "      <td>2021.0</td>\n",
       "      <td>5</td>\n",
       "      <td>4</td>\n",
       "      <td>0</td>\n",
       "      <td>3</td>\n",
       "      <td>ASIF EKBAL</td>\n",
       "      <td>M</td>\n",
       "      <td>...</td>\n",
       "      <td>1.0</td>\n",
       "      <td>NaN</td>\n",
       "      <td>NaN</td>\n",
       "      <td>NaN</td>\n",
       "      <td>NaN</td>\n",
       "      <td>NaN</td>\n",
       "      <td>0.0</td>\n",
       "      <td>False</td>\n",
       "      <td>False</td>\n",
       "      <td>False</td>\n",
       "    </tr>\n",
       "    <tr>\n",
       "      <th>464608</th>\n",
       "      <td>West_Bengal</td>\n",
       "      <td>17</td>\n",
       "      <td>294</td>\n",
       "      <td>2021.0</td>\n",
       "      <td>5</td>\n",
       "      <td>4</td>\n",
       "      <td>0</td>\n",
       "      <td>4</td>\n",
       "      <td>ANSARUL SAIEKH</td>\n",
       "      <td>M</td>\n",
       "      <td>...</td>\n",
       "      <td>1.0</td>\n",
       "      <td>NaN</td>\n",
       "      <td>NaN</td>\n",
       "      <td>NaN</td>\n",
       "      <td>NaN</td>\n",
       "      <td>NaN</td>\n",
       "      <td>0.0</td>\n",
       "      <td>False</td>\n",
       "      <td>False</td>\n",
       "      <td>False</td>\n",
       "    </tr>\n",
       "    <tr>\n",
       "      <th>464609</th>\n",
       "      <td>West_Bengal</td>\n",
       "      <td>17</td>\n",
       "      <td>294</td>\n",
       "      <td>2021.0</td>\n",
       "      <td>5</td>\n",
       "      <td>4</td>\n",
       "      <td>0</td>\n",
       "      <td>5</td>\n",
       "      <td>TARAK LET</td>\n",
       "      <td>M</td>\n",
       "      <td>...</td>\n",
       "      <td>2.0</td>\n",
       "      <td>BSP</td>\n",
       "      <td>16651.0</td>\n",
       "      <td>RAMPURHAT</td>\n",
       "      <td>False</td>\n",
       "      <td>True</td>\n",
       "      <td>0.0</td>\n",
       "      <td>False</td>\n",
       "      <td>False</td>\n",
       "      <td>True</td>\n",
       "    </tr>\n",
       "    <tr>\n",
       "      <th>464610</th>\n",
       "      <td>West_Bengal</td>\n",
       "      <td>17</td>\n",
       "      <td>294</td>\n",
       "      <td>2021.0</td>\n",
       "      <td>5</td>\n",
       "      <td>4</td>\n",
       "      <td>0</td>\n",
       "      <td>6</td>\n",
       "      <td>None Of The Above</td>\n",
       "      <td>NaN</td>\n",
       "      <td>...</td>\n",
       "      <td>NaN</td>\n",
       "      <td>NaN</td>\n",
       "      <td>5897.0</td>\n",
       "      <td>NaN</td>\n",
       "      <td>NaN</td>\n",
       "      <td>NaN</td>\n",
       "      <td>NaN</td>\n",
       "      <td>NaN</td>\n",
       "      <td>False</td>\n",
       "      <td>False</td>\n",
       "    </tr>\n",
       "    <tr>\n",
       "      <th>464611</th>\n",
       "      <td>West_Bengal</td>\n",
       "      <td>17</td>\n",
       "      <td>294</td>\n",
       "      <td>2021.0</td>\n",
       "      <td>5</td>\n",
       "      <td>4</td>\n",
       "      <td>0</td>\n",
       "      <td>7</td>\n",
       "      <td>SAMSUL MIYA</td>\n",
       "      <td>M</td>\n",
       "      <td>...</td>\n",
       "      <td>2.0</td>\n",
       "      <td>RLD</td>\n",
       "      <td>12169.0</td>\n",
       "      <td>MURARAI</td>\n",
       "      <td>True</td>\n",
       "      <td>False</td>\n",
       "      <td>0.0</td>\n",
       "      <td>True</td>\n",
       "      <td>False</td>\n",
       "      <td>True</td>\n",
       "    </tr>\n",
       "  </tbody>\n",
       "</table>\n",
       "<p>464612 rows × 49 columns</p>\n",
       "</div>"
      ],
      "text/plain": [
       "            State_Name  Assembly_No  Constituency_No    Year  month  DelimID  \\\n",
       "0       Andhra_Pradesh            3                1  1962.0      2        1   \n",
       "1       Andhra_Pradesh            3                1  1962.0      2        1   \n",
       "2       Andhra_Pradesh            3                2  1962.0      2        1   \n",
       "3       Andhra_Pradesh            3                2  1962.0      2        1   \n",
       "4       Andhra_Pradesh            3                2  1962.0      2        1   \n",
       "...                ...          ...              ...     ...    ...      ...   \n",
       "464607     West_Bengal           17              294  2021.0      5        4   \n",
       "464608     West_Bengal           17              294  2021.0      5        4   \n",
       "464609     West_Bengal           17              294  2021.0      5        4   \n",
       "464610     West_Bengal           17              294  2021.0      5        4   \n",
       "464611     West_Bengal           17              294  2021.0      5        4   \n",
       "\n",
       "        Poll_No  Position             Candidate  Sex  ... Contested  \\\n",
       "0             0         1     KIRTI CHANDRA DEO    M  ...       1.0   \n",
       "1             0         2     DAKKATA PITAMBARU    M  ...       1.0   \n",
       "2             0         1      GOUTHU LATCHANNA    M  ...       1.0   \n",
       "3             0         2      MAJJI TULASIDASS    M  ...       1.0   \n",
       "4             0         3  GANNI PADMANABHA RAO    M  ...       1.0   \n",
       "...         ...       ...                   ...  ...  ...       ...   \n",
       "464607        0         3            ASIF EKBAL    M  ...       1.0   \n",
       "464608        0         4        ANSARUL SAIEKH    M  ...       1.0   \n",
       "464609        0         5             TARAK LET    M  ...       2.0   \n",
       "464610        0         6     None Of The Above  NaN  ...       NaN   \n",
       "464611        0         7           SAMSUL MIYA    M  ...       2.0   \n",
       "\n",
       "        Last_Party  Last_Party_ID Last_Constituency_Name  Same_Constituency  \\\n",
       "0              NaN            NaN                    NaN                NaN   \n",
       "1              NaN            NaN                    NaN                NaN   \n",
       "2              NaN            NaN                    NaN                NaN   \n",
       "3              NaN            NaN                    NaN                NaN   \n",
       "4              NaN            NaN                    NaN                NaN   \n",
       "...            ...            ...                    ...                ...   \n",
       "464607         NaN            NaN                    NaN                NaN   \n",
       "464608         NaN            NaN                    NaN                NaN   \n",
       "464609         BSP        16651.0              RAMPURHAT              False   \n",
       "464610         NaN         5897.0                    NaN                NaN   \n",
       "464611         RLD        12169.0                MURARAI               True   \n",
       "\n",
       "        Same_Party No_Terms Turncoat Incumbent Recontest  \n",
       "0              NaN      1.0    False     False     False  \n",
       "1              NaN      0.0    False     False     False  \n",
       "2              NaN      1.0    False     False     False  \n",
       "3              NaN      0.0    False     False     False  \n",
       "4              NaN      0.0    False     False     False  \n",
       "...            ...      ...      ...       ...       ...  \n",
       "464607         NaN      0.0    False     False     False  \n",
       "464608         NaN      0.0    False     False     False  \n",
       "464609        True      0.0    False     False      True  \n",
       "464610         NaN      NaN      NaN     False     False  \n",
       "464611       False      0.0     True     False      True  \n",
       "\n",
       "[464612 rows x 49 columns]"
      ]
     },
     "execution_count": 69,
     "metadata": {},
     "output_type": "execute_result"
    }
   ],
   "source": [
    "df"
   ]
  },
  {
   "cell_type": "code",
   "execution_count": 70,
   "id": "905d7797",
   "metadata": {},
   "outputs": [],
   "source": [
    "df_party_seat=df[(df['State_Name'].isin(states)) & (df['Position']==1) & (df['Poll_No']==0)]\n",
    "df_party_seat=df_assembly.merge(df_party_seat, how='left', on=['State_Name','Assembly_No'])\n",
    "\n",
    "df_party_seat=df_party_seat.groupby(['State_Name','Assembly_No','Party'])['Constituency_No'].count().reset_index()\n",
    "\n",
    "df_party_seat.sort_values(by=['State_Name','Assembly_No','Constituency_No'], ascending=False, inplace=True)\n",
    "\n",
    "df_party_seat=df_party_seat.merge(df_contestant[['State_Name','Assembly_No','total']], how='left', on=['State_Name','Assembly_No'])\n",
    "\n",
    "df_party_seat.rename({'Constituency_No':'Party_Seat'}, axis=1, inplace=True)\n",
    "\n",
    "df_party_seat['Party_Seat_Percentage']=np.nan\n",
    "\n",
    "df_party_seat['Party_Seat_Percentage']=df_party_seat['Party_Seat']*100/df_party_seat['total']\n",
    "\n"
   ]
  },
  {
   "cell_type": "code",
   "execution_count": 71,
   "id": "f5d07914",
   "metadata": {},
   "outputs": [],
   "source": [
    "df_party_seat['Party_Seat_Percentage']=round(df_party_seat['Party_Seat_Percentage'],2)\n",
    "df_party_seat.sort_values(by=['State_Name','Party_Seat_Percentage'], inplace=True, ascending=False)\n",
    "\n",
    "df_party_seat_k=df_party_seat.groupby(['State_Name']).apply(lambda x: x.nlargest(5, 'Party_Seat_Percentage'))\n",
    "df_party_seat_k=df_party_seat_k.set_index('State_Name')\n",
    "df_party_seat_k=df_party_seat_k.reset_index()\n",
    "df_party_seat_x=df_party_seat_k.append(df_party_seat)\n",
    "\n",
    "df_party_seat_other=df_party_seat_x.drop_duplicates(subset=['State_Name','Assembly_No','Party','Party_Seat','total','Party_Seat_Percentage'], keep=False)\n",
    "df_party_seat_o=df_party_seat_other.groupby(['State_Name','Assembly_No','total'])['Party_Seat_Percentage'].sum().reset_index()\n",
    "\n",
    "df_party_seat_p=df_party_seat_other.groupby(['State_Name','Assembly_No','total'])['Party_Seat'].sum().reset_index()\n",
    "df_party_seat_p['Party']='Other'\n",
    "df_party_seat_o=df_party_seat_o.merge(df_party_seat_p, how='left', on=['State_Name','Assembly_No','total'])\n",
    "df_party_seat_k=df_party_seat_k.append(df_party_seat_o).reset_index()"
   ]
  },
  {
   "cell_type": "code",
   "execution_count": 72,
   "id": "4b588525",
   "metadata": {},
   "outputs": [],
   "source": [
    "df_party_seat_k.to_csv('party_seat_share.csv')"
   ]
  },
  {
   "cell_type": "code",
   "execution_count": 75,
   "id": "5bdb80cf",
   "metadata": {},
   "outputs": [],
   "source": [
    "df_party_seat=pd.read_csv('./party_seat_share.csv')\n",
    "df_party_seat.drop(['Unnamed: 0','index'], axis=1, inplace=True)\n",
    "\n",
    "party_presence=df_party_seat.groupby(['Party'])['State_Name'].unique().reset_index()\n",
    "\n",
    "party_presence['count']=party_presence['State_Name'].str.len()\n",
    "\n",
    "party_presence=party_presence[party_presence['count']>1]\n",
    "\n",
    "party_presence=party_presence.explode('State_Name').merge(df_party_seat, how='left', on=['Party','State_Name'])\n",
    "\n",
    "party_presence=party_presence[party_presence['Party']!='Other']\n",
    "\n",
    "party_presence.to_csv('party_presence.csv')"
   ]
  }
 ],
 "metadata": {
  "kernelspec": {
   "display_name": "Python 3",
   "language": "python",
   "name": "python3"
  },
  "language_info": {
   "codemirror_mode": {
    "name": "ipython",
    "version": 3
   },
   "file_extension": ".py",
   "mimetype": "text/x-python",
   "name": "python",
   "nbconvert_exporter": "python",
   "pygments_lexer": "ipython3",
   "version": "3.8.8"
  }
 },
 "nbformat": 4,
 "nbformat_minor": 5
}
